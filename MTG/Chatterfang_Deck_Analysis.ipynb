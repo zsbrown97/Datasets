{
 "cells": [
  {
   "cell_type": "code",
   "execution_count": 1,
   "outputs": [],
   "source": [
    "from IPython.display import Image, HTML\n",
    "\n",
    "import pandas as pd"
   ],
   "metadata": {
    "collapsed": false,
    "pycharm": {
     "name": "#%%\n"
    }
   }
  },
  {
   "cell_type": "markdown",
   "source": [
    "# Chatterfang"
   ],
   "metadata": {
    "collapsed": false,
    "pycharm": {
     "name": "#%% md\n"
    }
   }
  },
  {
   "cell_type": "code",
   "execution_count": 2,
   "outputs": [
    {
     "data": {
      "text/plain": "    Count                           Name  \\\n0       1                  Acorn Harvest   \n1       1                      Arbor Elf   \n2       1          Beastmaster Ascension   \n3       1                   Blood Artist   \n4       1                     Bojuka Bog   \n..    ...                            ...   \n83      1               Cloakwood Hermit   \n84      1              Corpsejack Menace   \n85      1                Hardened Scales   \n86      1  Jaheira, Friend of the Forest   \n87      1            Winding Constrictor   \n\n                                    Type       Cost    Rarity     Section  \\\n0                                Sorcery     {3}{G}    Common        main   \n1                   Creature - Elf Druid        {G}    Common        main   \n2                            Enchantment     {2}{G}      Rare        main   \n3                     Creature - Vampire     {1}{B}  Uncommon        main   \n4                                   Land        NaN    Common        main   \n..                                   ...        ...       ...         ...   \n83    Legendary Enchantment - Background     {2}{G}  Uncommon   sideboard   \n84                     Creature - Fungus  {2}{B}{G}      Rare  scratchpad   \n85                           Enchantment        {G}      Rare  scratchpad   \n86  Legendary Creature - Human Elf Druid     {2}{G}      Rare  scratchpad   \n87                      Creature - Snake     {B}{G}  Uncommon  scratchpad   \n\n                                            Image URL  \\\n0   https://s.deckbox.org/system/images/mtg/cards/...   \n1   https://s.deckbox.org/system/images/mtg/cards/...   \n2   https://s.deckbox.org/system/images/mtg/cards/...   \n3   https://s.deckbox.org/system/images/mtg/cards/...   \n4   https://s.deckbox.org/system/images/mtg/cards/...   \n..                                                ...   \n83  https://s.deckbox.org/system/images/mtg/cards/...   \n84  https://s.deckbox.org/system/images/mtg/cards/...   \n85  https://s.deckbox.org/system/images/mtg/cards/...   \n86  https://s.deckbox.org/system/images/mtg/cards/...   \n87  https://s.deckbox.org/system/images/mtg/cards/...   \n\n                                        Edition  Card Number  Condition  \\\n0                                       Torment          NaN        NaN   \n1                                    Masters 25          NaN        NaN   \n2                                Commander 2016          NaN        NaN   \n3                                Commander 2017          NaN        NaN   \n4                                Commander 2020          NaN        NaN   \n..                                          ...          ...        ...   \n83  Commander Legends: Battle for Baldur's Gate          NaN        NaN   \n84                Commander Anthology Volume II          NaN        NaN   \n85                Commander Anthology Volume II          NaN        NaN   \n86  Commander Legends: Battle for Baldur's Gate          NaN        NaN   \n87                                Aether Revolt          NaN        NaN   \n\n    Language  Foil  Signed  Artist Proof  Altered Art  Misprint  \n0        NaN   NaN     NaN           NaN          NaN       NaN  \n1        NaN   NaN     NaN           NaN          NaN       NaN  \n2        NaN   NaN     NaN           NaN          NaN       NaN  \n3        NaN   NaN     NaN           NaN          NaN       NaN  \n4        NaN   NaN     NaN           NaN          NaN       NaN  \n..       ...   ...     ...           ...          ...       ...  \n83       NaN   NaN     NaN           NaN          NaN       NaN  \n84       NaN   NaN     NaN           NaN          NaN       NaN  \n85       NaN   NaN     NaN           NaN          NaN       NaN  \n86       NaN   NaN     NaN           NaN          NaN       NaN  \n87       NaN   NaN     NaN           NaN          NaN       NaN  \n\n[88 rows x 16 columns]",
      "text/html": "<div>\n<style scoped>\n    .dataframe tbody tr th:only-of-type {\n        vertical-align: middle;\n    }\n\n    .dataframe tbody tr th {\n        vertical-align: top;\n    }\n\n    .dataframe thead th {\n        text-align: right;\n    }\n</style>\n<table border=\"1\" class=\"dataframe\">\n  <thead>\n    <tr style=\"text-align: right;\">\n      <th></th>\n      <th>Count</th>\n      <th>Name</th>\n      <th>Type</th>\n      <th>Cost</th>\n      <th>Rarity</th>\n      <th>Section</th>\n      <th>Image URL</th>\n      <th>Edition</th>\n      <th>Card Number</th>\n      <th>Condition</th>\n      <th>Language</th>\n      <th>Foil</th>\n      <th>Signed</th>\n      <th>Artist Proof</th>\n      <th>Altered Art</th>\n      <th>Misprint</th>\n    </tr>\n  </thead>\n  <tbody>\n    <tr>\n      <th>0</th>\n      <td>1</td>\n      <td>Acorn Harvest</td>\n      <td>Sorcery</td>\n      <td>{3}{G}</td>\n      <td>Common</td>\n      <td>main</td>\n      <td>https://s.deckbox.org/system/images/mtg/cards/...</td>\n      <td>Torment</td>\n      <td>NaN</td>\n      <td>NaN</td>\n      <td>NaN</td>\n      <td>NaN</td>\n      <td>NaN</td>\n      <td>NaN</td>\n      <td>NaN</td>\n      <td>NaN</td>\n    </tr>\n    <tr>\n      <th>1</th>\n      <td>1</td>\n      <td>Arbor Elf</td>\n      <td>Creature - Elf Druid</td>\n      <td>{G}</td>\n      <td>Common</td>\n      <td>main</td>\n      <td>https://s.deckbox.org/system/images/mtg/cards/...</td>\n      <td>Masters 25</td>\n      <td>NaN</td>\n      <td>NaN</td>\n      <td>NaN</td>\n      <td>NaN</td>\n      <td>NaN</td>\n      <td>NaN</td>\n      <td>NaN</td>\n      <td>NaN</td>\n    </tr>\n    <tr>\n      <th>2</th>\n      <td>1</td>\n      <td>Beastmaster Ascension</td>\n      <td>Enchantment</td>\n      <td>{2}{G}</td>\n      <td>Rare</td>\n      <td>main</td>\n      <td>https://s.deckbox.org/system/images/mtg/cards/...</td>\n      <td>Commander 2016</td>\n      <td>NaN</td>\n      <td>NaN</td>\n      <td>NaN</td>\n      <td>NaN</td>\n      <td>NaN</td>\n      <td>NaN</td>\n      <td>NaN</td>\n      <td>NaN</td>\n    </tr>\n    <tr>\n      <th>3</th>\n      <td>1</td>\n      <td>Blood Artist</td>\n      <td>Creature - Vampire</td>\n      <td>{1}{B}</td>\n      <td>Uncommon</td>\n      <td>main</td>\n      <td>https://s.deckbox.org/system/images/mtg/cards/...</td>\n      <td>Commander 2017</td>\n      <td>NaN</td>\n      <td>NaN</td>\n      <td>NaN</td>\n      <td>NaN</td>\n      <td>NaN</td>\n      <td>NaN</td>\n      <td>NaN</td>\n      <td>NaN</td>\n    </tr>\n    <tr>\n      <th>4</th>\n      <td>1</td>\n      <td>Bojuka Bog</td>\n      <td>Land</td>\n      <td>NaN</td>\n      <td>Common</td>\n      <td>main</td>\n      <td>https://s.deckbox.org/system/images/mtg/cards/...</td>\n      <td>Commander 2020</td>\n      <td>NaN</td>\n      <td>NaN</td>\n      <td>NaN</td>\n      <td>NaN</td>\n      <td>NaN</td>\n      <td>NaN</td>\n      <td>NaN</td>\n      <td>NaN</td>\n    </tr>\n    <tr>\n      <th>...</th>\n      <td>...</td>\n      <td>...</td>\n      <td>...</td>\n      <td>...</td>\n      <td>...</td>\n      <td>...</td>\n      <td>...</td>\n      <td>...</td>\n      <td>...</td>\n      <td>...</td>\n      <td>...</td>\n      <td>...</td>\n      <td>...</td>\n      <td>...</td>\n      <td>...</td>\n      <td>...</td>\n    </tr>\n    <tr>\n      <th>83</th>\n      <td>1</td>\n      <td>Cloakwood Hermit</td>\n      <td>Legendary Enchantment - Background</td>\n      <td>{2}{G}</td>\n      <td>Uncommon</td>\n      <td>sideboard</td>\n      <td>https://s.deckbox.org/system/images/mtg/cards/...</td>\n      <td>Commander Legends: Battle for Baldur's Gate</td>\n      <td>NaN</td>\n      <td>NaN</td>\n      <td>NaN</td>\n      <td>NaN</td>\n      <td>NaN</td>\n      <td>NaN</td>\n      <td>NaN</td>\n      <td>NaN</td>\n    </tr>\n    <tr>\n      <th>84</th>\n      <td>1</td>\n      <td>Corpsejack Menace</td>\n      <td>Creature - Fungus</td>\n      <td>{2}{B}{G}</td>\n      <td>Rare</td>\n      <td>scratchpad</td>\n      <td>https://s.deckbox.org/system/images/mtg/cards/...</td>\n      <td>Commander Anthology Volume II</td>\n      <td>NaN</td>\n      <td>NaN</td>\n      <td>NaN</td>\n      <td>NaN</td>\n      <td>NaN</td>\n      <td>NaN</td>\n      <td>NaN</td>\n      <td>NaN</td>\n    </tr>\n    <tr>\n      <th>85</th>\n      <td>1</td>\n      <td>Hardened Scales</td>\n      <td>Enchantment</td>\n      <td>{G}</td>\n      <td>Rare</td>\n      <td>scratchpad</td>\n      <td>https://s.deckbox.org/system/images/mtg/cards/...</td>\n      <td>Commander Anthology Volume II</td>\n      <td>NaN</td>\n      <td>NaN</td>\n      <td>NaN</td>\n      <td>NaN</td>\n      <td>NaN</td>\n      <td>NaN</td>\n      <td>NaN</td>\n      <td>NaN</td>\n    </tr>\n    <tr>\n      <th>86</th>\n      <td>1</td>\n      <td>Jaheira, Friend of the Forest</td>\n      <td>Legendary Creature - Human Elf Druid</td>\n      <td>{2}{G}</td>\n      <td>Rare</td>\n      <td>scratchpad</td>\n      <td>https://s.deckbox.org/system/images/mtg/cards/...</td>\n      <td>Commander Legends: Battle for Baldur's Gate</td>\n      <td>NaN</td>\n      <td>NaN</td>\n      <td>NaN</td>\n      <td>NaN</td>\n      <td>NaN</td>\n      <td>NaN</td>\n      <td>NaN</td>\n      <td>NaN</td>\n    </tr>\n    <tr>\n      <th>87</th>\n      <td>1</td>\n      <td>Winding Constrictor</td>\n      <td>Creature - Snake</td>\n      <td>{B}{G}</td>\n      <td>Uncommon</td>\n      <td>scratchpad</td>\n      <td>https://s.deckbox.org/system/images/mtg/cards/...</td>\n      <td>Aether Revolt</td>\n      <td>NaN</td>\n      <td>NaN</td>\n      <td>NaN</td>\n      <td>NaN</td>\n      <td>NaN</td>\n      <td>NaN</td>\n      <td>NaN</td>\n      <td>NaN</td>\n    </tr>\n  </tbody>\n</table>\n<p>88 rows × 16 columns</p>\n</div>"
     },
     "execution_count": 2,
     "metadata": {},
     "output_type": "execute_result"
    }
   ],
   "source": [
    "cf = pd.DataFrame(pd.read_csv('./Decks/Chatterfang_EDH.csv'))\n",
    "cf"
   ],
   "metadata": {
    "collapsed": false,
    "pycharm": {
     "name": "#%%\n"
    }
   }
  },
  {
   "cell_type": "code",
   "execution_count": 3,
   "outputs": [
    {
     "data": {
      "text/plain": "                            Count                         Type    Cost  \\\nName                                                                     \nAcorn Harvest                   1                      Sorcery  {3}{G}   \nArbor Elf                       1         Creature - Elf Druid     {G}   \nBeastmaster Ascension           1                  Enchantment  {2}{G}   \nBlood Artist                    1           Creature - Vampire  {1}{B}   \nBojuka Bog                      1                         Land     NaN   \n...                           ...                          ...     ...   \nWild Growth                     1           Enchantment - Aura     {G}   \nWitherbloom Campus              1                         Land     NaN   \nWoodland Cemetery               1                         Land     NaN   \nYavimaya, Cradle of Growth      1               Legendary Land     NaN   \nZulaport Cutthroat              1  Creature - Human Rogue Ally  {1}{B}   \n\n                              Rarity  \\\nName                                   \nAcorn Harvest                 Common   \nArbor Elf                     Common   \nBeastmaster Ascension           Rare   \nBlood Artist                Uncommon   \nBojuka Bog                    Common   \n...                              ...   \nWild Growth                   Common   \nWitherbloom Campus            Common   \nWoodland Cemetery               Rare   \nYavimaya, Cradle of Growth      Rare   \nZulaport Cutthroat          Uncommon   \n\n                                                                    Image URL  \\\nName                                                                            \nAcorn Harvest               https://s.deckbox.org/system/images/mtg/cards/...   \nArbor Elf                   https://s.deckbox.org/system/images/mtg/cards/...   \nBeastmaster Ascension       https://s.deckbox.org/system/images/mtg/cards/...   \nBlood Artist                https://s.deckbox.org/system/images/mtg/cards/...   \nBojuka Bog                  https://s.deckbox.org/system/images/mtg/cards/...   \n...                                                                       ...   \nWild Growth                 https://s.deckbox.org/system/images/mtg/cards/...   \nWitherbloom Campus          https://s.deckbox.org/system/images/mtg/cards/...   \nWoodland Cemetery           https://s.deckbox.org/system/images/mtg/cards/...   \nYavimaya, Cradle of Growth  https://s.deckbox.org/system/images/mtg/cards/...   \nZulaport Cutthroat          https://s.deckbox.org/system/images/mtg/cards/...   \n\n                                                Edition  \nName                                                     \nAcorn Harvest                                   Torment  \nArbor Elf                                    Masters 25  \nBeastmaster Ascension                    Commander 2016  \nBlood Artist                             Commander 2017  \nBojuka Bog                               Commander 2020  \n...                                                 ...  \nWild Growth                              Commander 2018  \nWitherbloom Campus          Strixhaven: School of Mages  \nWoodland Cemetery                             Dominaria  \nYavimaya, Cradle of Growth            Modern Horizons 2  \nZulaport Cutthroat                       Commander 2020  \n\n[83 rows x 6 columns]",
      "text/html": "<div>\n<style scoped>\n    .dataframe tbody tr th:only-of-type {\n        vertical-align: middle;\n    }\n\n    .dataframe tbody tr th {\n        vertical-align: top;\n    }\n\n    .dataframe thead th {\n        text-align: right;\n    }\n</style>\n<table border=\"1\" class=\"dataframe\">\n  <thead>\n    <tr style=\"text-align: right;\">\n      <th></th>\n      <th>Count</th>\n      <th>Type</th>\n      <th>Cost</th>\n      <th>Rarity</th>\n      <th>Image URL</th>\n      <th>Edition</th>\n    </tr>\n    <tr>\n      <th>Name</th>\n      <th></th>\n      <th></th>\n      <th></th>\n      <th></th>\n      <th></th>\n      <th></th>\n    </tr>\n  </thead>\n  <tbody>\n    <tr>\n      <th>Acorn Harvest</th>\n      <td>1</td>\n      <td>Sorcery</td>\n      <td>{3}{G}</td>\n      <td>Common</td>\n      <td>https://s.deckbox.org/system/images/mtg/cards/...</td>\n      <td>Torment</td>\n    </tr>\n    <tr>\n      <th>Arbor Elf</th>\n      <td>1</td>\n      <td>Creature - Elf Druid</td>\n      <td>{G}</td>\n      <td>Common</td>\n      <td>https://s.deckbox.org/system/images/mtg/cards/...</td>\n      <td>Masters 25</td>\n    </tr>\n    <tr>\n      <th>Beastmaster Ascension</th>\n      <td>1</td>\n      <td>Enchantment</td>\n      <td>{2}{G}</td>\n      <td>Rare</td>\n      <td>https://s.deckbox.org/system/images/mtg/cards/...</td>\n      <td>Commander 2016</td>\n    </tr>\n    <tr>\n      <th>Blood Artist</th>\n      <td>1</td>\n      <td>Creature - Vampire</td>\n      <td>{1}{B}</td>\n      <td>Uncommon</td>\n      <td>https://s.deckbox.org/system/images/mtg/cards/...</td>\n      <td>Commander 2017</td>\n    </tr>\n    <tr>\n      <th>Bojuka Bog</th>\n      <td>1</td>\n      <td>Land</td>\n      <td>NaN</td>\n      <td>Common</td>\n      <td>https://s.deckbox.org/system/images/mtg/cards/...</td>\n      <td>Commander 2020</td>\n    </tr>\n    <tr>\n      <th>...</th>\n      <td>...</td>\n      <td>...</td>\n      <td>...</td>\n      <td>...</td>\n      <td>...</td>\n      <td>...</td>\n    </tr>\n    <tr>\n      <th>Wild Growth</th>\n      <td>1</td>\n      <td>Enchantment - Aura</td>\n      <td>{G}</td>\n      <td>Common</td>\n      <td>https://s.deckbox.org/system/images/mtg/cards/...</td>\n      <td>Commander 2018</td>\n    </tr>\n    <tr>\n      <th>Witherbloom Campus</th>\n      <td>1</td>\n      <td>Land</td>\n      <td>NaN</td>\n      <td>Common</td>\n      <td>https://s.deckbox.org/system/images/mtg/cards/...</td>\n      <td>Strixhaven: School of Mages</td>\n    </tr>\n    <tr>\n      <th>Woodland Cemetery</th>\n      <td>1</td>\n      <td>Land</td>\n      <td>NaN</td>\n      <td>Rare</td>\n      <td>https://s.deckbox.org/system/images/mtg/cards/...</td>\n      <td>Dominaria</td>\n    </tr>\n    <tr>\n      <th>Yavimaya, Cradle of Growth</th>\n      <td>1</td>\n      <td>Legendary Land</td>\n      <td>NaN</td>\n      <td>Rare</td>\n      <td>https://s.deckbox.org/system/images/mtg/cards/...</td>\n      <td>Modern Horizons 2</td>\n    </tr>\n    <tr>\n      <th>Zulaport Cutthroat</th>\n      <td>1</td>\n      <td>Creature - Human Rogue Ally</td>\n      <td>{1}{B}</td>\n      <td>Uncommon</td>\n      <td>https://s.deckbox.org/system/images/mtg/cards/...</td>\n      <td>Commander 2020</td>\n    </tr>\n  </tbody>\n</table>\n<p>83 rows × 6 columns</p>\n</div>"
     },
     "execution_count": 3,
     "metadata": {},
     "output_type": "execute_result"
    }
   ],
   "source": [
    "cf = cf[cf['Section'].str.contains('scratchpad|sideboard') == False]\n",
    "cf = cf.reset_index(drop=True)\\\n",
    "    .set_index(cf['Name'])\\\n",
    "    .drop(['Name', 'Section', 'Card Number', 'Condition', 'Language', 'Foil', 'Signed', 'Artist Proof', 'Altered Art', 'Misprint'], axis=1)\n",
    "cf"
   ],
   "metadata": {
    "collapsed": false,
    "pycharm": {
     "name": "#%%\n"
    }
   }
  },
  {
   "cell_type": "code",
   "execution_count": 4,
   "outputs": [],
   "source": [
    "cfCreatures = cf[cf['Type'].str.contains('Creature')].drop(['Count'], axis=1)\n",
    "cfCreatures = cfCreatures.replace('(?:Creature - )','',regex=True, inplace = True)\n",
    "\n",
    "cfInstants = cf[cf['Type'].str.contains('Instant')].drop(['Count', 'Type'], axis=1)\n",
    "\n",
    "cfSorceries = cf[cf['Type'].str.contains('Sorcery')].drop(['Count', 'Type'], axis=1)\n",
    "\n",
    "cfArtifacts = cf[cf['Type'].str.contains('Artifact')].drop(['Count'], axis=1)\n",
    "\n",
    "cfEnchantments = cf[cf['Type'].str.contains('Enchantment')].drop(['Count'], axis=1)\n",
    "\n",
    "cfPlaneswalkers = cf[cf['Type'].str.contains('Planeswalker')].drop(['Count'], axis=1)\n",
    "\n",
    "cfLands = cf[cf['Type'].str.contains('Land')].drop(['Cost'], axis=1)"
   ],
   "metadata": {
    "collapsed": false,
    "pycharm": {
     "name": "#%%\n"
    }
   }
  },
  {
   "cell_type": "code",
   "execution_count": 5,
   "outputs": [
    {
     "data": {
      "text/plain": "                                 Cost    Rarity  \\\nName                                              \nAcorn Harvest                  {3}{G}    Common   \nChatter of the Squirrel           {G}    Common   \nChatterstorm                   {1}{G}    Common   \nCulling Ritual              {2}{B}{G}      Rare   \nCultivate                      {2}{G}    Common   \nDig Up                            {G}      Rare   \nEzuri's Predation        {5}{G}{G}{G}      Rare   \nIncremental Growth          {3}{G}{G}  Uncommon   \nLife's Finale               {4}{B}{B}      Rare   \nNature's Lore                  {1}{G}    Common   \nRampant Growth                 {1}{G}    Common   \nShamanic Revelation         {3}{G}{G}      Rare   \n\n                                                                 Image URL  \\\nName                                                                         \nAcorn Harvest            https://s.deckbox.org/system/images/mtg/cards/...   \nChatter of the Squirrel  https://s.deckbox.org/system/images/mtg/cards/...   \nChatterstorm             https://s.deckbox.org/system/images/mtg/cards/...   \nCulling Ritual           https://s.deckbox.org/system/images/mtg/cards/...   \nCultivate                https://s.deckbox.org/system/images/mtg/cards/...   \nDig Up                   https://s.deckbox.org/system/images/mtg/cards/...   \nEzuri's Predation        https://s.deckbox.org/system/images/mtg/cards/...   \nIncremental Growth       https://s.deckbox.org/system/images/mtg/cards/...   \nLife's Finale            https://s.deckbox.org/system/images/mtg/cards/...   \nNature's Lore            https://s.deckbox.org/system/images/mtg/cards/...   \nRampant Growth           https://s.deckbox.org/system/images/mtg/cards/...   \nShamanic Revelation      https://s.deckbox.org/system/images/mtg/cards/...   \n\n                                             Edition  \nName                                                  \nAcorn Harvest                                Torment  \nChatter of the Squirrel                      Odyssey  \nChatterstorm                       Modern Horizons 2  \nCulling Ritual           Strixhaven: School of Mages  \nCultivate                          Commander Legends  \nDig Up                        Innistrad: Crimson Vow  \nEzuri's Predation                     Commander 2015  \nIncremental Growth                   Khans of Tarkir  \nLife's Finale                           New Phyrexia  \nNature's Lore                          Fifth Edition  \nRampant Growth                     Commander Legends  \nShamanic Revelation                   Commander 2019  ",
      "text/html": "<div>\n<style scoped>\n    .dataframe tbody tr th:only-of-type {\n        vertical-align: middle;\n    }\n\n    .dataframe tbody tr th {\n        vertical-align: top;\n    }\n\n    .dataframe thead th {\n        text-align: right;\n    }\n</style>\n<table border=\"1\" class=\"dataframe\">\n  <thead>\n    <tr style=\"text-align: right;\">\n      <th></th>\n      <th>Cost</th>\n      <th>Rarity</th>\n      <th>Image URL</th>\n      <th>Edition</th>\n    </tr>\n    <tr>\n      <th>Name</th>\n      <th></th>\n      <th></th>\n      <th></th>\n      <th></th>\n    </tr>\n  </thead>\n  <tbody>\n    <tr>\n      <th>Acorn Harvest</th>\n      <td>{3}{G}</td>\n      <td>Common</td>\n      <td>https://s.deckbox.org/system/images/mtg/cards/...</td>\n      <td>Torment</td>\n    </tr>\n    <tr>\n      <th>Chatter of the Squirrel</th>\n      <td>{G}</td>\n      <td>Common</td>\n      <td>https://s.deckbox.org/system/images/mtg/cards/...</td>\n      <td>Odyssey</td>\n    </tr>\n    <tr>\n      <th>Chatterstorm</th>\n      <td>{1}{G}</td>\n      <td>Common</td>\n      <td>https://s.deckbox.org/system/images/mtg/cards/...</td>\n      <td>Modern Horizons 2</td>\n    </tr>\n    <tr>\n      <th>Culling Ritual</th>\n      <td>{2}{B}{G}</td>\n      <td>Rare</td>\n      <td>https://s.deckbox.org/system/images/mtg/cards/...</td>\n      <td>Strixhaven: School of Mages</td>\n    </tr>\n    <tr>\n      <th>Cultivate</th>\n      <td>{2}{G}</td>\n      <td>Common</td>\n      <td>https://s.deckbox.org/system/images/mtg/cards/...</td>\n      <td>Commander Legends</td>\n    </tr>\n    <tr>\n      <th>Dig Up</th>\n      <td>{G}</td>\n      <td>Rare</td>\n      <td>https://s.deckbox.org/system/images/mtg/cards/...</td>\n      <td>Innistrad: Crimson Vow</td>\n    </tr>\n    <tr>\n      <th>Ezuri's Predation</th>\n      <td>{5}{G}{G}{G}</td>\n      <td>Rare</td>\n      <td>https://s.deckbox.org/system/images/mtg/cards/...</td>\n      <td>Commander 2015</td>\n    </tr>\n    <tr>\n      <th>Incremental Growth</th>\n      <td>{3}{G}{G}</td>\n      <td>Uncommon</td>\n      <td>https://s.deckbox.org/system/images/mtg/cards/...</td>\n      <td>Khans of Tarkir</td>\n    </tr>\n    <tr>\n      <th>Life's Finale</th>\n      <td>{4}{B}{B}</td>\n      <td>Rare</td>\n      <td>https://s.deckbox.org/system/images/mtg/cards/...</td>\n      <td>New Phyrexia</td>\n    </tr>\n    <tr>\n      <th>Nature's Lore</th>\n      <td>{1}{G}</td>\n      <td>Common</td>\n      <td>https://s.deckbox.org/system/images/mtg/cards/...</td>\n      <td>Fifth Edition</td>\n    </tr>\n    <tr>\n      <th>Rampant Growth</th>\n      <td>{1}{G}</td>\n      <td>Common</td>\n      <td>https://s.deckbox.org/system/images/mtg/cards/...</td>\n      <td>Commander Legends</td>\n    </tr>\n    <tr>\n      <th>Shamanic Revelation</th>\n      <td>{3}{G}{G}</td>\n      <td>Rare</td>\n      <td>https://s.deckbox.org/system/images/mtg/cards/...</td>\n      <td>Commander 2019</td>\n    </tr>\n  </tbody>\n</table>\n</div>"
     },
     "execution_count": 5,
     "metadata": {},
     "output_type": "execute_result"
    }
   ],
   "source": [
    "cfSorceries"
   ],
   "metadata": {
    "collapsed": false,
    "pycharm": {
     "name": "#%%\n"
    }
   }
  },
  {
   "cell_type": "code",
   "execution_count": 5,
   "outputs": [],
   "source": [],
   "metadata": {
    "collapsed": false,
    "pycharm": {
     "name": "#%%\n"
    }
   }
  }
 ],
 "metadata": {
  "kernelspec": {
   "display_name": "Python 3",
   "language": "python",
   "name": "python3"
  },
  "language_info": {
   "codemirror_mode": {
    "name": "ipython",
    "version": 2
   },
   "file_extension": ".py",
   "mimetype": "text/x-python",
   "name": "python",
   "nbconvert_exporter": "python",
   "pygments_lexer": "ipython2",
   "version": "2.7.6"
  }
 },
 "nbformat": 4,
 "nbformat_minor": 0
}