{
 "cells": [
  {
   "cell_type": "code",
   "execution_count": 1,
   "outputs": [],
   "source": [
    "import pandas as pd"
   ],
   "metadata": {
    "collapsed": false,
    "pycharm": {
     "name": "#%%\n"
    }
   }
  },
  {
   "cell_type": "code",
   "execution_count": 6,
   "outputs": [
    {
     "data": {
      "text/plain": "           date         version code  \\\nmeta 2022-08-05  5.2.0+20220805  NaN   \ndata        NaT             NaN  C18   \n\n                                              commander  \\\nmeta                                                NaN   \ndata  [{'artist': 'Ryan Pancoast', 'availability': [...   \n\n                                              mainBoard                 name  \\\nmeta                                                NaN                  NaN   \ndata  [{'artist': 'Zack Stella', 'availability': ['p...  Exquisite Invention   \n\n     releaseDate sideBoard            type  \nmeta         NaN       NaN             NaN  \ndata  2018-08-10        []  Commander Deck  ",
      "text/html": "<div>\n<style scoped>\n    .dataframe tbody tr th:only-of-type {\n        vertical-align: middle;\n    }\n\n    .dataframe tbody tr th {\n        vertical-align: top;\n    }\n\n    .dataframe thead th {\n        text-align: right;\n    }\n</style>\n<table border=\"1\" class=\"dataframe\">\n  <thead>\n    <tr style=\"text-align: right;\">\n      <th></th>\n      <th>date</th>\n      <th>version</th>\n      <th>code</th>\n      <th>commander</th>\n      <th>mainBoard</th>\n      <th>name</th>\n      <th>releaseDate</th>\n      <th>sideBoard</th>\n      <th>type</th>\n    </tr>\n  </thead>\n  <tbody>\n    <tr>\n      <th>meta</th>\n      <td>2022-08-05</td>\n      <td>5.2.0+20220805</td>\n      <td>NaN</td>\n      <td>NaN</td>\n      <td>NaN</td>\n      <td>NaN</td>\n      <td>NaN</td>\n      <td>NaN</td>\n      <td>NaN</td>\n    </tr>\n    <tr>\n      <th>data</th>\n      <td>NaT</td>\n      <td>NaN</td>\n      <td>C18</td>\n      <td>[{'artist': 'Ryan Pancoast', 'availability': [...</td>\n      <td>[{'artist': 'Zack Stella', 'availability': ['p...</td>\n      <td>Exquisite Invention</td>\n      <td>2018-08-10</td>\n      <td>[]</td>\n      <td>Commander Deck</td>\n    </tr>\n  </tbody>\n</table>\n</div>"
     },
     "execution_count": 6,
     "metadata": {},
     "output_type": "execute_result"
    }
   ],
   "source": [
    "df = pd.read_json('./Decks/ExquisiteInvention_C18.json', orient = 'index')\n",
    "df"
   ],
   "metadata": {
    "collapsed": false,
    "pycharm": {
     "name": "#%%\n"
    }
   }
  },
  {
   "cell_type": "code",
   "execution_count": null,
   "outputs": [],
   "source": [],
   "metadata": {
    "collapsed": false,
    "pycharm": {
     "name": "#%%\n"
    }
   }
  }
 ],
 "metadata": {
  "kernelspec": {
   "display_name": "Python 3",
   "language": "python",
   "name": "python3"
  },
  "language_info": {
   "codemirror_mode": {
    "name": "ipython",
    "version": 2
   },
   "file_extension": ".py",
   "mimetype": "text/x-python",
   "name": "python",
   "nbconvert_exporter": "python",
   "pygments_lexer": "ipython2",
   "version": "2.7.6"
  }
 },
 "nbformat": 4,
 "nbformat_minor": 0
}