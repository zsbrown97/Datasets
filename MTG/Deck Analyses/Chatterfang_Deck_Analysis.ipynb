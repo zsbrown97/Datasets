{
 "cells": [
  {
   "cell_type": "markdown",
   "source": [],
   "metadata": {
    "collapsed": false,
    "pycharm": {
     "name": "#%% md\n"
    }
   }
  },
  {
   "cell_type": "code",
   "execution_count": 15,
   "outputs": [],
   "source": [
    "import pandas as pd\n",
    "\n",
    "from deckbox_formatter import *\n",
    "\n",
    "data = '../Decks/Chatterfang_EDH.csv'"
   ],
   "metadata": {
    "collapsed": false,
    "pycharm": {
     "name": "#%%\n"
    }
   }
  },
  {
   "cell_type": "markdown",
   "source": [
    "# Chatterfang"
   ],
   "metadata": {
    "collapsed": false,
    "pycharm": {
     "name": "#%% md\n"
    }
   }
  },
  {
   "cell_type": "code",
   "execution_count": 20,
   "outputs": [
    {
     "data": {
      "text/plain": "                            Count                         Type    Cost  \\\nName                                                                     \nAcorn Harvest                   1                      Sorcery  {3}{G}   \nArbor Elf                       1         Creature - Elf Druid     {G}   \nBeastmaster Ascension           1                  Enchantment  {2}{G}   \nBlood Artist                    1           Creature - Vampire  {1}{B}   \nBojuka Bog                      1                         Land     NaN   \n...                           ...                          ...     ...   \nWild Growth                     1           Enchantment - Aura     {G}   \nWitherbloom Campus              1                         Land     NaN   \nWoodland Cemetery               1                         Land     NaN   \nYavimaya, Cradle of Growth      1               Legendary Land     NaN   \nZulaport Cutthroat              1  Creature - Human Rogue Ally  {1}{B}   \n\n                              Rarity                      Edition  \nName                                                               \nAcorn Harvest                 Common                      Torment  \nArbor Elf                     Common                   Masters 25  \nBeastmaster Ascension           Rare               Commander 2016  \nBlood Artist                Uncommon               Commander 2017  \nBojuka Bog                    Common               Commander 2020  \n...                              ...                          ...  \nWild Growth                   Common               Commander 2018  \nWitherbloom Campus            Common  Strixhaven: School of Mages  \nWoodland Cemetery               Rare                    Dominaria  \nYavimaya, Cradle of Growth      Rare            Modern Horizons 2  \nZulaport Cutthroat          Uncommon               Commander 2020  \n\n[83 rows x 5 columns]",
      "text/html": "<div>\n<style scoped>\n    .dataframe tbody tr th:only-of-type {\n        vertical-align: middle;\n    }\n\n    .dataframe tbody tr th {\n        vertical-align: top;\n    }\n\n    .dataframe thead th {\n        text-align: right;\n    }\n</style>\n<table border=\"1\" class=\"dataframe\">\n  <thead>\n    <tr style=\"text-align: right;\">\n      <th></th>\n      <th>Count</th>\n      <th>Type</th>\n      <th>Cost</th>\n      <th>Rarity</th>\n      <th>Edition</th>\n    </tr>\n    <tr>\n      <th>Name</th>\n      <th></th>\n      <th></th>\n      <th></th>\n      <th></th>\n      <th></th>\n    </tr>\n  </thead>\n  <tbody>\n    <tr>\n      <th>Acorn Harvest</th>\n      <td>1</td>\n      <td>Sorcery</td>\n      <td>{3}{G}</td>\n      <td>Common</td>\n      <td>Torment</td>\n    </tr>\n    <tr>\n      <th>Arbor Elf</th>\n      <td>1</td>\n      <td>Creature - Elf Druid</td>\n      <td>{G}</td>\n      <td>Common</td>\n      <td>Masters 25</td>\n    </tr>\n    <tr>\n      <th>Beastmaster Ascension</th>\n      <td>1</td>\n      <td>Enchantment</td>\n      <td>{2}{G}</td>\n      <td>Rare</td>\n      <td>Commander 2016</td>\n    </tr>\n    <tr>\n      <th>Blood Artist</th>\n      <td>1</td>\n      <td>Creature - Vampire</td>\n      <td>{1}{B}</td>\n      <td>Uncommon</td>\n      <td>Commander 2017</td>\n    </tr>\n    <tr>\n      <th>Bojuka Bog</th>\n      <td>1</td>\n      <td>Land</td>\n      <td>NaN</td>\n      <td>Common</td>\n      <td>Commander 2020</td>\n    </tr>\n    <tr>\n      <th>...</th>\n      <td>...</td>\n      <td>...</td>\n      <td>...</td>\n      <td>...</td>\n      <td>...</td>\n    </tr>\n    <tr>\n      <th>Wild Growth</th>\n      <td>1</td>\n      <td>Enchantment - Aura</td>\n      <td>{G}</td>\n      <td>Common</td>\n      <td>Commander 2018</td>\n    </tr>\n    <tr>\n      <th>Witherbloom Campus</th>\n      <td>1</td>\n      <td>Land</td>\n      <td>NaN</td>\n      <td>Common</td>\n      <td>Strixhaven: School of Mages</td>\n    </tr>\n    <tr>\n      <th>Woodland Cemetery</th>\n      <td>1</td>\n      <td>Land</td>\n      <td>NaN</td>\n      <td>Rare</td>\n      <td>Dominaria</td>\n    </tr>\n    <tr>\n      <th>Yavimaya, Cradle of Growth</th>\n      <td>1</td>\n      <td>Legendary Land</td>\n      <td>NaN</td>\n      <td>Rare</td>\n      <td>Modern Horizons 2</td>\n    </tr>\n    <tr>\n      <th>Zulaport Cutthroat</th>\n      <td>1</td>\n      <td>Creature - Human Rogue Ally</td>\n      <td>{1}{B}</td>\n      <td>Uncommon</td>\n      <td>Commander 2020</td>\n    </tr>\n  </tbody>\n</table>\n<p>83 rows × 5 columns</p>\n</div>"
     },
     "execution_count": 20,
     "metadata": {},
     "output_type": "execute_result"
    }
   ],
   "source": [
    "cf = dropColumns(read(data))\n",
    "cf"
   ],
   "metadata": {
    "collapsed": false,
    "pycharm": {
     "name": "#%%\n"
    }
   }
  },
  {
   "cell_type": "markdown",
   "source": [
    "Would like to integrate images at some point"
   ],
   "metadata": {
    "collapsed": false,
    "pycharm": {
     "name": "#%% md\n"
    }
   }
  },
  {
   "cell_type": "code",
   "execution_count": 21,
   "outputs": [
    {
     "data": {
      "text/plain": "                                                     Type       Cost  \\\nName                                                                   \nArbor Elf                                       Elf Druid        {G}   \nBlood Artist                                      Vampire     {1}{B}   \nChatterfang, Squirrel General  Legendary Squirrel Warrior     {2}{G}   \nCircle of Dreams Druid                          Elf Druid  {G}{G}{G}   \nDeathrite Shaman                               Elf Shaman       {BG}   \nDeep Forest Hermit                              Elf Druid  {3}{G}{G}   \nDrey Keeper                                     Elf Druid  {3}{B}{G}   \nFalkenrath Noble                            Vampire Noble     {3}{B}   \nGrim Wanderer                              Goblin Warlock     {1}{B}   \nGrizzly Ghoul                                 Zombie Bear  {2}{B}{G}   \nIvy Lane Denizen                              Elf Warrior     {3}{G}   \nLlanowar Elves                                  Elf Druid        {G}   \nNadier's Nightblade                           Elf Warrior     {2}{B}   \nNested Shambler                                    Zombie        {B}   \nNut Collector                                 Human Druid     {5}{G}   \nPoison-Tip Archer                              Elf Archer  {2}{B}{G}   \nRavenous Squirrel                                Squirrel       {BG}   \nSakura-Tribe Elder                           Snake Shaman     {1}{G}   \nScurrid Colony                                   Squirrel     {1}{G}   \nScurry Oak                                       Treefolk     {2}{G}   \nSpike Weaver                                        Spike  {2}{G}{G}   \nSquirrel Mob                                     Squirrel  {1}{G}{G}   \nSquirrel Sovereign                         Squirrel Noble     {1}{G}   \nSquirrel Wrangler                             Human Druid  {2}{G}{G}   \nTerritorial Scythecat                                 Cat     {2}{G}   \nZulaport Cutthroat                       Human Rogue Ally     {1}{B}   \n\n                                   Rarity                             Edition  \nName                                                                           \nArbor Elf                          Common                          Masters 25  \nBlood Artist                     Uncommon                      Commander 2017  \nChatterfang, Squirrel General  MythicRare                   Modern Horizons 2  \nCircle of Dreams Druid               Rare  Adventures in the Forgotten Realms  \nDeathrite Shaman                     Rare         Guilds of Ravnica Guild Kit  \nDeep Forest Hermit                   Rare                     Modern Horizons  \nDrey Keeper                        Common                   Modern Horizons 2  \nFalkenrath Noble                   Common                      Commander 2017  \nGrim Wanderer                    Uncommon  Adventures in the Forgotten Realms  \nGrizzly Ghoul                    Uncommon            Innistrad: Midnight Hunt  \nIvy Lane Denizen                   Common                   Commander Legends  \nLlanowar Elves                     Common                       Core Set 2019  \nNadier's Nightblade              Uncommon                   Commander Legends  \nNested Shambler                    Common                   Modern Horizons 2  \nNut Collector                        Rare                             Odyssey  \nPoison-Tip Archer                Uncommon                       Core Set 2019  \nRavenous Squirrel                Uncommon                   Modern Horizons 2  \nSakura-Tribe Elder                 Common                      Commander 2020  \nScurrid Colony                     Common         Strixhaven: School of Mages  \nScurry Oak                       Uncommon                   Modern Horizons 2  \nSpike Weaver                         Rare                              Exodus  \nSquirrel Mob                         Rare                             Odyssey  \nSquirrel Sovereign               Uncommon                   Modern Horizons 2  \nSquirrel Wrangler                    Rare                            Prophecy  \nTerritorial Scythecat              Common                     Zendikar Rising  \nZulaport Cutthroat               Uncommon                      Commander 2020  ",
      "text/html": "<div>\n<style scoped>\n    .dataframe tbody tr th:only-of-type {\n        vertical-align: middle;\n    }\n\n    .dataframe tbody tr th {\n        vertical-align: top;\n    }\n\n    .dataframe thead th {\n        text-align: right;\n    }\n</style>\n<table border=\"1\" class=\"dataframe\">\n  <thead>\n    <tr style=\"text-align: right;\">\n      <th></th>\n      <th>Type</th>\n      <th>Cost</th>\n      <th>Rarity</th>\n      <th>Edition</th>\n    </tr>\n    <tr>\n      <th>Name</th>\n      <th></th>\n      <th></th>\n      <th></th>\n      <th></th>\n    </tr>\n  </thead>\n  <tbody>\n    <tr>\n      <th>Arbor Elf</th>\n      <td>Elf Druid</td>\n      <td>{G}</td>\n      <td>Common</td>\n      <td>Masters 25</td>\n    </tr>\n    <tr>\n      <th>Blood Artist</th>\n      <td>Vampire</td>\n      <td>{1}{B}</td>\n      <td>Uncommon</td>\n      <td>Commander 2017</td>\n    </tr>\n    <tr>\n      <th>Chatterfang, Squirrel General</th>\n      <td>Legendary Squirrel Warrior</td>\n      <td>{2}{G}</td>\n      <td>MythicRare</td>\n      <td>Modern Horizons 2</td>\n    </tr>\n    <tr>\n      <th>Circle of Dreams Druid</th>\n      <td>Elf Druid</td>\n      <td>{G}{G}{G}</td>\n      <td>Rare</td>\n      <td>Adventures in the Forgotten Realms</td>\n    </tr>\n    <tr>\n      <th>Deathrite Shaman</th>\n      <td>Elf Shaman</td>\n      <td>{BG}</td>\n      <td>Rare</td>\n      <td>Guilds of Ravnica Guild Kit</td>\n    </tr>\n    <tr>\n      <th>Deep Forest Hermit</th>\n      <td>Elf Druid</td>\n      <td>{3}{G}{G}</td>\n      <td>Rare</td>\n      <td>Modern Horizons</td>\n    </tr>\n    <tr>\n      <th>Drey Keeper</th>\n      <td>Elf Druid</td>\n      <td>{3}{B}{G}</td>\n      <td>Common</td>\n      <td>Modern Horizons 2</td>\n    </tr>\n    <tr>\n      <th>Falkenrath Noble</th>\n      <td>Vampire Noble</td>\n      <td>{3}{B}</td>\n      <td>Common</td>\n      <td>Commander 2017</td>\n    </tr>\n    <tr>\n      <th>Grim Wanderer</th>\n      <td>Goblin Warlock</td>\n      <td>{1}{B}</td>\n      <td>Uncommon</td>\n      <td>Adventures in the Forgotten Realms</td>\n    </tr>\n    <tr>\n      <th>Grizzly Ghoul</th>\n      <td>Zombie Bear</td>\n      <td>{2}{B}{G}</td>\n      <td>Uncommon</td>\n      <td>Innistrad: Midnight Hunt</td>\n    </tr>\n    <tr>\n      <th>Ivy Lane Denizen</th>\n      <td>Elf Warrior</td>\n      <td>{3}{G}</td>\n      <td>Common</td>\n      <td>Commander Legends</td>\n    </tr>\n    <tr>\n      <th>Llanowar Elves</th>\n      <td>Elf Druid</td>\n      <td>{G}</td>\n      <td>Common</td>\n      <td>Core Set 2019</td>\n    </tr>\n    <tr>\n      <th>Nadier's Nightblade</th>\n      <td>Elf Warrior</td>\n      <td>{2}{B}</td>\n      <td>Uncommon</td>\n      <td>Commander Legends</td>\n    </tr>\n    <tr>\n      <th>Nested Shambler</th>\n      <td>Zombie</td>\n      <td>{B}</td>\n      <td>Common</td>\n      <td>Modern Horizons 2</td>\n    </tr>\n    <tr>\n      <th>Nut Collector</th>\n      <td>Human Druid</td>\n      <td>{5}{G}</td>\n      <td>Rare</td>\n      <td>Odyssey</td>\n    </tr>\n    <tr>\n      <th>Poison-Tip Archer</th>\n      <td>Elf Archer</td>\n      <td>{2}{B}{G}</td>\n      <td>Uncommon</td>\n      <td>Core Set 2019</td>\n    </tr>\n    <tr>\n      <th>Ravenous Squirrel</th>\n      <td>Squirrel</td>\n      <td>{BG}</td>\n      <td>Uncommon</td>\n      <td>Modern Horizons 2</td>\n    </tr>\n    <tr>\n      <th>Sakura-Tribe Elder</th>\n      <td>Snake Shaman</td>\n      <td>{1}{G}</td>\n      <td>Common</td>\n      <td>Commander 2020</td>\n    </tr>\n    <tr>\n      <th>Scurrid Colony</th>\n      <td>Squirrel</td>\n      <td>{1}{G}</td>\n      <td>Common</td>\n      <td>Strixhaven: School of Mages</td>\n    </tr>\n    <tr>\n      <th>Scurry Oak</th>\n      <td>Treefolk</td>\n      <td>{2}{G}</td>\n      <td>Uncommon</td>\n      <td>Modern Horizons 2</td>\n    </tr>\n    <tr>\n      <th>Spike Weaver</th>\n      <td>Spike</td>\n      <td>{2}{G}{G}</td>\n      <td>Rare</td>\n      <td>Exodus</td>\n    </tr>\n    <tr>\n      <th>Squirrel Mob</th>\n      <td>Squirrel</td>\n      <td>{1}{G}{G}</td>\n      <td>Rare</td>\n      <td>Odyssey</td>\n    </tr>\n    <tr>\n      <th>Squirrel Sovereign</th>\n      <td>Squirrel Noble</td>\n      <td>{1}{G}</td>\n      <td>Uncommon</td>\n      <td>Modern Horizons 2</td>\n    </tr>\n    <tr>\n      <th>Squirrel Wrangler</th>\n      <td>Human Druid</td>\n      <td>{2}{G}{G}</td>\n      <td>Rare</td>\n      <td>Prophecy</td>\n    </tr>\n    <tr>\n      <th>Territorial Scythecat</th>\n      <td>Cat</td>\n      <td>{2}{G}</td>\n      <td>Common</td>\n      <td>Zendikar Rising</td>\n    </tr>\n    <tr>\n      <th>Zulaport Cutthroat</th>\n      <td>Human Rogue Ally</td>\n      <td>{1}{B}</td>\n      <td>Uncommon</td>\n      <td>Commander 2020</td>\n    </tr>\n  </tbody>\n</table>\n</div>"
     },
     "execution_count": 21,
     "metadata": {},
     "output_type": "execute_result"
    }
   ],
   "source": [
    "cfCreatures = cf[cf['Type'].str.contains('Creature')].drop(['Count'], axis=1)\n",
    "cfCreatures.replace('(?:Creature - )','', regex=True, inplace=True)\n",
    "cfCreatures = cfCreatures.drop(['Dormant Grove // Gnarled Grovestrider'])\n",
    "cfCreatures"
   ],
   "metadata": {
    "collapsed": false,
    "pycharm": {
     "name": "#%%\n"
    }
   }
  },
  {
   "cell_type": "code",
   "execution_count": 22,
   "outputs": [
    {
     "data": {
      "text/plain": "                          Cost    Rarity                      Edition\nName                                                                 \nDark Ritual                {B}    Common                   Masters 25\nHarrow                  {2}{G}    Common               Commander 2020\nHeroic Intervention     {1}{G}      Rare                Aether Revolt\nKrosan Grip             {2}{G}  Uncommon  Strixhaven Mystical Archive\nPutrefy              {1}{B}{G}  Uncommon               Commander 2020\nSecond Harvest       {2}{G}{G}      Rare               Commander 2019\nSnakeskin Veil             {G}    Common                     Kaldheim\nSzat's Will             {4}{B}      Rare            Commander Legends\nTend the Pests          {B}{G}  Uncommon  Strixhaven: School of Mages\nVerdant Command         {1}{G}      Rare            Modern Horizons 2",
      "text/html": "<div>\n<style scoped>\n    .dataframe tbody tr th:only-of-type {\n        vertical-align: middle;\n    }\n\n    .dataframe tbody tr th {\n        vertical-align: top;\n    }\n\n    .dataframe thead th {\n        text-align: right;\n    }\n</style>\n<table border=\"1\" class=\"dataframe\">\n  <thead>\n    <tr style=\"text-align: right;\">\n      <th></th>\n      <th>Cost</th>\n      <th>Rarity</th>\n      <th>Edition</th>\n    </tr>\n    <tr>\n      <th>Name</th>\n      <th></th>\n      <th></th>\n      <th></th>\n    </tr>\n  </thead>\n  <tbody>\n    <tr>\n      <th>Dark Ritual</th>\n      <td>{B}</td>\n      <td>Common</td>\n      <td>Masters 25</td>\n    </tr>\n    <tr>\n      <th>Harrow</th>\n      <td>{2}{G}</td>\n      <td>Common</td>\n      <td>Commander 2020</td>\n    </tr>\n    <tr>\n      <th>Heroic Intervention</th>\n      <td>{1}{G}</td>\n      <td>Rare</td>\n      <td>Aether Revolt</td>\n    </tr>\n    <tr>\n      <th>Krosan Grip</th>\n      <td>{2}{G}</td>\n      <td>Uncommon</td>\n      <td>Strixhaven Mystical Archive</td>\n    </tr>\n    <tr>\n      <th>Putrefy</th>\n      <td>{1}{B}{G}</td>\n      <td>Uncommon</td>\n      <td>Commander 2020</td>\n    </tr>\n    <tr>\n      <th>Second Harvest</th>\n      <td>{2}{G}{G}</td>\n      <td>Rare</td>\n      <td>Commander 2019</td>\n    </tr>\n    <tr>\n      <th>Snakeskin Veil</th>\n      <td>{G}</td>\n      <td>Common</td>\n      <td>Kaldheim</td>\n    </tr>\n    <tr>\n      <th>Szat's Will</th>\n      <td>{4}{B}</td>\n      <td>Rare</td>\n      <td>Commander Legends</td>\n    </tr>\n    <tr>\n      <th>Tend the Pests</th>\n      <td>{B}{G}</td>\n      <td>Uncommon</td>\n      <td>Strixhaven: School of Mages</td>\n    </tr>\n    <tr>\n      <th>Verdant Command</th>\n      <td>{1}{G}</td>\n      <td>Rare</td>\n      <td>Modern Horizons 2</td>\n    </tr>\n  </tbody>\n</table>\n</div>"
     },
     "execution_count": 22,
     "metadata": {},
     "output_type": "execute_result"
    }
   ],
   "source": [
    "cfInstants = cf[cf['Type'].str.contains('Instant')].drop(['Count', 'Type'], axis=1)\n",
    "cfInstants"
   ],
   "metadata": {
    "collapsed": false,
    "pycharm": {
     "name": "#%%\n"
    }
   }
  },
  {
   "cell_type": "code",
   "execution_count": 6,
   "outputs": [
    {
     "data": {
      "text/plain": "                                 Cost    Rarity                      Edition\nName                                                                        \nAcorn Harvest                  {3}{G}    Common                      Torment\nChatter of the Squirrel           {G}    Common                      Odyssey\nChatterstorm                   {1}{G}    Common            Modern Horizons 2\nCulling Ritual              {2}{B}{G}      Rare  Strixhaven: School of Mages\nCultivate                      {2}{G}    Common            Commander Legends\nDig Up                            {G}      Rare       Innistrad: Crimson Vow\nEzuri's Predation        {5}{G}{G}{G}      Rare               Commander 2015\nIncremental Growth          {3}{G}{G}  Uncommon              Khans of Tarkir\nLife's Finale               {4}{B}{B}      Rare                 New Phyrexia\nNature's Lore                  {1}{G}    Common                Fifth Edition\nRampant Growth                 {1}{G}    Common            Commander Legends\nShamanic Revelation         {3}{G}{G}      Rare               Commander 2019",
      "text/html": "<div>\n<style scoped>\n    .dataframe tbody tr th:only-of-type {\n        vertical-align: middle;\n    }\n\n    .dataframe tbody tr th {\n        vertical-align: top;\n    }\n\n    .dataframe thead th {\n        text-align: right;\n    }\n</style>\n<table border=\"1\" class=\"dataframe\">\n  <thead>\n    <tr style=\"text-align: right;\">\n      <th></th>\n      <th>Cost</th>\n      <th>Rarity</th>\n      <th>Edition</th>\n    </tr>\n    <tr>\n      <th>Name</th>\n      <th></th>\n      <th></th>\n      <th></th>\n    </tr>\n  </thead>\n  <tbody>\n    <tr>\n      <th>Acorn Harvest</th>\n      <td>{3}{G}</td>\n      <td>Common</td>\n      <td>Torment</td>\n    </tr>\n    <tr>\n      <th>Chatter of the Squirrel</th>\n      <td>{G}</td>\n      <td>Common</td>\n      <td>Odyssey</td>\n    </tr>\n    <tr>\n      <th>Chatterstorm</th>\n      <td>{1}{G}</td>\n      <td>Common</td>\n      <td>Modern Horizons 2</td>\n    </tr>\n    <tr>\n      <th>Culling Ritual</th>\n      <td>{2}{B}{G}</td>\n      <td>Rare</td>\n      <td>Strixhaven: School of Mages</td>\n    </tr>\n    <tr>\n      <th>Cultivate</th>\n      <td>{2}{G}</td>\n      <td>Common</td>\n      <td>Commander Legends</td>\n    </tr>\n    <tr>\n      <th>Dig Up</th>\n      <td>{G}</td>\n      <td>Rare</td>\n      <td>Innistrad: Crimson Vow</td>\n    </tr>\n    <tr>\n      <th>Ezuri's Predation</th>\n      <td>{5}{G}{G}{G}</td>\n      <td>Rare</td>\n      <td>Commander 2015</td>\n    </tr>\n    <tr>\n      <th>Incremental Growth</th>\n      <td>{3}{G}{G}</td>\n      <td>Uncommon</td>\n      <td>Khans of Tarkir</td>\n    </tr>\n    <tr>\n      <th>Life's Finale</th>\n      <td>{4}{B}{B}</td>\n      <td>Rare</td>\n      <td>New Phyrexia</td>\n    </tr>\n    <tr>\n      <th>Nature's Lore</th>\n      <td>{1}{G}</td>\n      <td>Common</td>\n      <td>Fifth Edition</td>\n    </tr>\n    <tr>\n      <th>Rampant Growth</th>\n      <td>{1}{G}</td>\n      <td>Common</td>\n      <td>Commander Legends</td>\n    </tr>\n    <tr>\n      <th>Shamanic Revelation</th>\n      <td>{3}{G}{G}</td>\n      <td>Rare</td>\n      <td>Commander 2019</td>\n    </tr>\n  </tbody>\n</table>\n</div>"
     },
     "execution_count": 6,
     "metadata": {},
     "output_type": "execute_result"
    }
   ],
   "source": [
    "cfSorceries = cf[cf['Type'].str.contains('Sorcery')].drop(['Count', 'Type'], axis=1)\n",
    "cfSorceries"
   ],
   "metadata": {
    "collapsed": false,
    "pycharm": {
     "name": "#%%\n"
    }
   }
  },
  {
   "cell_type": "code",
   "execution_count": 7,
   "outputs": [
    {
     "data": {
      "text/plain": "                        Type    Cost      Rarity              Edition\nName                                                                 \nChitterspitter      Artifact  {2}{G}        Rare    Modern Horizons 2\nCommander's Sphere  Artifact     {3}      Common    Commander Legends\nEldrazi Monument    Artifact     {5}  MythicRare       Commander 2015\nObelisk of Urd      Artifact     {6}        Rare  Magic 2015 Core Set\nSol Ring            Artifact     {1}    Uncommon    Commander Legends",
      "text/html": "<div>\n<style scoped>\n    .dataframe tbody tr th:only-of-type {\n        vertical-align: middle;\n    }\n\n    .dataframe tbody tr th {\n        vertical-align: top;\n    }\n\n    .dataframe thead th {\n        text-align: right;\n    }\n</style>\n<table border=\"1\" class=\"dataframe\">\n  <thead>\n    <tr style=\"text-align: right;\">\n      <th></th>\n      <th>Type</th>\n      <th>Cost</th>\n      <th>Rarity</th>\n      <th>Edition</th>\n    </tr>\n    <tr>\n      <th>Name</th>\n      <th></th>\n      <th></th>\n      <th></th>\n      <th></th>\n    </tr>\n  </thead>\n  <tbody>\n    <tr>\n      <th>Chitterspitter</th>\n      <td>Artifact</td>\n      <td>{2}{G}</td>\n      <td>Rare</td>\n      <td>Modern Horizons 2</td>\n    </tr>\n    <tr>\n      <th>Commander's Sphere</th>\n      <td>Artifact</td>\n      <td>{3}</td>\n      <td>Common</td>\n      <td>Commander Legends</td>\n    </tr>\n    <tr>\n      <th>Eldrazi Monument</th>\n      <td>Artifact</td>\n      <td>{5}</td>\n      <td>MythicRare</td>\n      <td>Commander 2015</td>\n    </tr>\n    <tr>\n      <th>Obelisk of Urd</th>\n      <td>Artifact</td>\n      <td>{6}</td>\n      <td>Rare</td>\n      <td>Magic 2015 Core Set</td>\n    </tr>\n    <tr>\n      <th>Sol Ring</th>\n      <td>Artifact</td>\n      <td>{1}</td>\n      <td>Uncommon</td>\n      <td>Commander Legends</td>\n    </tr>\n  </tbody>\n</table>\n</div>"
     },
     "execution_count": 7,
     "metadata": {},
     "output_type": "execute_result"
    }
   ],
   "source": [
    "cfArtifacts = cf[cf['Type'].str.contains('Artifact')].drop(['Count'], axis=1)\n",
    "cfArtifacts = cfArtifacts.drop(['Darkmoss Bridge'])\n",
    "cfArtifacts"
   ],
   "metadata": {
    "collapsed": false,
    "pycharm": {
     "name": "#%%\n"
    }
   }
  },
  {
   "cell_type": "code",
   "execution_count": 8,
   "outputs": [
    {
     "data": {
      "text/plain": "                                                                     Type  \\\nName                                                                        \nBeastmaster Ascension                                         Enchantment   \nDormant Grove // Gnarled Grovestrider  Enchantment // Creature - Treefolk   \nDoubling Season                                               Enchantment   \nDruid Class                                           Enchantment - Class   \nDruid's Call                                           Enchantment - Aura   \nNight Soil                                                    Enchantment   \nSquirrel Nest                                          Enchantment - Aura   \nSquirrel Sanctuary                                            Enchantment   \nSylvan Anthem                                                 Enchantment   \nWarlock Class                                         Enchantment - Class   \nWild Growth                                            Enchantment - Aura   \n\n                                            Cost      Rarity  \\\nName                                                           \nBeastmaster Ascension                     {2}{G}        Rare   \nDormant Grove // Gnarled Grovestrider     {3}{G}    Uncommon   \nDoubling Season                           {4}{G}  MythicRare   \nDruid Class                               {1}{G}    Uncommon   \nDruid's Call                              {1}{G}    Uncommon   \nNight Soil                                {G}{G}      Common   \nSquirrel Nest                          {1}{G}{G}    Uncommon   \nSquirrel Sanctuary                           {G}    Uncommon   \nSylvan Anthem                             {G}{G}        Rare   \nWarlock Class                                {B}    Uncommon   \nWild Growth                                  {G}      Common   \n\n                                                                  Edition  \nName                                                                       \nBeastmaster Ascension                                      Commander 2016  \nDormant Grove // Gnarled Grovestrider              Innistrad: Crimson Vow  \nDoubling Season                                                Battlebond  \nDruid Class                            Adventures in the Forgotten Realms  \nDruid's Call                                                      Odyssey  \nNight Soil                                                 Fallen Empires  \nSquirrel Nest                                             Modern Horizons  \nSquirrel Sanctuary                                      Modern Horizons 2  \nSylvan Anthem                                           Modern Horizons 2  \nWarlock Class                          Adventures in the Forgotten Realms  \nWild Growth                                                Commander 2018  ",
      "text/html": "<div>\n<style scoped>\n    .dataframe tbody tr th:only-of-type {\n        vertical-align: middle;\n    }\n\n    .dataframe tbody tr th {\n        vertical-align: top;\n    }\n\n    .dataframe thead th {\n        text-align: right;\n    }\n</style>\n<table border=\"1\" class=\"dataframe\">\n  <thead>\n    <tr style=\"text-align: right;\">\n      <th></th>\n      <th>Type</th>\n      <th>Cost</th>\n      <th>Rarity</th>\n      <th>Edition</th>\n    </tr>\n    <tr>\n      <th>Name</th>\n      <th></th>\n      <th></th>\n      <th></th>\n      <th></th>\n    </tr>\n  </thead>\n  <tbody>\n    <tr>\n      <th>Beastmaster Ascension</th>\n      <td>Enchantment</td>\n      <td>{2}{G}</td>\n      <td>Rare</td>\n      <td>Commander 2016</td>\n    </tr>\n    <tr>\n      <th>Dormant Grove // Gnarled Grovestrider</th>\n      <td>Enchantment // Creature - Treefolk</td>\n      <td>{3}{G}</td>\n      <td>Uncommon</td>\n      <td>Innistrad: Crimson Vow</td>\n    </tr>\n    <tr>\n      <th>Doubling Season</th>\n      <td>Enchantment</td>\n      <td>{4}{G}</td>\n      <td>MythicRare</td>\n      <td>Battlebond</td>\n    </tr>\n    <tr>\n      <th>Druid Class</th>\n      <td>Enchantment - Class</td>\n      <td>{1}{G}</td>\n      <td>Uncommon</td>\n      <td>Adventures in the Forgotten Realms</td>\n    </tr>\n    <tr>\n      <th>Druid's Call</th>\n      <td>Enchantment - Aura</td>\n      <td>{1}{G}</td>\n      <td>Uncommon</td>\n      <td>Odyssey</td>\n    </tr>\n    <tr>\n      <th>Night Soil</th>\n      <td>Enchantment</td>\n      <td>{G}{G}</td>\n      <td>Common</td>\n      <td>Fallen Empires</td>\n    </tr>\n    <tr>\n      <th>Squirrel Nest</th>\n      <td>Enchantment - Aura</td>\n      <td>{1}{G}{G}</td>\n      <td>Uncommon</td>\n      <td>Modern Horizons</td>\n    </tr>\n    <tr>\n      <th>Squirrel Sanctuary</th>\n      <td>Enchantment</td>\n      <td>{G}</td>\n      <td>Uncommon</td>\n      <td>Modern Horizons 2</td>\n    </tr>\n    <tr>\n      <th>Sylvan Anthem</th>\n      <td>Enchantment</td>\n      <td>{G}{G}</td>\n      <td>Rare</td>\n      <td>Modern Horizons 2</td>\n    </tr>\n    <tr>\n      <th>Warlock Class</th>\n      <td>Enchantment - Class</td>\n      <td>{B}</td>\n      <td>Uncommon</td>\n      <td>Adventures in the Forgotten Realms</td>\n    </tr>\n    <tr>\n      <th>Wild Growth</th>\n      <td>Enchantment - Aura</td>\n      <td>{G}</td>\n      <td>Common</td>\n      <td>Commander 2018</td>\n    </tr>\n  </tbody>\n</table>\n</div>"
     },
     "execution_count": 8,
     "metadata": {},
     "output_type": "execute_result"
    }
   ],
   "source": [
    "cfEnchantments = cf[cf['Type'].str.contains('Enchantment')].drop(['Count'], axis=1)\n",
    "cfEnchantments"
   ],
   "metadata": {
    "collapsed": false,
    "pycharm": {
     "name": "#%%\n"
    }
   }
  },
  {
   "cell_type": "code",
   "execution_count": 9,
   "outputs": [
    {
     "data": {
      "text/plain": "                                                    Type       Cost  \\\nName                                                                  \nNissa, Voice of Zendikar  Legendary Planeswalker - Nissa  {1}{G}{G}   \n\n                              Rarity                Edition  \nName                                                         \nNissa, Voice of Zendikar  MythicRare  Oath of the Gatewatch  ",
      "text/html": "<div>\n<style scoped>\n    .dataframe tbody tr th:only-of-type {\n        vertical-align: middle;\n    }\n\n    .dataframe tbody tr th {\n        vertical-align: top;\n    }\n\n    .dataframe thead th {\n        text-align: right;\n    }\n</style>\n<table border=\"1\" class=\"dataframe\">\n  <thead>\n    <tr style=\"text-align: right;\">\n      <th></th>\n      <th>Type</th>\n      <th>Cost</th>\n      <th>Rarity</th>\n      <th>Edition</th>\n    </tr>\n    <tr>\n      <th>Name</th>\n      <th></th>\n      <th></th>\n      <th></th>\n      <th></th>\n    </tr>\n  </thead>\n  <tbody>\n    <tr>\n      <th>Nissa, Voice of Zendikar</th>\n      <td>Legendary Planeswalker - Nissa</td>\n      <td>{1}{G}{G}</td>\n      <td>MythicRare</td>\n      <td>Oath of the Gatewatch</td>\n    </tr>\n  </tbody>\n</table>\n</div>"
     },
     "execution_count": 9,
     "metadata": {},
     "output_type": "execute_result"
    }
   ],
   "source": [
    "cfPlaneswalkers = cf[cf['Type'].str.contains('Planeswalker')].drop(['Count'], axis=1)\n",
    "cfPlaneswalkers"
   ],
   "metadata": {
    "collapsed": false,
    "pycharm": {
     "name": "#%%\n"
    }
   }
  },
  {
   "cell_type": "code",
   "execution_count": 10,
   "outputs": [
    {
     "data": {
      "text/plain": "                            Count                 Type     Rarity  \\\nName                                                                \nBojuka Bog                      1                 Land     Common   \nCastle Garenbrig                1                 Land       Rare   \nDarkmoss Bridge                 1        Artifact Land     Common   \nForest                          9  Basic Land - Forest  BasicLand   \nGolgari Guildgate               1          Land - Gate     Common   \nHall of Oracles                 1                 Land       Rare   \nJungle Hollow                   1                 Land     Common   \nNecroblossom Snarl              1                 Land       Rare   \nOran-Rief, the Vastwood         1                 Land       Rare   \nSwamp                          10   Basic Land - Swamp  BasicLand   \nSwarmyard                       1                 Land       Rare   \nTemple of Malady                1                 Land       Rare   \nThriving Grove                  1                 Land     Common   \nUndergrowth Stadium             1                 Land       Rare   \nUrborg, Tomb of Yawgmoth        1       Legendary Land       Rare   \nWitherbloom Campus              1                 Land     Common   \nWoodland Cemetery               1                 Land       Rare   \nYavimaya, Cradle of Growth      1       Legendary Land       Rare   \n\n                                                Edition  \nName                                                     \nBojuka Bog                               Commander 2020  \nCastle Garenbrig                     Throne of Eldraine  \nDarkmoss Bridge                       Modern Horizons 2  \nForest                                Commander Legends  \nGolgari Guildgate                        Commander 2019  \nHall of Oracles             Strixhaven: School of Mages  \nJungle Hollow                 Ikoria: Lair of Behemoths  \nNecroblossom Snarl          Strixhaven: School of Mages  \nOran-Rief, the Vastwood                  Commander 2020  \nSwamp                         Ikoria: Lair of Behemoths  \nSwarmyard                                   Time Spiral  \nTemple of Malady                          Core Set 2020  \nThriving Grove                                Jumpstart  \nUndergrowth Stadium                   Commander Legends  \nUrborg, Tomb of Yawgmoth            Magic 2015 Core Set  \nWitherbloom Campus          Strixhaven: School of Mages  \nWoodland Cemetery                             Dominaria  \nYavimaya, Cradle of Growth            Modern Horizons 2  ",
      "text/html": "<div>\n<style scoped>\n    .dataframe tbody tr th:only-of-type {\n        vertical-align: middle;\n    }\n\n    .dataframe tbody tr th {\n        vertical-align: top;\n    }\n\n    .dataframe thead th {\n        text-align: right;\n    }\n</style>\n<table border=\"1\" class=\"dataframe\">\n  <thead>\n    <tr style=\"text-align: right;\">\n      <th></th>\n      <th>Count</th>\n      <th>Type</th>\n      <th>Rarity</th>\n      <th>Edition</th>\n    </tr>\n    <tr>\n      <th>Name</th>\n      <th></th>\n      <th></th>\n      <th></th>\n      <th></th>\n    </tr>\n  </thead>\n  <tbody>\n    <tr>\n      <th>Bojuka Bog</th>\n      <td>1</td>\n      <td>Land</td>\n      <td>Common</td>\n      <td>Commander 2020</td>\n    </tr>\n    <tr>\n      <th>Castle Garenbrig</th>\n      <td>1</td>\n      <td>Land</td>\n      <td>Rare</td>\n      <td>Throne of Eldraine</td>\n    </tr>\n    <tr>\n      <th>Darkmoss Bridge</th>\n      <td>1</td>\n      <td>Artifact Land</td>\n      <td>Common</td>\n      <td>Modern Horizons 2</td>\n    </tr>\n    <tr>\n      <th>Forest</th>\n      <td>9</td>\n      <td>Basic Land - Forest</td>\n      <td>BasicLand</td>\n      <td>Commander Legends</td>\n    </tr>\n    <tr>\n      <th>Golgari Guildgate</th>\n      <td>1</td>\n      <td>Land - Gate</td>\n      <td>Common</td>\n      <td>Commander 2019</td>\n    </tr>\n    <tr>\n      <th>Hall of Oracles</th>\n      <td>1</td>\n      <td>Land</td>\n      <td>Rare</td>\n      <td>Strixhaven: School of Mages</td>\n    </tr>\n    <tr>\n      <th>Jungle Hollow</th>\n      <td>1</td>\n      <td>Land</td>\n      <td>Common</td>\n      <td>Ikoria: Lair of Behemoths</td>\n    </tr>\n    <tr>\n      <th>Necroblossom Snarl</th>\n      <td>1</td>\n      <td>Land</td>\n      <td>Rare</td>\n      <td>Strixhaven: School of Mages</td>\n    </tr>\n    <tr>\n      <th>Oran-Rief, the Vastwood</th>\n      <td>1</td>\n      <td>Land</td>\n      <td>Rare</td>\n      <td>Commander 2020</td>\n    </tr>\n    <tr>\n      <th>Swamp</th>\n      <td>10</td>\n      <td>Basic Land - Swamp</td>\n      <td>BasicLand</td>\n      <td>Ikoria: Lair of Behemoths</td>\n    </tr>\n    <tr>\n      <th>Swarmyard</th>\n      <td>1</td>\n      <td>Land</td>\n      <td>Rare</td>\n      <td>Time Spiral</td>\n    </tr>\n    <tr>\n      <th>Temple of Malady</th>\n      <td>1</td>\n      <td>Land</td>\n      <td>Rare</td>\n      <td>Core Set 2020</td>\n    </tr>\n    <tr>\n      <th>Thriving Grove</th>\n      <td>1</td>\n      <td>Land</td>\n      <td>Common</td>\n      <td>Jumpstart</td>\n    </tr>\n    <tr>\n      <th>Undergrowth Stadium</th>\n      <td>1</td>\n      <td>Land</td>\n      <td>Rare</td>\n      <td>Commander Legends</td>\n    </tr>\n    <tr>\n      <th>Urborg, Tomb of Yawgmoth</th>\n      <td>1</td>\n      <td>Legendary Land</td>\n      <td>Rare</td>\n      <td>Magic 2015 Core Set</td>\n    </tr>\n    <tr>\n      <th>Witherbloom Campus</th>\n      <td>1</td>\n      <td>Land</td>\n      <td>Common</td>\n      <td>Strixhaven: School of Mages</td>\n    </tr>\n    <tr>\n      <th>Woodland Cemetery</th>\n      <td>1</td>\n      <td>Land</td>\n      <td>Rare</td>\n      <td>Dominaria</td>\n    </tr>\n    <tr>\n      <th>Yavimaya, Cradle of Growth</th>\n      <td>1</td>\n      <td>Legendary Land</td>\n      <td>Rare</td>\n      <td>Modern Horizons 2</td>\n    </tr>\n  </tbody>\n</table>\n</div>"
     },
     "execution_count": 10,
     "metadata": {},
     "output_type": "execute_result"
    }
   ],
   "source": [
    "cfLands = cf[cf['Type'].str.contains('Land')].drop(['Cost'], axis=1)\n",
    "cfLands"
   ],
   "metadata": {
    "collapsed": false,
    "pycharm": {
     "name": "#%%\n"
    }
   }
  },
  {
   "cell_type": "code",
   "execution_count": 10,
   "outputs": [],
   "source": [],
   "metadata": {
    "collapsed": false,
    "pycharm": {
     "name": "#%%\n"
    }
   }
  }
 ],
 "metadata": {
  "kernelspec": {
   "display_name": "Python 3",
   "language": "python",
   "name": "python3"
  },
  "language_info": {
   "codemirror_mode": {
    "name": "ipython",
    "version": 2
   },
   "file_extension": ".py",
   "mimetype": "text/x-python",
   "name": "python",
   "nbconvert_exporter": "python",
   "pygments_lexer": "ipython2",
   "version": "2.7.6"
  }
 },
 "nbformat": 4,
 "nbformat_minor": 0
}