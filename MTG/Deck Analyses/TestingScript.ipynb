{
 "cells": [
  {
   "cell_type": "code",
   "execution_count": 11,
   "outputs": [],
   "source": [
    "from deckbox_formatter import *\n",
    "\n",
    "data = '../Decks/Chatterfang_EDH.csv'"
   ],
   "metadata": {
    "collapsed": false,
    "pycharm": {
     "name": "#%%\n"
    }
   }
  },
  {
   "cell_type": "code",
   "execution_count": 12,
   "outputs": [
    {
     "data": {
      "text/plain": "                            Count                         Type    Cost  \\\nName                                                                     \nAcorn Harvest                   1                      Sorcery  {3}{G}   \nArbor Elf                       1         Creature - Elf Druid     {G}   \nBeastmaster Ascension           1                  Enchantment  {2}{G}   \nBlood Artist                    1           Creature - Vampire  {1}{B}   \nBojuka Bog                      1                         Land     NaN   \n...                           ...                          ...     ...   \nWild Growth                     1           Enchantment - Aura     {G}   \nWitherbloom Campus              1                         Land     NaN   \nWoodland Cemetery               1                         Land     NaN   \nYavimaya, Cradle of Growth      1               Legendary Land     NaN   \nZulaport Cutthroat              1  Creature - Human Rogue Ally  {1}{B}   \n\n                              Rarity                      Edition  \nName                                                               \nAcorn Harvest                 Common                      Torment  \nArbor Elf                     Common                   Masters 25  \nBeastmaster Ascension           Rare               Commander 2016  \nBlood Artist                Uncommon               Commander 2017  \nBojuka Bog                    Common               Commander 2020  \n...                              ...                          ...  \nWild Growth                   Common               Commander 2018  \nWitherbloom Campus            Common  Strixhaven: School of Mages  \nWoodland Cemetery               Rare                    Dominaria  \nYavimaya, Cradle of Growth      Rare            Modern Horizons 2  \nZulaport Cutthroat          Uncommon               Commander 2020  \n\n[83 rows x 5 columns]",
      "text/html": "<div>\n<style scoped>\n    .dataframe tbody tr th:only-of-type {\n        vertical-align: middle;\n    }\n\n    .dataframe tbody tr th {\n        vertical-align: top;\n    }\n\n    .dataframe thead th {\n        text-align: right;\n    }\n</style>\n<table border=\"1\" class=\"dataframe\">\n  <thead>\n    <tr style=\"text-align: right;\">\n      <th></th>\n      <th>Count</th>\n      <th>Type</th>\n      <th>Cost</th>\n      <th>Rarity</th>\n      <th>Edition</th>\n    </tr>\n    <tr>\n      <th>Name</th>\n      <th></th>\n      <th></th>\n      <th></th>\n      <th></th>\n      <th></th>\n    </tr>\n  </thead>\n  <tbody>\n    <tr>\n      <th>Acorn Harvest</th>\n      <td>1</td>\n      <td>Sorcery</td>\n      <td>{3}{G}</td>\n      <td>Common</td>\n      <td>Torment</td>\n    </tr>\n    <tr>\n      <th>Arbor Elf</th>\n      <td>1</td>\n      <td>Creature - Elf Druid</td>\n      <td>{G}</td>\n      <td>Common</td>\n      <td>Masters 25</td>\n    </tr>\n    <tr>\n      <th>Beastmaster Ascension</th>\n      <td>1</td>\n      <td>Enchantment</td>\n      <td>{2}{G}</td>\n      <td>Rare</td>\n      <td>Commander 2016</td>\n    </tr>\n    <tr>\n      <th>Blood Artist</th>\n      <td>1</td>\n      <td>Creature - Vampire</td>\n      <td>{1}{B}</td>\n      <td>Uncommon</td>\n      <td>Commander 2017</td>\n    </tr>\n    <tr>\n      <th>Bojuka Bog</th>\n      <td>1</td>\n      <td>Land</td>\n      <td>NaN</td>\n      <td>Common</td>\n      <td>Commander 2020</td>\n    </tr>\n    <tr>\n      <th>...</th>\n      <td>...</td>\n      <td>...</td>\n      <td>...</td>\n      <td>...</td>\n      <td>...</td>\n    </tr>\n    <tr>\n      <th>Wild Growth</th>\n      <td>1</td>\n      <td>Enchantment - Aura</td>\n      <td>{G}</td>\n      <td>Common</td>\n      <td>Commander 2018</td>\n    </tr>\n    <tr>\n      <th>Witherbloom Campus</th>\n      <td>1</td>\n      <td>Land</td>\n      <td>NaN</td>\n      <td>Common</td>\n      <td>Strixhaven: School of Mages</td>\n    </tr>\n    <tr>\n      <th>Woodland Cemetery</th>\n      <td>1</td>\n      <td>Land</td>\n      <td>NaN</td>\n      <td>Rare</td>\n      <td>Dominaria</td>\n    </tr>\n    <tr>\n      <th>Yavimaya, Cradle of Growth</th>\n      <td>1</td>\n      <td>Legendary Land</td>\n      <td>NaN</td>\n      <td>Rare</td>\n      <td>Modern Horizons 2</td>\n    </tr>\n    <tr>\n      <th>Zulaport Cutthroat</th>\n      <td>1</td>\n      <td>Creature - Human Rogue Ally</td>\n      <td>{1}{B}</td>\n      <td>Uncommon</td>\n      <td>Commander 2020</td>\n    </tr>\n  </tbody>\n</table>\n<p>83 rows × 5 columns</p>\n</div>"
     },
     "execution_count": 12,
     "metadata": {},
     "output_type": "execute_result"
    }
   ],
   "source": [
    "df = dropColumns(read(data))\n",
    "df"
   ],
   "metadata": {
    "collapsed": false,
    "pycharm": {
     "name": "#%%\n"
    }
   }
  },
  {
   "cell_type": "code",
   "execution_count": 13,
   "outputs": [
    {
     "data": {
      "text/plain": "                                                             Type       Cost  \\\nName                                                                           \nArbor Elf                                               Elf Druid        {G}   \nBlood Artist                                              Vampire     {1}{B}   \nChatterfang, Squirrel General          Legendary Squirrel Warrior     {2}{G}   \nCircle of Dreams Druid                                  Elf Druid  {G}{G}{G}   \nDeathrite Shaman                                       Elf Shaman       {BG}   \nDeep Forest Hermit                                      Elf Druid  {3}{G}{G}   \nDormant Grove // Gnarled Grovestrider     Enchantment // Treefolk     {3}{G}   \nDrey Keeper                                             Elf Druid  {3}{B}{G}   \nFalkenrath Noble                                    Vampire Noble     {3}{B}   \nGrim Wanderer                                      Goblin Warlock     {1}{B}   \nGrizzly Ghoul                                         Zombie Bear  {2}{B}{G}   \nIvy Lane Denizen                                      Elf Warrior     {3}{G}   \nLlanowar Elves                                          Elf Druid        {G}   \nNadier's Nightblade                                   Elf Warrior     {2}{B}   \nNested Shambler                                            Zombie        {B}   \nNut Collector                                         Human Druid     {5}{G}   \nPoison-Tip Archer                                      Elf Archer  {2}{B}{G}   \nRavenous Squirrel                                        Squirrel       {BG}   \nSakura-Tribe Elder                                   Snake Shaman     {1}{G}   \nScurrid Colony                                           Squirrel     {1}{G}   \nScurry Oak                                               Treefolk     {2}{G}   \nSpike Weaver                                                Spike  {2}{G}{G}   \nSquirrel Mob                                             Squirrel  {1}{G}{G}   \nSquirrel Sovereign                                 Squirrel Noble     {1}{G}   \nSquirrel Wrangler                                     Human Druid  {2}{G}{G}   \nTerritorial Scythecat                                         Cat     {2}{G}   \nZulaport Cutthroat                               Human Rogue Ally     {1}{B}   \n\n                                           Rarity  \\\nName                                                \nArbor Elf                                  Common   \nBlood Artist                             Uncommon   \nChatterfang, Squirrel General          MythicRare   \nCircle of Dreams Druid                       Rare   \nDeathrite Shaman                             Rare   \nDeep Forest Hermit                           Rare   \nDormant Grove // Gnarled Grovestrider    Uncommon   \nDrey Keeper                                Common   \nFalkenrath Noble                           Common   \nGrim Wanderer                            Uncommon   \nGrizzly Ghoul                            Uncommon   \nIvy Lane Denizen                           Common   \nLlanowar Elves                             Common   \nNadier's Nightblade                      Uncommon   \nNested Shambler                            Common   \nNut Collector                                Rare   \nPoison-Tip Archer                        Uncommon   \nRavenous Squirrel                        Uncommon   \nSakura-Tribe Elder                         Common   \nScurrid Colony                             Common   \nScurry Oak                               Uncommon   \nSpike Weaver                                 Rare   \nSquirrel Mob                                 Rare   \nSquirrel Sovereign                       Uncommon   \nSquirrel Wrangler                            Rare   \nTerritorial Scythecat                      Common   \nZulaport Cutthroat                       Uncommon   \n\n                                                                  Edition  \nName                                                                       \nArbor Elf                                                      Masters 25  \nBlood Artist                                               Commander 2017  \nChatterfang, Squirrel General                           Modern Horizons 2  \nCircle of Dreams Druid                 Adventures in the Forgotten Realms  \nDeathrite Shaman                              Guilds of Ravnica Guild Kit  \nDeep Forest Hermit                                        Modern Horizons  \nDormant Grove // Gnarled Grovestrider              Innistrad: Crimson Vow  \nDrey Keeper                                             Modern Horizons 2  \nFalkenrath Noble                                           Commander 2017  \nGrim Wanderer                          Adventures in the Forgotten Realms  \nGrizzly Ghoul                                    Innistrad: Midnight Hunt  \nIvy Lane Denizen                                        Commander Legends  \nLlanowar Elves                                              Core Set 2019  \nNadier's Nightblade                                     Commander Legends  \nNested Shambler                                         Modern Horizons 2  \nNut Collector                                                     Odyssey  \nPoison-Tip Archer                                           Core Set 2019  \nRavenous Squirrel                                       Modern Horizons 2  \nSakura-Tribe Elder                                         Commander 2020  \nScurrid Colony                                Strixhaven: School of Mages  \nScurry Oak                                              Modern Horizons 2  \nSpike Weaver                                                       Exodus  \nSquirrel Mob                                                      Odyssey  \nSquirrel Sovereign                                      Modern Horizons 2  \nSquirrel Wrangler                                                Prophecy  \nTerritorial Scythecat                                     Zendikar Rising  \nZulaport Cutthroat                                         Commander 2020  ",
      "text/html": "<div>\n<style scoped>\n    .dataframe tbody tr th:only-of-type {\n        vertical-align: middle;\n    }\n\n    .dataframe tbody tr th {\n        vertical-align: top;\n    }\n\n    .dataframe thead th {\n        text-align: right;\n    }\n</style>\n<table border=\"1\" class=\"dataframe\">\n  <thead>\n    <tr style=\"text-align: right;\">\n      <th></th>\n      <th>Type</th>\n      <th>Cost</th>\n      <th>Rarity</th>\n      <th>Edition</th>\n    </tr>\n    <tr>\n      <th>Name</th>\n      <th></th>\n      <th></th>\n      <th></th>\n      <th></th>\n    </tr>\n  </thead>\n  <tbody>\n    <tr>\n      <th>Arbor Elf</th>\n      <td>Elf Druid</td>\n      <td>{G}</td>\n      <td>Common</td>\n      <td>Masters 25</td>\n    </tr>\n    <tr>\n      <th>Blood Artist</th>\n      <td>Vampire</td>\n      <td>{1}{B}</td>\n      <td>Uncommon</td>\n      <td>Commander 2017</td>\n    </tr>\n    <tr>\n      <th>Chatterfang, Squirrel General</th>\n      <td>Legendary Squirrel Warrior</td>\n      <td>{2}{G}</td>\n      <td>MythicRare</td>\n      <td>Modern Horizons 2</td>\n    </tr>\n    <tr>\n      <th>Circle of Dreams Druid</th>\n      <td>Elf Druid</td>\n      <td>{G}{G}{G}</td>\n      <td>Rare</td>\n      <td>Adventures in the Forgotten Realms</td>\n    </tr>\n    <tr>\n      <th>Deathrite Shaman</th>\n      <td>Elf Shaman</td>\n      <td>{BG}</td>\n      <td>Rare</td>\n      <td>Guilds of Ravnica Guild Kit</td>\n    </tr>\n    <tr>\n      <th>Deep Forest Hermit</th>\n      <td>Elf Druid</td>\n      <td>{3}{G}{G}</td>\n      <td>Rare</td>\n      <td>Modern Horizons</td>\n    </tr>\n    <tr>\n      <th>Dormant Grove // Gnarled Grovestrider</th>\n      <td>Enchantment // Treefolk</td>\n      <td>{3}{G}</td>\n      <td>Uncommon</td>\n      <td>Innistrad: Crimson Vow</td>\n    </tr>\n    <tr>\n      <th>Drey Keeper</th>\n      <td>Elf Druid</td>\n      <td>{3}{B}{G}</td>\n      <td>Common</td>\n      <td>Modern Horizons 2</td>\n    </tr>\n    <tr>\n      <th>Falkenrath Noble</th>\n      <td>Vampire Noble</td>\n      <td>{3}{B}</td>\n      <td>Common</td>\n      <td>Commander 2017</td>\n    </tr>\n    <tr>\n      <th>Grim Wanderer</th>\n      <td>Goblin Warlock</td>\n      <td>{1}{B}</td>\n      <td>Uncommon</td>\n      <td>Adventures in the Forgotten Realms</td>\n    </tr>\n    <tr>\n      <th>Grizzly Ghoul</th>\n      <td>Zombie Bear</td>\n      <td>{2}{B}{G}</td>\n      <td>Uncommon</td>\n      <td>Innistrad: Midnight Hunt</td>\n    </tr>\n    <tr>\n      <th>Ivy Lane Denizen</th>\n      <td>Elf Warrior</td>\n      <td>{3}{G}</td>\n      <td>Common</td>\n      <td>Commander Legends</td>\n    </tr>\n    <tr>\n      <th>Llanowar Elves</th>\n      <td>Elf Druid</td>\n      <td>{G}</td>\n      <td>Common</td>\n      <td>Core Set 2019</td>\n    </tr>\n    <tr>\n      <th>Nadier's Nightblade</th>\n      <td>Elf Warrior</td>\n      <td>{2}{B}</td>\n      <td>Uncommon</td>\n      <td>Commander Legends</td>\n    </tr>\n    <tr>\n      <th>Nested Shambler</th>\n      <td>Zombie</td>\n      <td>{B}</td>\n      <td>Common</td>\n      <td>Modern Horizons 2</td>\n    </tr>\n    <tr>\n      <th>Nut Collector</th>\n      <td>Human Druid</td>\n      <td>{5}{G}</td>\n      <td>Rare</td>\n      <td>Odyssey</td>\n    </tr>\n    <tr>\n      <th>Poison-Tip Archer</th>\n      <td>Elf Archer</td>\n      <td>{2}{B}{G}</td>\n      <td>Uncommon</td>\n      <td>Core Set 2019</td>\n    </tr>\n    <tr>\n      <th>Ravenous Squirrel</th>\n      <td>Squirrel</td>\n      <td>{BG}</td>\n      <td>Uncommon</td>\n      <td>Modern Horizons 2</td>\n    </tr>\n    <tr>\n      <th>Sakura-Tribe Elder</th>\n      <td>Snake Shaman</td>\n      <td>{1}{G}</td>\n      <td>Common</td>\n      <td>Commander 2020</td>\n    </tr>\n    <tr>\n      <th>Scurrid Colony</th>\n      <td>Squirrel</td>\n      <td>{1}{G}</td>\n      <td>Common</td>\n      <td>Strixhaven: School of Mages</td>\n    </tr>\n    <tr>\n      <th>Scurry Oak</th>\n      <td>Treefolk</td>\n      <td>{2}{G}</td>\n      <td>Uncommon</td>\n      <td>Modern Horizons 2</td>\n    </tr>\n    <tr>\n      <th>Spike Weaver</th>\n      <td>Spike</td>\n      <td>{2}{G}{G}</td>\n      <td>Rare</td>\n      <td>Exodus</td>\n    </tr>\n    <tr>\n      <th>Squirrel Mob</th>\n      <td>Squirrel</td>\n      <td>{1}{G}{G}</td>\n      <td>Rare</td>\n      <td>Odyssey</td>\n    </tr>\n    <tr>\n      <th>Squirrel Sovereign</th>\n      <td>Squirrel Noble</td>\n      <td>{1}{G}</td>\n      <td>Uncommon</td>\n      <td>Modern Horizons 2</td>\n    </tr>\n    <tr>\n      <th>Squirrel Wrangler</th>\n      <td>Human Druid</td>\n      <td>{2}{G}{G}</td>\n      <td>Rare</td>\n      <td>Prophecy</td>\n    </tr>\n    <tr>\n      <th>Territorial Scythecat</th>\n      <td>Cat</td>\n      <td>{2}{G}</td>\n      <td>Common</td>\n      <td>Zendikar Rising</td>\n    </tr>\n    <tr>\n      <th>Zulaport Cutthroat</th>\n      <td>Human Rogue Ally</td>\n      <td>{1}{B}</td>\n      <td>Uncommon</td>\n      <td>Commander 2020</td>\n    </tr>\n  </tbody>\n</table>\n</div>"
     },
     "execution_count": 13,
     "metadata": {},
     "output_type": "execute_result"
    }
   ],
   "source": [
    "creatures = creatures(df)\n",
    "creatures"
   ],
   "metadata": {
    "collapsed": false,
    "pycharm": {
     "name": "#%%\n"
    }
   }
  },
  {
   "cell_type": "code",
   "execution_count": 16,
   "outputs": [],
   "source": [
    "lands = lands(df)"
   ],
   "metadata": {
    "collapsed": false,
    "pycharm": {
     "name": "#%%\n"
    }
   }
  },
  {
   "cell_type": "code",
   "execution_count": 17,
   "outputs": [
    {
     "data": {
      "text/plain": "                            Count                 Type     Rarity  \\\nName                                                                \nBojuka Bog                      1                 Land     Common   \nCastle Garenbrig                1                 Land       Rare   \nDarkmoss Bridge                 1        Artifact Land     Common   \nForest                          9  Basic Land - Forest  BasicLand   \nGolgari Guildgate               1          Land - Gate     Common   \nHall of Oracles                 1                 Land       Rare   \nJungle Hollow                   1                 Land     Common   \nNecroblossom Snarl              1                 Land       Rare   \nOran-Rief, the Vastwood         1                 Land       Rare   \nSwamp                          10   Basic Land - Swamp  BasicLand   \nSwarmyard                       1                 Land       Rare   \nTemple of Malady                1                 Land       Rare   \nThriving Grove                  1                 Land     Common   \nUndergrowth Stadium             1                 Land       Rare   \nUrborg, Tomb of Yawgmoth        1       Legendary Land       Rare   \nWitherbloom Campus              1                 Land     Common   \nWoodland Cemetery               1                 Land       Rare   \nYavimaya, Cradle of Growth      1       Legendary Land       Rare   \n\n                                                Edition  \nName                                                     \nBojuka Bog                               Commander 2020  \nCastle Garenbrig                     Throne of Eldraine  \nDarkmoss Bridge                       Modern Horizons 2  \nForest                                Commander Legends  \nGolgari Guildgate                        Commander 2019  \nHall of Oracles             Strixhaven: School of Mages  \nJungle Hollow                 Ikoria: Lair of Behemoths  \nNecroblossom Snarl          Strixhaven: School of Mages  \nOran-Rief, the Vastwood                  Commander 2020  \nSwamp                         Ikoria: Lair of Behemoths  \nSwarmyard                                   Time Spiral  \nTemple of Malady                          Core Set 2020  \nThriving Grove                                Jumpstart  \nUndergrowth Stadium                   Commander Legends  \nUrborg, Tomb of Yawgmoth            Magic 2015 Core Set  \nWitherbloom Campus          Strixhaven: School of Mages  \nWoodland Cemetery                             Dominaria  \nYavimaya, Cradle of Growth            Modern Horizons 2  ",
      "text/html": "<div>\n<style scoped>\n    .dataframe tbody tr th:only-of-type {\n        vertical-align: middle;\n    }\n\n    .dataframe tbody tr th {\n        vertical-align: top;\n    }\n\n    .dataframe thead th {\n        text-align: right;\n    }\n</style>\n<table border=\"1\" class=\"dataframe\">\n  <thead>\n    <tr style=\"text-align: right;\">\n      <th></th>\n      <th>Count</th>\n      <th>Type</th>\n      <th>Rarity</th>\n      <th>Edition</th>\n    </tr>\n    <tr>\n      <th>Name</th>\n      <th></th>\n      <th></th>\n      <th></th>\n      <th></th>\n    </tr>\n  </thead>\n  <tbody>\n    <tr>\n      <th>Bojuka Bog</th>\n      <td>1</td>\n      <td>Land</td>\n      <td>Common</td>\n      <td>Commander 2020</td>\n    </tr>\n    <tr>\n      <th>Castle Garenbrig</th>\n      <td>1</td>\n      <td>Land</td>\n      <td>Rare</td>\n      <td>Throne of Eldraine</td>\n    </tr>\n    <tr>\n      <th>Darkmoss Bridge</th>\n      <td>1</td>\n      <td>Artifact Land</td>\n      <td>Common</td>\n      <td>Modern Horizons 2</td>\n    </tr>\n    <tr>\n      <th>Forest</th>\n      <td>9</td>\n      <td>Basic Land - Forest</td>\n      <td>BasicLand</td>\n      <td>Commander Legends</td>\n    </tr>\n    <tr>\n      <th>Golgari Guildgate</th>\n      <td>1</td>\n      <td>Land - Gate</td>\n      <td>Common</td>\n      <td>Commander 2019</td>\n    </tr>\n    <tr>\n      <th>Hall of Oracles</th>\n      <td>1</td>\n      <td>Land</td>\n      <td>Rare</td>\n      <td>Strixhaven: School of Mages</td>\n    </tr>\n    <tr>\n      <th>Jungle Hollow</th>\n      <td>1</td>\n      <td>Land</td>\n      <td>Common</td>\n      <td>Ikoria: Lair of Behemoths</td>\n    </tr>\n    <tr>\n      <th>Necroblossom Snarl</th>\n      <td>1</td>\n      <td>Land</td>\n      <td>Rare</td>\n      <td>Strixhaven: School of Mages</td>\n    </tr>\n    <tr>\n      <th>Oran-Rief, the Vastwood</th>\n      <td>1</td>\n      <td>Land</td>\n      <td>Rare</td>\n      <td>Commander 2020</td>\n    </tr>\n    <tr>\n      <th>Swamp</th>\n      <td>10</td>\n      <td>Basic Land - Swamp</td>\n      <td>BasicLand</td>\n      <td>Ikoria: Lair of Behemoths</td>\n    </tr>\n    <tr>\n      <th>Swarmyard</th>\n      <td>1</td>\n      <td>Land</td>\n      <td>Rare</td>\n      <td>Time Spiral</td>\n    </tr>\n    <tr>\n      <th>Temple of Malady</th>\n      <td>1</td>\n      <td>Land</td>\n      <td>Rare</td>\n      <td>Core Set 2020</td>\n    </tr>\n    <tr>\n      <th>Thriving Grove</th>\n      <td>1</td>\n      <td>Land</td>\n      <td>Common</td>\n      <td>Jumpstart</td>\n    </tr>\n    <tr>\n      <th>Undergrowth Stadium</th>\n      <td>1</td>\n      <td>Land</td>\n      <td>Rare</td>\n      <td>Commander Legends</td>\n    </tr>\n    <tr>\n      <th>Urborg, Tomb of Yawgmoth</th>\n      <td>1</td>\n      <td>Legendary Land</td>\n      <td>Rare</td>\n      <td>Magic 2015 Core Set</td>\n    </tr>\n    <tr>\n      <th>Witherbloom Campus</th>\n      <td>1</td>\n      <td>Land</td>\n      <td>Common</td>\n      <td>Strixhaven: School of Mages</td>\n    </tr>\n    <tr>\n      <th>Woodland Cemetery</th>\n      <td>1</td>\n      <td>Land</td>\n      <td>Rare</td>\n      <td>Dominaria</td>\n    </tr>\n    <tr>\n      <th>Yavimaya, Cradle of Growth</th>\n      <td>1</td>\n      <td>Legendary Land</td>\n      <td>Rare</td>\n      <td>Modern Horizons 2</td>\n    </tr>\n  </tbody>\n</table>\n</div>"
     },
     "execution_count": 17,
     "metadata": {},
     "output_type": "execute_result"
    }
   ],
   "source": [
    "lands"
   ],
   "metadata": {
    "collapsed": false,
    "pycharm": {
     "name": "#%%\n"
    }
   }
  },
  {
   "cell_type": "code",
   "execution_count": 3,
   "outputs": [],
   "source": [],
   "metadata": {
    "collapsed": false,
    "pycharm": {
     "name": "#%%\n"
    }
   }
  }
 ],
 "metadata": {
  "kernelspec": {
   "display_name": "Python 3",
   "language": "python",
   "name": "python3"
  },
  "language_info": {
   "codemirror_mode": {
    "name": "ipython",
    "version": 2
   },
   "file_extension": ".py",
   "mimetype": "text/x-python",
   "name": "python",
   "nbconvert_exporter": "python",
   "pygments_lexer": "ipython2",
   "version": "2.7.6"
  }
 },
 "nbformat": 4,
 "nbformat_minor": 0
}