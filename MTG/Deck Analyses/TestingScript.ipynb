{
 "cells": [
  {
   "cell_type": "code",
   "execution_count": 10,
   "outputs": [],
   "source": [
    "import pandas as pd"
   ],
   "metadata": {
    "collapsed": false,
    "pycharm": {
     "name": "#%%\n"
    }
   }
  },
  {
   "cell_type": "code",
   "execution_count": 11,
   "outputs": [],
   "source": [
    "from deckbox_formatter import bring\n",
    "from deckbox_formatter import dropCols as dc"
   ],
   "metadata": {
    "collapsed": false,
    "pycharm": {
     "name": "#%%\n"
    }
   }
  },
  {
   "cell_type": "code",
   "execution_count": 12,
   "outputs": [],
   "source": [
    "df = bring('../Decks/Chatterfang_EDH.csv')"
   ],
   "metadata": {
    "collapsed": false,
    "pycharm": {
     "name": "#%%\n"
    }
   }
  },
  {
   "cell_type": "code",
   "execution_count": 13,
   "outputs": [
    {
     "data": {
      "text/plain": "    Count                           Name  \\\n0       1                  Acorn Harvest   \n1       1                      Arbor Elf   \n2       1          Beastmaster Ascension   \n3       1                   Blood Artist   \n4       1                     Bojuka Bog   \n..    ...                            ...   \n83      1               Cloakwood Hermit   \n84      1              Corpsejack Menace   \n85      1                Hardened Scales   \n86      1  Jaheira, Friend of the Forest   \n87      1            Winding Constrictor   \n\n                                    Type       Cost    Rarity     Section  \\\n0                                Sorcery     {3}{G}    Common        main   \n1                   Creature - Elf Druid        {G}    Common        main   \n2                            Enchantment     {2}{G}      Rare        main   \n3                     Creature - Vampire     {1}{B}  Uncommon        main   \n4                                   Land        NaN    Common        main   \n..                                   ...        ...       ...         ...   \n83    Legendary Enchantment - Background     {2}{G}  Uncommon   sideboard   \n84                     Creature - Fungus  {2}{B}{G}      Rare  scratchpad   \n85                           Enchantment        {G}      Rare  scratchpad   \n86  Legendary Creature - Human Elf Druid     {2}{G}      Rare  scratchpad   \n87                      Creature - Snake     {B}{G}  Uncommon  scratchpad   \n\n                                            Image URL  \\\n0   https://s.deckbox.org/system/images/mtg/cards/...   \n1   https://s.deckbox.org/system/images/mtg/cards/...   \n2   https://s.deckbox.org/system/images/mtg/cards/...   \n3   https://s.deckbox.org/system/images/mtg/cards/...   \n4   https://s.deckbox.org/system/images/mtg/cards/...   \n..                                                ...   \n83  https://s.deckbox.org/system/images/mtg/cards/...   \n84  https://s.deckbox.org/system/images/mtg/cards/...   \n85  https://s.deckbox.org/system/images/mtg/cards/...   \n86  https://s.deckbox.org/system/images/mtg/cards/...   \n87  https://s.deckbox.org/system/images/mtg/cards/...   \n\n                                        Edition  Card Number  Condition  \\\n0                                       Torment          NaN        NaN   \n1                                    Masters 25          NaN        NaN   \n2                                Commander 2016          NaN        NaN   \n3                                Commander 2017          NaN        NaN   \n4                                Commander 2020          NaN        NaN   \n..                                          ...          ...        ...   \n83  Commander Legends: Battle for Baldur's Gate          NaN        NaN   \n84                Commander Anthology Volume II          NaN        NaN   \n85                Commander Anthology Volume II          NaN        NaN   \n86  Commander Legends: Battle for Baldur's Gate          NaN        NaN   \n87                                Aether Revolt          NaN        NaN   \n\n    Language  Foil  Signed  Artist Proof  Altered Art  Misprint  \n0        NaN   NaN     NaN           NaN          NaN       NaN  \n1        NaN   NaN     NaN           NaN          NaN       NaN  \n2        NaN   NaN     NaN           NaN          NaN       NaN  \n3        NaN   NaN     NaN           NaN          NaN       NaN  \n4        NaN   NaN     NaN           NaN          NaN       NaN  \n..       ...   ...     ...           ...          ...       ...  \n83       NaN   NaN     NaN           NaN          NaN       NaN  \n84       NaN   NaN     NaN           NaN          NaN       NaN  \n85       NaN   NaN     NaN           NaN          NaN       NaN  \n86       NaN   NaN     NaN           NaN          NaN       NaN  \n87       NaN   NaN     NaN           NaN          NaN       NaN  \n\n[88 rows x 16 columns]",
      "text/html": "<div>\n<style scoped>\n    .dataframe tbody tr th:only-of-type {\n        vertical-align: middle;\n    }\n\n    .dataframe tbody tr th {\n        vertical-align: top;\n    }\n\n    .dataframe thead th {\n        text-align: right;\n    }\n</style>\n<table border=\"1\" class=\"dataframe\">\n  <thead>\n    <tr style=\"text-align: right;\">\n      <th></th>\n      <th>Count</th>\n      <th>Name</th>\n      <th>Type</th>\n      <th>Cost</th>\n      <th>Rarity</th>\n      <th>Section</th>\n      <th>Image URL</th>\n      <th>Edition</th>\n      <th>Card Number</th>\n      <th>Condition</th>\n      <th>Language</th>\n      <th>Foil</th>\n      <th>Signed</th>\n      <th>Artist Proof</th>\n      <th>Altered Art</th>\n      <th>Misprint</th>\n    </tr>\n  </thead>\n  <tbody>\n    <tr>\n      <th>0</th>\n      <td>1</td>\n      <td>Acorn Harvest</td>\n      <td>Sorcery</td>\n      <td>{3}{G}</td>\n      <td>Common</td>\n      <td>main</td>\n      <td>https://s.deckbox.org/system/images/mtg/cards/...</td>\n      <td>Torment</td>\n      <td>NaN</td>\n      <td>NaN</td>\n      <td>NaN</td>\n      <td>NaN</td>\n      <td>NaN</td>\n      <td>NaN</td>\n      <td>NaN</td>\n      <td>NaN</td>\n    </tr>\n    <tr>\n      <th>1</th>\n      <td>1</td>\n      <td>Arbor Elf</td>\n      <td>Creature - Elf Druid</td>\n      <td>{G}</td>\n      <td>Common</td>\n      <td>main</td>\n      <td>https://s.deckbox.org/system/images/mtg/cards/...</td>\n      <td>Masters 25</td>\n      <td>NaN</td>\n      <td>NaN</td>\n      <td>NaN</td>\n      <td>NaN</td>\n      <td>NaN</td>\n      <td>NaN</td>\n      <td>NaN</td>\n      <td>NaN</td>\n    </tr>\n    <tr>\n      <th>2</th>\n      <td>1</td>\n      <td>Beastmaster Ascension</td>\n      <td>Enchantment</td>\n      <td>{2}{G}</td>\n      <td>Rare</td>\n      <td>main</td>\n      <td>https://s.deckbox.org/system/images/mtg/cards/...</td>\n      <td>Commander 2016</td>\n      <td>NaN</td>\n      <td>NaN</td>\n      <td>NaN</td>\n      <td>NaN</td>\n      <td>NaN</td>\n      <td>NaN</td>\n      <td>NaN</td>\n      <td>NaN</td>\n    </tr>\n    <tr>\n      <th>3</th>\n      <td>1</td>\n      <td>Blood Artist</td>\n      <td>Creature - Vampire</td>\n      <td>{1}{B}</td>\n      <td>Uncommon</td>\n      <td>main</td>\n      <td>https://s.deckbox.org/system/images/mtg/cards/...</td>\n      <td>Commander 2017</td>\n      <td>NaN</td>\n      <td>NaN</td>\n      <td>NaN</td>\n      <td>NaN</td>\n      <td>NaN</td>\n      <td>NaN</td>\n      <td>NaN</td>\n      <td>NaN</td>\n    </tr>\n    <tr>\n      <th>4</th>\n      <td>1</td>\n      <td>Bojuka Bog</td>\n      <td>Land</td>\n      <td>NaN</td>\n      <td>Common</td>\n      <td>main</td>\n      <td>https://s.deckbox.org/system/images/mtg/cards/...</td>\n      <td>Commander 2020</td>\n      <td>NaN</td>\n      <td>NaN</td>\n      <td>NaN</td>\n      <td>NaN</td>\n      <td>NaN</td>\n      <td>NaN</td>\n      <td>NaN</td>\n      <td>NaN</td>\n    </tr>\n    <tr>\n      <th>...</th>\n      <td>...</td>\n      <td>...</td>\n      <td>...</td>\n      <td>...</td>\n      <td>...</td>\n      <td>...</td>\n      <td>...</td>\n      <td>...</td>\n      <td>...</td>\n      <td>...</td>\n      <td>...</td>\n      <td>...</td>\n      <td>...</td>\n      <td>...</td>\n      <td>...</td>\n      <td>...</td>\n    </tr>\n    <tr>\n      <th>83</th>\n      <td>1</td>\n      <td>Cloakwood Hermit</td>\n      <td>Legendary Enchantment - Background</td>\n      <td>{2}{G}</td>\n      <td>Uncommon</td>\n      <td>sideboard</td>\n      <td>https://s.deckbox.org/system/images/mtg/cards/...</td>\n      <td>Commander Legends: Battle for Baldur's Gate</td>\n      <td>NaN</td>\n      <td>NaN</td>\n      <td>NaN</td>\n      <td>NaN</td>\n      <td>NaN</td>\n      <td>NaN</td>\n      <td>NaN</td>\n      <td>NaN</td>\n    </tr>\n    <tr>\n      <th>84</th>\n      <td>1</td>\n      <td>Corpsejack Menace</td>\n      <td>Creature - Fungus</td>\n      <td>{2}{B}{G}</td>\n      <td>Rare</td>\n      <td>scratchpad</td>\n      <td>https://s.deckbox.org/system/images/mtg/cards/...</td>\n      <td>Commander Anthology Volume II</td>\n      <td>NaN</td>\n      <td>NaN</td>\n      <td>NaN</td>\n      <td>NaN</td>\n      <td>NaN</td>\n      <td>NaN</td>\n      <td>NaN</td>\n      <td>NaN</td>\n    </tr>\n    <tr>\n      <th>85</th>\n      <td>1</td>\n      <td>Hardened Scales</td>\n      <td>Enchantment</td>\n      <td>{G}</td>\n      <td>Rare</td>\n      <td>scratchpad</td>\n      <td>https://s.deckbox.org/system/images/mtg/cards/...</td>\n      <td>Commander Anthology Volume II</td>\n      <td>NaN</td>\n      <td>NaN</td>\n      <td>NaN</td>\n      <td>NaN</td>\n      <td>NaN</td>\n      <td>NaN</td>\n      <td>NaN</td>\n      <td>NaN</td>\n    </tr>\n    <tr>\n      <th>86</th>\n      <td>1</td>\n      <td>Jaheira, Friend of the Forest</td>\n      <td>Legendary Creature - Human Elf Druid</td>\n      <td>{2}{G}</td>\n      <td>Rare</td>\n      <td>scratchpad</td>\n      <td>https://s.deckbox.org/system/images/mtg/cards/...</td>\n      <td>Commander Legends: Battle for Baldur's Gate</td>\n      <td>NaN</td>\n      <td>NaN</td>\n      <td>NaN</td>\n      <td>NaN</td>\n      <td>NaN</td>\n      <td>NaN</td>\n      <td>NaN</td>\n      <td>NaN</td>\n    </tr>\n    <tr>\n      <th>87</th>\n      <td>1</td>\n      <td>Winding Constrictor</td>\n      <td>Creature - Snake</td>\n      <td>{B}{G}</td>\n      <td>Uncommon</td>\n      <td>scratchpad</td>\n      <td>https://s.deckbox.org/system/images/mtg/cards/...</td>\n      <td>Aether Revolt</td>\n      <td>NaN</td>\n      <td>NaN</td>\n      <td>NaN</td>\n      <td>NaN</td>\n      <td>NaN</td>\n      <td>NaN</td>\n      <td>NaN</td>\n      <td>NaN</td>\n    </tr>\n  </tbody>\n</table>\n<p>88 rows × 16 columns</p>\n</div>"
     },
     "execution_count": 13,
     "metadata": {},
     "output_type": "execute_result"
    }
   ],
   "source": [
    "df"
   ],
   "metadata": {
    "collapsed": false,
    "pycharm": {
     "name": "#%%\n"
    }
   }
  },
  {
   "cell_type": "code",
   "execution_count": null,
   "outputs": [],
   "source": [],
   "metadata": {
    "collapsed": false,
    "pycharm": {
     "name": "#%%\n"
    }
   }
  }
 ],
 "metadata": {
  "kernelspec": {
   "display_name": "Python 3",
   "language": "python",
   "name": "python3"
  },
  "language_info": {
   "codemirror_mode": {
    "name": "ipython",
    "version": 2
   },
   "file_extension": ".py",
   "mimetype": "text/x-python",
   "name": "python",
   "nbconvert_exporter": "python",
   "pygments_lexer": "ipython2",
   "version": "2.7.6"
  }
 },
 "nbformat": 4,
 "nbformat_minor": 0
}