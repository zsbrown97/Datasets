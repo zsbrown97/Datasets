{
 "cells": [
  {
   "cell_type": "markdown",
   "metadata": {
    "pycharm": {
     "name": "#%% md\n"
    }
   },
   "source": [
    "## Data Setup"
   ]
  },
  {
   "cell_type": "markdown",
   "metadata": {
    "pycharm": {
     "name": "#%% md\n"
    }
   },
   "source": [
    "Library imports\n",
    "___"
   ]
  },
  {
   "cell_type": "code",
   "execution_count": 14,
   "metadata": {
    "pycharm": {
     "name": "#%%\n"
    }
   },
   "outputs": [],
   "source": [
    "from babel.numbers import format_currency as fc\n",
    "import matplotlib.pyplot as plt\n",
    "import pandas as pd\n",
    "import seaborn as sns\n",
    "\n",
    "plt.style.use('fivethirtyeight')"
   ]
  },
  {
   "cell_type": "markdown",
   "metadata": {
    "pycharm": {
     "name": "#%% md\n"
    }
   },
   "source": [
    "Data import and declaration\n",
    "___"
   ]
  },
  {
   "cell_type": "code",
   "execution_count": 15,
   "metadata": {
    "pycharm": {
     "name": "#%%\n"
    }
   },
   "outputs": [],
   "source": [
    "mcu_csv = pd.read_csv(\"./mcu_box_office.csv\")"
   ]
  },
  {
   "cell_type": "code",
   "execution_count": 16,
   "metadata": {
    "pycharm": {
     "name": "#%%\n"
    }
   },
   "outputs": [
    {
     "data": {
      "text/html": [
       "<div>\n",
       "<style scoped>\n",
       "    .dataframe tbody tr th:only-of-type {\n",
       "        vertical-align: middle;\n",
       "    }\n",
       "\n",
       "    .dataframe tbody tr th {\n",
       "        vertical-align: top;\n",
       "    }\n",
       "\n",
       "    .dataframe thead th {\n",
       "        text-align: right;\n",
       "    }\n",
       "</style>\n",
       "<table border=\"1\" class=\"dataframe\">\n",
       "  <thead>\n",
       "    <tr style=\"text-align: right;\">\n",
       "      <th></th>\n",
       "      <th>movie_title</th>\n",
       "      <th>mcu_phase</th>\n",
       "      <th>release_date</th>\n",
       "      <th>tomato_meter</th>\n",
       "      <th>audience_score</th>\n",
       "      <th>movie_duration</th>\n",
       "      <th>production_budget</th>\n",
       "      <th>opening_weekend</th>\n",
       "      <th>domestic_box_office</th>\n",
       "      <th>worldwide_box_office</th>\n",
       "    </tr>\n",
       "  </thead>\n",
       "  <tbody>\n",
       "    <tr>\n",
       "      <th>0</th>\n",
       "      <td>Iron Man</td>\n",
       "      <td>1</td>\n",
       "      <td>5/2/2008</td>\n",
       "      <td>94</td>\n",
       "      <td>91</td>\n",
       "      <td>126</td>\n",
       "      <td>186,000,000</td>\n",
       "      <td>102,118,668</td>\n",
       "      <td>318,604,126</td>\n",
       "      <td>585,171,547</td>\n",
       "    </tr>\n",
       "    <tr>\n",
       "      <th>1</th>\n",
       "      <td>The Incredible Hulk</td>\n",
       "      <td>1</td>\n",
       "      <td>6/13/2008</td>\n",
       "      <td>67</td>\n",
       "      <td>70</td>\n",
       "      <td>112</td>\n",
       "      <td>137,500,000</td>\n",
       "      <td>55,414,050</td>\n",
       "      <td>134,806,913</td>\n",
       "      <td>265,573,859</td>\n",
       "    </tr>\n",
       "    <tr>\n",
       "      <th>2</th>\n",
       "      <td>Iron Man 2</td>\n",
       "      <td>1</td>\n",
       "      <td>5/7/2010</td>\n",
       "      <td>72</td>\n",
       "      <td>71</td>\n",
       "      <td>124</td>\n",
       "      <td>170,000,000</td>\n",
       "      <td>128,122,480</td>\n",
       "      <td>312,433,331</td>\n",
       "      <td>621,156,389</td>\n",
       "    </tr>\n",
       "    <tr>\n",
       "      <th>3</th>\n",
       "      <td>Thor</td>\n",
       "      <td>1</td>\n",
       "      <td>5/6/2011</td>\n",
       "      <td>77</td>\n",
       "      <td>76</td>\n",
       "      <td>113</td>\n",
       "      <td>150,000,000</td>\n",
       "      <td>65,723,338</td>\n",
       "      <td>181,030,624</td>\n",
       "      <td>449,326,618</td>\n",
       "    </tr>\n",
       "    <tr>\n",
       "      <th>4</th>\n",
       "      <td>Captain America: The First Avenger</td>\n",
       "      <td>1</td>\n",
       "      <td>7/22/2011</td>\n",
       "      <td>79</td>\n",
       "      <td>75</td>\n",
       "      <td>124</td>\n",
       "      <td>140,000,000</td>\n",
       "      <td>65,058,524</td>\n",
       "      <td>176,654,505</td>\n",
       "      <td>370,569,776</td>\n",
       "    </tr>\n",
       "  </tbody>\n",
       "</table>\n",
       "</div>"
      ],
      "text/plain": [
       "                          movie_title  mcu_phase release_date  tomato_meter  \\\n",
       "0                            Iron Man          1     5/2/2008            94   \n",
       "1                 The Incredible Hulk          1    6/13/2008            67   \n",
       "2                          Iron Man 2          1     5/7/2010            72   \n",
       "3                                Thor          1     5/6/2011            77   \n",
       "4  Captain America: The First Avenger          1    7/22/2011            79   \n",
       "\n",
       "   audience_score  movie_duration production_budget opening_weekend  \\\n",
       "0              91             126       186,000,000     102,118,668   \n",
       "1              70             112       137,500,000      55,414,050   \n",
       "2              71             124       170,000,000     128,122,480   \n",
       "3              76             113       150,000,000      65,723,338   \n",
       "4              75             124       140,000,000      65,058,524   \n",
       "\n",
       "  domestic_box_office worldwide_box_office  \n",
       "0         318,604,126          585,171,547  \n",
       "1         134,806,913          265,573,859  \n",
       "2         312,433,331          621,156,389  \n",
       "3         181,030,624          449,326,618  \n",
       "4         176,654,505          370,569,776  "
      ]
     },
     "execution_count": 16,
     "metadata": {},
     "output_type": "execute_result"
    }
   ],
   "source": [
    "mcu = pd.DataFrame(data=mcu_csv)\n",
    "\n",
    "mcu.head()"
   ]
  },
  {
   "cell_type": "markdown",
   "metadata": {
    "pycharm": {
     "name": "#%% md\n"
    }
   },
   "source": [
    "Rename columns\n",
    "___\n"
   ]
  },
  {
   "cell_type": "code",
   "execution_count": 17,
   "metadata": {
    "pycharm": {
     "name": "#%%\n"
    }
   },
   "outputs": [
    {
     "data": {
      "text/plain": [
       "Index(['movie_title', 'mcu_phase', 'release_date', 'tomato_meter',\n",
       "       'audience_score', 'movie_duration', 'production_budget',\n",
       "       'opening_weekend', 'domestic_box_office', 'worldwide_box_office'],\n",
       "      dtype='object')"
      ]
     },
     "execution_count": 17,
     "metadata": {},
     "output_type": "execute_result"
    }
   ],
   "source": [
    "mcu.columns"
   ]
  },
  {
   "cell_type": "code",
   "execution_count": 18,
   "metadata": {
    "pycharm": {
     "name": "#%%\n"
    }
   },
   "outputs": [],
   "source": [
    "mcu.columns = ['Film', 'Phase', 'Release Date', 'Critical Reception', 'Audience Reception', 'Length', 'Budget', 'Opening Weekend Gross', 'Domestic Gross', 'Worldwide Gross']"
   ]
  },
  {
   "cell_type": "code",
   "execution_count": 19,
   "metadata": {
    "pycharm": {
     "name": "#%%\n"
    }
   },
   "outputs": [
    {
     "name": "stdout",
     "output_type": "stream",
     "text": [
      "<class 'pandas.core.frame.DataFrame'>\n",
      "RangeIndex: 27 entries, 0 to 26\n",
      "Data columns (total 10 columns):\n",
      " #   Column                 Non-Null Count  Dtype \n",
      "---  ------                 --------------  ----- \n",
      " 0   Film                   27 non-null     object\n",
      " 1   Phase                  27 non-null     int64 \n",
      " 2   Release Date           27 non-null     object\n",
      " 3   Critical Reception     27 non-null     int64 \n",
      " 4   Audience Reception     27 non-null     int64 \n",
      " 5   Length                 27 non-null     int64 \n",
      " 6   Budget                 27 non-null     object\n",
      " 7   Opening Weekend Gross  27 non-null     object\n",
      " 8   Domestic Gross         27 non-null     object\n",
      " 9   Worldwide Gross        27 non-null     object\n",
      "dtypes: int64(4), object(6)\n",
      "memory usage: 2.2+ KB\n"
     ]
    }
   ],
   "source": [
    "mcu.info()"
   ]
  },
  {
   "cell_type": "markdown",
   "metadata": {
    "pycharm": {
     "name": "#%% md\n"
    }
   },
   "source": [
    "Shortening some of the longer titles\n",
    "___"
   ]
  },
  {
   "cell_type": "code",
   "execution_count": 20,
   "metadata": {
    "pycharm": {
     "name": "#%%\n"
    }
   },
   "outputs": [],
   "source": [
    "mcu.at[4,'Film']='Captain America'\n",
    "mcu.at[8,'Film']='The Winter Soldier'\n",
    "mcu.at[10,'Film']='Age of Ultron'\n",
    "mcu.at[12,'Film']='Civil War'\n",
    "mcu.at[18,'Film']='Infinity War'\n",
    "mcu.at[21,'Film']='Endgame'\n",
    "mcu.at[24,'Film']='Shang-Chi'"
   ]
  },
  {
   "cell_type": "markdown",
   "metadata": {
    "pycharm": {
     "name": "#%% md\n"
    }
   },
   "source": [
    "Setting the index as the Film column\n",
    "___"
   ]
  },
  {
   "cell_type": "code",
   "execution_count": 21,
   "metadata": {
    "pycharm": {
     "name": "#%%\n"
    }
   },
   "outputs": [],
   "source": [
    "mcu=mcu.set_index('Film')"
   ]
  },
  {
   "cell_type": "code",
   "execution_count": 22,
   "metadata": {
    "pycharm": {
     "name": "#%%\n"
    }
   },
   "outputs": [
    {
     "name": "stdout",
     "output_type": "stream",
     "text": [
      "<class 'pandas.core.frame.DataFrame'>\n",
      "Index: 27 entries, Iron Man to Spider-Man: No Way Home\n",
      "Data columns (total 9 columns):\n",
      " #   Column                 Non-Null Count  Dtype \n",
      "---  ------                 --------------  ----- \n",
      " 0   Phase                  27 non-null     int64 \n",
      " 1   Release Date           27 non-null     object\n",
      " 2   Critical Reception     27 non-null     int64 \n",
      " 3   Audience Reception     27 non-null     int64 \n",
      " 4   Length                 27 non-null     int64 \n",
      " 5   Budget                 27 non-null     object\n",
      " 6   Opening Weekend Gross  27 non-null     object\n",
      " 7   Domestic Gross         27 non-null     object\n",
      " 8   Worldwide Gross        27 non-null     object\n",
      "dtypes: int64(4), object(5)\n",
      "memory usage: 2.1+ KB\n"
     ]
    }
   ],
   "source": [
    "mcu.info()"
   ]
  },
  {
   "cell_type": "code",
   "execution_count": 23,
   "metadata": {
    "pycharm": {
     "name": "#%%\n"
    }
   },
   "outputs": [
    {
     "data": {
      "text/html": [
       "<div>\n",
       "<style scoped>\n",
       "    .dataframe tbody tr th:only-of-type {\n",
       "        vertical-align: middle;\n",
       "    }\n",
       "\n",
       "    .dataframe tbody tr th {\n",
       "        vertical-align: top;\n",
       "    }\n",
       "\n",
       "    .dataframe thead th {\n",
       "        text-align: right;\n",
       "    }\n",
       "</style>\n",
       "<table border=\"1\" class=\"dataframe\">\n",
       "  <thead>\n",
       "    <tr style=\"text-align: right;\">\n",
       "      <th></th>\n",
       "      <th>Phase</th>\n",
       "      <th>Release Date</th>\n",
       "      <th>Critical Reception</th>\n",
       "      <th>Audience Reception</th>\n",
       "      <th>Length</th>\n",
       "      <th>Budget</th>\n",
       "      <th>Opening Weekend Gross</th>\n",
       "      <th>Domestic Gross</th>\n",
       "      <th>Worldwide Gross</th>\n",
       "    </tr>\n",
       "    <tr>\n",
       "      <th>Film</th>\n",
       "      <th></th>\n",
       "      <th></th>\n",
       "      <th></th>\n",
       "      <th></th>\n",
       "      <th></th>\n",
       "      <th></th>\n",
       "      <th></th>\n",
       "      <th></th>\n",
       "      <th></th>\n",
       "    </tr>\n",
       "  </thead>\n",
       "  <tbody>\n",
       "    <tr>\n",
       "      <th>Iron Man</th>\n",
       "      <td>1</td>\n",
       "      <td>5/2/2008</td>\n",
       "      <td>94</td>\n",
       "      <td>91</td>\n",
       "      <td>126</td>\n",
       "      <td>186,000,000</td>\n",
       "      <td>102,118,668</td>\n",
       "      <td>318,604,126</td>\n",
       "      <td>585,171,547</td>\n",
       "    </tr>\n",
       "    <tr>\n",
       "      <th>The Incredible Hulk</th>\n",
       "      <td>1</td>\n",
       "      <td>6/13/2008</td>\n",
       "      <td>67</td>\n",
       "      <td>70</td>\n",
       "      <td>112</td>\n",
       "      <td>137,500,000</td>\n",
       "      <td>55,414,050</td>\n",
       "      <td>134,806,913</td>\n",
       "      <td>265,573,859</td>\n",
       "    </tr>\n",
       "    <tr>\n",
       "      <th>Iron Man 2</th>\n",
       "      <td>1</td>\n",
       "      <td>5/7/2010</td>\n",
       "      <td>72</td>\n",
       "      <td>71</td>\n",
       "      <td>124</td>\n",
       "      <td>170,000,000</td>\n",
       "      <td>128,122,480</td>\n",
       "      <td>312,433,331</td>\n",
       "      <td>621,156,389</td>\n",
       "    </tr>\n",
       "    <tr>\n",
       "      <th>Thor</th>\n",
       "      <td>1</td>\n",
       "      <td>5/6/2011</td>\n",
       "      <td>77</td>\n",
       "      <td>76</td>\n",
       "      <td>113</td>\n",
       "      <td>150,000,000</td>\n",
       "      <td>65,723,338</td>\n",
       "      <td>181,030,624</td>\n",
       "      <td>449,326,618</td>\n",
       "    </tr>\n",
       "    <tr>\n",
       "      <th>Captain America</th>\n",
       "      <td>1</td>\n",
       "      <td>7/22/2011</td>\n",
       "      <td>79</td>\n",
       "      <td>75</td>\n",
       "      <td>124</td>\n",
       "      <td>140,000,000</td>\n",
       "      <td>65,058,524</td>\n",
       "      <td>176,654,505</td>\n",
       "      <td>370,569,776</td>\n",
       "    </tr>\n",
       "    <tr>\n",
       "      <th>The Avengers</th>\n",
       "      <td>1</td>\n",
       "      <td>5/4/2012</td>\n",
       "      <td>91</td>\n",
       "      <td>91</td>\n",
       "      <td>143</td>\n",
       "      <td>225,000,000</td>\n",
       "      <td>207,438,708</td>\n",
       "      <td>623,357,910</td>\n",
       "      <td>1,515,100,211</td>\n",
       "    </tr>\n",
       "    <tr>\n",
       "      <th>Iron Man 3</th>\n",
       "      <td>2</td>\n",
       "      <td>5/3/2013</td>\n",
       "      <td>79</td>\n",
       "      <td>78</td>\n",
       "      <td>130</td>\n",
       "      <td>200,000,000</td>\n",
       "      <td>174,144,585</td>\n",
       "      <td>408,992,272</td>\n",
       "      <td>1,215,392,272</td>\n",
       "    </tr>\n",
       "    <tr>\n",
       "      <th>Thor: The Dark World</th>\n",
       "      <td>2</td>\n",
       "      <td>11/8/2013</td>\n",
       "      <td>66</td>\n",
       "      <td>75</td>\n",
       "      <td>111</td>\n",
       "      <td>150,000,000</td>\n",
       "      <td>85,737,841</td>\n",
       "      <td>206,362,140</td>\n",
       "      <td>644,602,516</td>\n",
       "    </tr>\n",
       "    <tr>\n",
       "      <th>The Winter Soldier</th>\n",
       "      <td>2</td>\n",
       "      <td>4/4/2014</td>\n",
       "      <td>90</td>\n",
       "      <td>92</td>\n",
       "      <td>135</td>\n",
       "      <td>170,000,000</td>\n",
       "      <td>95,023,721</td>\n",
       "      <td>259,746,958</td>\n",
       "      <td>714,401,889</td>\n",
       "    </tr>\n",
       "    <tr>\n",
       "      <th>Guardians of the Galaxy</th>\n",
       "      <td>2</td>\n",
       "      <td>8/1/2014</td>\n",
       "      <td>92</td>\n",
       "      <td>92</td>\n",
       "      <td>121</td>\n",
       "      <td>170,000,000</td>\n",
       "      <td>94,320,883</td>\n",
       "      <td>333,714,112</td>\n",
       "      <td>770,882,395</td>\n",
       "    </tr>\n",
       "    <tr>\n",
       "      <th>Age of Ultron</th>\n",
       "      <td>2</td>\n",
       "      <td>5/1/2015</td>\n",
       "      <td>76</td>\n",
       "      <td>83</td>\n",
       "      <td>141</td>\n",
       "      <td>365,000,000</td>\n",
       "      <td>191,271,109</td>\n",
       "      <td>459,005,868</td>\n",
       "      <td>1,395,316,979</td>\n",
       "    </tr>\n",
       "    <tr>\n",
       "      <th>Ant-Man</th>\n",
       "      <td>2</td>\n",
       "      <td>7/17/2015</td>\n",
       "      <td>83</td>\n",
       "      <td>85</td>\n",
       "      <td>117</td>\n",
       "      <td>130,000,000</td>\n",
       "      <td>57,225,526</td>\n",
       "      <td>180,202,163</td>\n",
       "      <td>518,858,449</td>\n",
       "    </tr>\n",
       "    <tr>\n",
       "      <th>Civil War</th>\n",
       "      <td>3</td>\n",
       "      <td>5/6/2016</td>\n",
       "      <td>90</td>\n",
       "      <td>89</td>\n",
       "      <td>146</td>\n",
       "      <td>250,000,000</td>\n",
       "      <td>179,139,142</td>\n",
       "      <td>408,084,349</td>\n",
       "      <td>1,151,918,521</td>\n",
       "    </tr>\n",
       "    <tr>\n",
       "      <th>Doctor Strange</th>\n",
       "      <td>3</td>\n",
       "      <td>11/4/2016</td>\n",
       "      <td>89</td>\n",
       "      <td>86</td>\n",
       "      <td>115</td>\n",
       "      <td>165,000,000</td>\n",
       "      <td>85,058,311</td>\n",
       "      <td>232,641,920</td>\n",
       "      <td>676,354,481</td>\n",
       "    </tr>\n",
       "    <tr>\n",
       "      <th>Guardians of the Galaxy Vol. 2</th>\n",
       "      <td>3</td>\n",
       "      <td>5/5/2017</td>\n",
       "      <td>85</td>\n",
       "      <td>87</td>\n",
       "      <td>135</td>\n",
       "      <td>200,000,000</td>\n",
       "      <td>146,510,104</td>\n",
       "      <td>389,813,101</td>\n",
       "      <td>869,113,101</td>\n",
       "    </tr>\n",
       "    <tr>\n",
       "      <th>Spider-Man: Homecoming</th>\n",
       "      <td>3</td>\n",
       "      <td>7/7/2017</td>\n",
       "      <td>92</td>\n",
       "      <td>87</td>\n",
       "      <td>133</td>\n",
       "      <td>175,000,000</td>\n",
       "      <td>117,027,503</td>\n",
       "      <td>334,201,140</td>\n",
       "      <td>878,346,440</td>\n",
       "    </tr>\n",
       "    <tr>\n",
       "      <th>Thor: Ragnarok</th>\n",
       "      <td>3</td>\n",
       "      <td>11/3/2017</td>\n",
       "      <td>93</td>\n",
       "      <td>87</td>\n",
       "      <td>130</td>\n",
       "      <td>180,000,000</td>\n",
       "      <td>122,744,989</td>\n",
       "      <td>315,058,289</td>\n",
       "      <td>850,482,778</td>\n",
       "    </tr>\n",
       "    <tr>\n",
       "      <th>Black Panther</th>\n",
       "      <td>3</td>\n",
       "      <td>2/16/2018</td>\n",
       "      <td>96</td>\n",
       "      <td>79</td>\n",
       "      <td>134</td>\n",
       "      <td>200,000,000</td>\n",
       "      <td>202,003,951</td>\n",
       "      <td>700,059,566</td>\n",
       "      <td>1,336,494,321</td>\n",
       "    </tr>\n",
       "    <tr>\n",
       "      <th>Infinity War</th>\n",
       "      <td>3</td>\n",
       "      <td>4/27/2018</td>\n",
       "      <td>85</td>\n",
       "      <td>91</td>\n",
       "      <td>149</td>\n",
       "      <td>300,000,000</td>\n",
       "      <td>257,698,183</td>\n",
       "      <td>678,815,482</td>\n",
       "      <td>2,048,359,754</td>\n",
       "    </tr>\n",
       "    <tr>\n",
       "      <th>Ant-Man and the Wasp</th>\n",
       "      <td>3</td>\n",
       "      <td>7/6/2018</td>\n",
       "      <td>87</td>\n",
       "      <td>81</td>\n",
       "      <td>118</td>\n",
       "      <td>130,000,000</td>\n",
       "      <td>75,812,205</td>\n",
       "      <td>216,648,740</td>\n",
       "      <td>623,144,660</td>\n",
       "    </tr>\n",
       "    <tr>\n",
       "      <th>Captain Marvel</th>\n",
       "      <td>3</td>\n",
       "      <td>3/8/2019</td>\n",
       "      <td>79</td>\n",
       "      <td>45</td>\n",
       "      <td>124</td>\n",
       "      <td>175,000,000</td>\n",
       "      <td>153,433,423</td>\n",
       "      <td>426,829,839</td>\n",
       "      <td>1,129,727,388</td>\n",
       "    </tr>\n",
       "    <tr>\n",
       "      <th>Endgame</th>\n",
       "      <td>3</td>\n",
       "      <td>4/26/2019</td>\n",
       "      <td>94</td>\n",
       "      <td>90</td>\n",
       "      <td>181</td>\n",
       "      <td>400,000,000</td>\n",
       "      <td>357,115,007</td>\n",
       "      <td>858,373,000</td>\n",
       "      <td>2,797,800,564</td>\n",
       "    </tr>\n",
       "    <tr>\n",
       "      <th>Spider-Man: Far From Home</th>\n",
       "      <td>3</td>\n",
       "      <td>7/2/2019</td>\n",
       "      <td>90</td>\n",
       "      <td>95</td>\n",
       "      <td>129</td>\n",
       "      <td>160,000,000</td>\n",
       "      <td>92,579,212</td>\n",
       "      <td>390,532,085</td>\n",
       "      <td>1,132,532,832</td>\n",
       "    </tr>\n",
       "    <tr>\n",
       "      <th>Black Widow</th>\n",
       "      <td>4</td>\n",
       "      <td>7/9/2021</td>\n",
       "      <td>79</td>\n",
       "      <td>91</td>\n",
       "      <td>133</td>\n",
       "      <td>200,000,000</td>\n",
       "      <td>80,366,312</td>\n",
       "      <td>183,651,655</td>\n",
       "      <td>379,751,655</td>\n",
       "    </tr>\n",
       "    <tr>\n",
       "      <th>Shang-Chi</th>\n",
       "      <td>4</td>\n",
       "      <td>9/3/2021</td>\n",
       "      <td>91</td>\n",
       "      <td>98</td>\n",
       "      <td>133</td>\n",
       "      <td>150,000,000</td>\n",
       "      <td>75,388,688</td>\n",
       "      <td>224,543,292</td>\n",
       "      <td>432,243,292</td>\n",
       "    </tr>\n",
       "    <tr>\n",
       "      <th>Eternals</th>\n",
       "      <td>4</td>\n",
       "      <td>11/5/2021</td>\n",
       "      <td>47</td>\n",
       "      <td>78</td>\n",
       "      <td>157</td>\n",
       "      <td>200,000,000</td>\n",
       "      <td>71,297,219</td>\n",
       "      <td>164,870,264</td>\n",
       "      <td>402,064,929</td>\n",
       "    </tr>\n",
       "    <tr>\n",
       "      <th>Spider-Man: No Way Home</th>\n",
       "      <td>4</td>\n",
       "      <td>12/17/2021</td>\n",
       "      <td>93</td>\n",
       "      <td>98</td>\n",
       "      <td>148</td>\n",
       "      <td>200,000,000</td>\n",
       "      <td>260,138,569</td>\n",
       "      <td>803,975,784</td>\n",
       "      <td>1,891,108,035</td>\n",
       "    </tr>\n",
       "  </tbody>\n",
       "</table>\n",
       "</div>"
      ],
      "text/plain": [
       "                                Phase Release Date  Critical Reception  \\\n",
       "Film                                                                     \n",
       "Iron Man                            1     5/2/2008                  94   \n",
       "The Incredible Hulk                 1    6/13/2008                  67   \n",
       "Iron Man 2                          1     5/7/2010                  72   \n",
       "Thor                                1     5/6/2011                  77   \n",
       "Captain America                     1    7/22/2011                  79   \n",
       "The Avengers                        1     5/4/2012                  91   \n",
       "Iron Man 3                          2     5/3/2013                  79   \n",
       "Thor: The Dark World                2    11/8/2013                  66   \n",
       "The Winter Soldier                  2     4/4/2014                  90   \n",
       "Guardians of the Galaxy             2     8/1/2014                  92   \n",
       "Age of Ultron                       2     5/1/2015                  76   \n",
       "Ant-Man                             2    7/17/2015                  83   \n",
       "Civil War                           3     5/6/2016                  90   \n",
       "Doctor Strange                      3    11/4/2016                  89   \n",
       "Guardians of the Galaxy Vol. 2      3     5/5/2017                  85   \n",
       "Spider-Man: Homecoming              3     7/7/2017                  92   \n",
       "Thor: Ragnarok                      3    11/3/2017                  93   \n",
       "Black Panther                       3    2/16/2018                  96   \n",
       "Infinity War                        3    4/27/2018                  85   \n",
       "Ant-Man and the Wasp                3     7/6/2018                  87   \n",
       "Captain Marvel                      3     3/8/2019                  79   \n",
       "Endgame                             3    4/26/2019                  94   \n",
       "Spider-Man: Far From Home           3     7/2/2019                  90   \n",
       "Black Widow                         4     7/9/2021                  79   \n",
       "Shang-Chi                           4     9/3/2021                  91   \n",
       "Eternals                            4    11/5/2021                  47   \n",
       "Spider-Man: No Way Home             4   12/17/2021                  93   \n",
       "\n",
       "                                Audience Reception  Length       Budget  \\\n",
       "Film                                                                      \n",
       "Iron Man                                        91     126  186,000,000   \n",
       "The Incredible Hulk                             70     112  137,500,000   \n",
       "Iron Man 2                                      71     124  170,000,000   \n",
       "Thor                                            76     113  150,000,000   \n",
       "Captain America                                 75     124  140,000,000   \n",
       "The Avengers                                    91     143  225,000,000   \n",
       "Iron Man 3                                      78     130  200,000,000   \n",
       "Thor: The Dark World                            75     111  150,000,000   \n",
       "The Winter Soldier                              92     135  170,000,000   \n",
       "Guardians of the Galaxy                         92     121  170,000,000   \n",
       "Age of Ultron                                   83     141  365,000,000   \n",
       "Ant-Man                                         85     117  130,000,000   \n",
       "Civil War                                       89     146  250,000,000   \n",
       "Doctor Strange                                  86     115  165,000,000   \n",
       "Guardians of the Galaxy Vol. 2                  87     135  200,000,000   \n",
       "Spider-Man: Homecoming                          87     133  175,000,000   \n",
       "Thor: Ragnarok                                  87     130  180,000,000   \n",
       "Black Panther                                   79     134  200,000,000   \n",
       "Infinity War                                    91     149  300,000,000   \n",
       "Ant-Man and the Wasp                            81     118  130,000,000   \n",
       "Captain Marvel                                  45     124  175,000,000   \n",
       "Endgame                                         90     181  400,000,000   \n",
       "Spider-Man: Far From Home                       95     129  160,000,000   \n",
       "Black Widow                                     91     133  200,000,000   \n",
       "Shang-Chi                                       98     133  150,000,000   \n",
       "Eternals                                        78     157  200,000,000   \n",
       "Spider-Man: No Way Home                         98     148  200,000,000   \n",
       "\n",
       "                               Opening Weekend Gross Domestic Gross  \\\n",
       "Film                                                                  \n",
       "Iron Man                                 102,118,668    318,604,126   \n",
       "The Incredible Hulk                       55,414,050    134,806,913   \n",
       "Iron Man 2                               128,122,480    312,433,331   \n",
       "Thor                                      65,723,338    181,030,624   \n",
       "Captain America                           65,058,524    176,654,505   \n",
       "The Avengers                             207,438,708    623,357,910   \n",
       "Iron Man 3                               174,144,585    408,992,272   \n",
       "Thor: The Dark World                      85,737,841    206,362,140   \n",
       "The Winter Soldier                        95,023,721    259,746,958   \n",
       "Guardians of the Galaxy                   94,320,883    333,714,112   \n",
       "Age of Ultron                            191,271,109    459,005,868   \n",
       "Ant-Man                                   57,225,526    180,202,163   \n",
       "Civil War                                179,139,142    408,084,349   \n",
       "Doctor Strange                            85,058,311    232,641,920   \n",
       "Guardians of the Galaxy Vol. 2           146,510,104    389,813,101   \n",
       "Spider-Man: Homecoming                   117,027,503    334,201,140   \n",
       "Thor: Ragnarok                           122,744,989    315,058,289   \n",
       "Black Panther                            202,003,951    700,059,566   \n",
       "Infinity War                             257,698,183    678,815,482   \n",
       "Ant-Man and the Wasp                      75,812,205    216,648,740   \n",
       "Captain Marvel                           153,433,423    426,829,839   \n",
       "Endgame                                  357,115,007    858,373,000   \n",
       "Spider-Man: Far From Home                 92,579,212    390,532,085   \n",
       "Black Widow                               80,366,312    183,651,655   \n",
       "Shang-Chi                                 75,388,688    224,543,292   \n",
       "Eternals                                  71,297,219    164,870,264   \n",
       "Spider-Man: No Way Home                  260,138,569    803,975,784   \n",
       "\n",
       "                               Worldwide Gross  \n",
       "Film                                            \n",
       "Iron Man                           585,171,547  \n",
       "The Incredible Hulk                265,573,859  \n",
       "Iron Man 2                         621,156,389  \n",
       "Thor                               449,326,618  \n",
       "Captain America                    370,569,776  \n",
       "The Avengers                     1,515,100,211  \n",
       "Iron Man 3                       1,215,392,272  \n",
       "Thor: The Dark World               644,602,516  \n",
       "The Winter Soldier                 714,401,889  \n",
       "Guardians of the Galaxy            770,882,395  \n",
       "Age of Ultron                    1,395,316,979  \n",
       "Ant-Man                            518,858,449  \n",
       "Civil War                        1,151,918,521  \n",
       "Doctor Strange                     676,354,481  \n",
       "Guardians of the Galaxy Vol. 2     869,113,101  \n",
       "Spider-Man: Homecoming             878,346,440  \n",
       "Thor: Ragnarok                     850,482,778  \n",
       "Black Panther                    1,336,494,321  \n",
       "Infinity War                     2,048,359,754  \n",
       "Ant-Man and the Wasp               623,144,660  \n",
       "Captain Marvel                   1,129,727,388  \n",
       "Endgame                          2,797,800,564  \n",
       "Spider-Man: Far From Home        1,132,532,832  \n",
       "Black Widow                        379,751,655  \n",
       "Shang-Chi                          432,243,292  \n",
       "Eternals                           402,064,929  \n",
       "Spider-Man: No Way Home          1,891,108,035  "
      ]
     },
     "execution_count": 23,
     "metadata": {},
     "output_type": "execute_result"
    }
   ],
   "source": [
    "mcu"
   ]
  },
  {
   "cell_type": "code",
   "execution_count": 24,
   "metadata": {
    "pycharm": {
     "name": "#%%\n"
    }
   },
   "outputs": [
    {
     "name": "stdout",
     "output_type": "stream",
     "text": [
      "<class 'pandas.core.frame.DataFrame'>\n",
      "Index: 27 entries, Iron Man to Spider-Man: No Way Home\n",
      "Data columns (total 9 columns):\n",
      " #   Column                 Non-Null Count  Dtype \n",
      "---  ------                 --------------  ----- \n",
      " 0   Phase                  27 non-null     int64 \n",
      " 1   Release Date           27 non-null     object\n",
      " 2   Critical Reception     27 non-null     int64 \n",
      " 3   Audience Reception     27 non-null     int64 \n",
      " 4   Length                 27 non-null     int64 \n",
      " 5   Budget                 27 non-null     object\n",
      " 6   Opening Weekend Gross  27 non-null     object\n",
      " 7   Domestic Gross         27 non-null     object\n",
      " 8   Worldwide Gross        27 non-null     object\n",
      "dtypes: int64(4), object(5)\n",
      "memory usage: 2.1+ KB\n"
     ]
    }
   ],
   "source": [
    "mcu.info()"
   ]
  },
  {
   "cell_type": "code",
   "execution_count": 25,
   "metadata": {
    "pycharm": {
     "name": "#%%\n"
    }
   },
   "outputs": [
    {
     "data": {
      "text/plain": [
       "<AxesSubplot:xlabel='Length', ylabel='Critical Reception'>"
      ]
     },
     "execution_count": 25,
     "metadata": {},
     "output_type": "execute_result"
    },
    {
     "data": {
      "image/png": "[encoded data removed]",
      "text/plain": [
       "<Figure size 432x288 with 1 Axes>"
      ]
     },
     "metadata": {},
     "output_type": "display_data"
    }
   ],
   "source": [
    "sns.scatterplot(x='Length',y='Critical Reception',data=mcu)"
   ]
  },
  {
   "cell_type": "markdown",
   "metadata": {
    "pycharm": {
     "name": "#%% md\n"
    }
   },
   "source": [
    "Converting values to appear as either currency or percentages [to be completed]\n",
    "___"
   ]
  },
  {
   "cell_type": "code",
   "execution_count": 26,
   "metadata": {
    "pycharm": {
     "name": "#%%\n"
    }
   },
   "outputs": [
    {
     "ename": "InvalidOperation",
     "evalue": "[<class 'decimal.ConversionSyntax'>]",
     "output_type": "error",
     "traceback": [
      "\u001b[0;31m---------------------------------------------------------------------------\u001b[0m",
      "\u001b[0;31mInvalidOperation\u001b[0m                          Traceback (most recent call last)",
      "\u001b[0;32m<ipython-input-26-b021b5207adb>\u001b[0m in \u001b[0;36m<module>\u001b[0;34m\u001b[0m\n\u001b[0;32m----> 1\u001b[0;31m \u001b[0mmcu\u001b[0m\u001b[0;34m[\u001b[0m\u001b[0;34m'Budget'\u001b[0m\u001b[0;34m]\u001b[0m \u001b[0;34m=\u001b[0m \u001b[0mmcu\u001b[0m\u001b[0;34m[\u001b[0m\u001b[0;34m'Budget'\u001b[0m\u001b[0;34m]\u001b[0m\u001b[0;34m.\u001b[0m\u001b[0mapply\u001b[0m\u001b[0;34m(\u001b[0m\u001b[0;32mlambda\u001b[0m \u001b[0mx\u001b[0m\u001b[0;34m:\u001b[0m \u001b[0mfc\u001b[0m\u001b[0;34m(\u001b[0m\u001b[0mx\u001b[0m\u001b[0;34m,\u001b[0m \u001b[0mcurrency\u001b[0m\u001b[0;34m=\u001b[0m\u001b[0;34m\"USD\"\u001b[0m\u001b[0;34m,\u001b[0m \u001b[0mlocale\u001b[0m\u001b[0;34m=\u001b[0m\u001b[0;34m\"en_US\"\u001b[0m\u001b[0;34m)\u001b[0m\u001b[0;34m)\u001b[0m\u001b[0;34m\u001b[0m\u001b[0;34m\u001b[0m\u001b[0m\n\u001b[0m\u001b[1;32m      2\u001b[0m \u001b[0mmcu\u001b[0m\u001b[0;34m[\u001b[0m\u001b[0;34m'Opening Weekend Gross'\u001b[0m\u001b[0;34m]\u001b[0m \u001b[0;34m=\u001b[0m \u001b[0mmcu\u001b[0m\u001b[0;34m[\u001b[0m\u001b[0;34m'Opening Weekend Gross'\u001b[0m\u001b[0;34m]\u001b[0m\u001b[0;34m.\u001b[0m\u001b[0mapply\u001b[0m\u001b[0;34m(\u001b[0m\u001b[0;32mlambda\u001b[0m \u001b[0mx\u001b[0m\u001b[0;34m:\u001b[0m \u001b[0mfc\u001b[0m\u001b[0;34m(\u001b[0m\u001b[0mx\u001b[0m\u001b[0;34m,\u001b[0m \u001b[0mcurrency\u001b[0m\u001b[0;34m=\u001b[0m\u001b[0;34m\"USD\"\u001b[0m\u001b[0;34m,\u001b[0m \u001b[0mlocale\u001b[0m\u001b[0;34m=\u001b[0m\u001b[0;34m\"en_US\"\u001b[0m\u001b[0;34m)\u001b[0m\u001b[0;34m)\u001b[0m\u001b[0;34m\u001b[0m\u001b[0;34m\u001b[0m\u001b[0m\n\u001b[1;32m      3\u001b[0m \u001b[0mmcu\u001b[0m\u001b[0;34m[\u001b[0m\u001b[0;34m'Domestic Gross'\u001b[0m\u001b[0;34m]\u001b[0m \u001b[0;34m=\u001b[0m \u001b[0mmcu\u001b[0m\u001b[0;34m[\u001b[0m\u001b[0;34m'Domestic Gross'\u001b[0m\u001b[0;34m]\u001b[0m\u001b[0;34m.\u001b[0m\u001b[0mapply\u001b[0m\u001b[0;34m(\u001b[0m\u001b[0;32mlambda\u001b[0m \u001b[0mx\u001b[0m\u001b[0;34m:\u001b[0m \u001b[0mfc\u001b[0m\u001b[0;34m(\u001b[0m\u001b[0mx\u001b[0m\u001b[0;34m,\u001b[0m \u001b[0mcurrency\u001b[0m\u001b[0;34m=\u001b[0m\u001b[0;34m\"USD\"\u001b[0m\u001b[0;34m,\u001b[0m \u001b[0mlocale\u001b[0m\u001b[0;34m=\u001b[0m\u001b[0;34m\"en_US\"\u001b[0m\u001b[0;34m)\u001b[0m\u001b[0;34m)\u001b[0m\u001b[0;34m\u001b[0m\u001b[0;34m\u001b[0m\u001b[0m\n\u001b[1;32m      4\u001b[0m \u001b[0mmcu\u001b[0m\u001b[0;34m[\u001b[0m\u001b[0;34m'Worldwide Gross'\u001b[0m\u001b[0;34m]\u001b[0m \u001b[0;34m=\u001b[0m \u001b[0mmcu\u001b[0m\u001b[0;34m[\u001b[0m\u001b[0;34m'Worldwide Gross'\u001b[0m\u001b[0;34m]\u001b[0m\u001b[0;34m.\u001b[0m\u001b[0mapply\u001b[0m\u001b[0;34m(\u001b[0m\u001b[0;32mlambda\u001b[0m \u001b[0mx\u001b[0m\u001b[0;34m:\u001b[0m \u001b[0mfc\u001b[0m\u001b[0;34m(\u001b[0m\u001b[0mx\u001b[0m\u001b[0;34m,\u001b[0m \u001b[0mcurrency\u001b[0m\u001b[0;34m=\u001b[0m\u001b[0;34m\"USD\"\u001b[0m\u001b[0;34m,\u001b[0m \u001b[0mlocale\u001b[0m\u001b[0;34m=\u001b[0m\u001b[0;34m\"en_US\"\u001b[0m\u001b[0;34m)\u001b[0m\u001b[0;34m)\u001b[0m\u001b[0;34m\u001b[0m\u001b[0;34m\u001b[0m\u001b[0m\n",
      "\u001b[0;32m~/opt/anaconda3/lib/python3.8/site-packages/pandas/core/series.py\u001b[0m in \u001b[0;36mapply\u001b[0;34m(self, func, convert_dtype, args, **kwds)\u001b[0m\n\u001b[1;32m   4198\u001b[0m             \u001b[0;32melse\u001b[0m\u001b[0;34m:\u001b[0m\u001b[0;34m\u001b[0m\u001b[0;34m\u001b[0m\u001b[0m\n\u001b[1;32m   4199\u001b[0m                 \u001b[0mvalues\u001b[0m \u001b[0;34m=\u001b[0m \u001b[0mself\u001b[0m\u001b[0;34m.\u001b[0m\u001b[0mastype\u001b[0m\u001b[0;34m(\u001b[0m\u001b[0mobject\u001b[0m\u001b[0;34m)\u001b[0m\u001b[0;34m.\u001b[0m\u001b[0m_values\u001b[0m\u001b[0;34m\u001b[0m\u001b[0;34m\u001b[0m\u001b[0m\n\u001b[0;32m-> 4200\u001b[0;31m                 \u001b[0mmapped\u001b[0m \u001b[0;34m=\u001b[0m \u001b[0mlib\u001b[0m\u001b[0;34m.\u001b[0m\u001b[0mmap_infer\u001b[0m\u001b[0;34m(\u001b[0m\u001b[0mvalues\u001b[0m\u001b[0;34m,\u001b[0m \u001b[0mf\u001b[0m\u001b[0;34m,\u001b[0m \u001b[0mconvert\u001b[0m\u001b[0;34m=\u001b[0m\u001b[0mconvert_dtype\u001b[0m\u001b[0;34m)\u001b[0m\u001b[0;34m\u001b[0m\u001b[0;34m\u001b[0m\u001b[0m\n\u001b[0m\u001b[1;32m   4201\u001b[0m \u001b[0;34m\u001b[0m\u001b[0m\n\u001b[1;32m   4202\u001b[0m         \u001b[0;32mif\u001b[0m \u001b[0mlen\u001b[0m\u001b[0;34m(\u001b[0m\u001b[0mmapped\u001b[0m\u001b[0;34m)\u001b[0m \u001b[0;32mand\u001b[0m \u001b[0misinstance\u001b[0m\u001b[0;34m(\u001b[0m\u001b[0mmapped\u001b[0m\u001b[0;34m[\u001b[0m\u001b[0;36m0\u001b[0m\u001b[0;34m]\u001b[0m\u001b[0;34m,\u001b[0m \u001b[0mSeries\u001b[0m\u001b[0;34m)\u001b[0m\u001b[0;34m:\u001b[0m\u001b[0;34m\u001b[0m\u001b[0;34m\u001b[0m\u001b[0m\n",
      "\u001b[0;32mpandas/_libs/lib.pyx\u001b[0m in \u001b[0;36mpandas._libs.lib.map_infer\u001b[0;34m()\u001b[0m\n",
      "\u001b[0;32m<ipython-input-26-b021b5207adb>\u001b[0m in \u001b[0;36m<lambda>\u001b[0;34m(x)\u001b[0m\n\u001b[0;32m----> 1\u001b[0;31m \u001b[0mmcu\u001b[0m\u001b[0;34m[\u001b[0m\u001b[0;34m'Budget'\u001b[0m\u001b[0;34m]\u001b[0m \u001b[0;34m=\u001b[0m \u001b[0mmcu\u001b[0m\u001b[0;34m[\u001b[0m\u001b[0;34m'Budget'\u001b[0m\u001b[0;34m]\u001b[0m\u001b[0;34m.\u001b[0m\u001b[0mapply\u001b[0m\u001b[0;34m(\u001b[0m\u001b[0;32mlambda\u001b[0m \u001b[0mx\u001b[0m\u001b[0;34m:\u001b[0m \u001b[0mfc\u001b[0m\u001b[0;34m(\u001b[0m\u001b[0mx\u001b[0m\u001b[0;34m,\u001b[0m \u001b[0mcurrency\u001b[0m\u001b[0;34m=\u001b[0m\u001b[0;34m\"USD\"\u001b[0m\u001b[0;34m,\u001b[0m \u001b[0mlocale\u001b[0m\u001b[0;34m=\u001b[0m\u001b[0;34m\"en_US\"\u001b[0m\u001b[0;34m)\u001b[0m\u001b[0;34m)\u001b[0m\u001b[0;34m\u001b[0m\u001b[0;34m\u001b[0m\u001b[0m\n\u001b[0m\u001b[1;32m      2\u001b[0m \u001b[0mmcu\u001b[0m\u001b[0;34m[\u001b[0m\u001b[0;34m'Opening Weekend Gross'\u001b[0m\u001b[0;34m]\u001b[0m \u001b[0;34m=\u001b[0m \u001b[0mmcu\u001b[0m\u001b[0;34m[\u001b[0m\u001b[0;34m'Opening Weekend Gross'\u001b[0m\u001b[0;34m]\u001b[0m\u001b[0;34m.\u001b[0m\u001b[0mapply\u001b[0m\u001b[0;34m(\u001b[0m\u001b[0;32mlambda\u001b[0m \u001b[0mx\u001b[0m\u001b[0;34m:\u001b[0m \u001b[0mfc\u001b[0m\u001b[0;34m(\u001b[0m\u001b[0mx\u001b[0m\u001b[0;34m,\u001b[0m \u001b[0mcurrency\u001b[0m\u001b[0;34m=\u001b[0m\u001b[0;34m\"USD\"\u001b[0m\u001b[0;34m,\u001b[0m \u001b[0mlocale\u001b[0m\u001b[0;34m=\u001b[0m\u001b[0;34m\"en_US\"\u001b[0m\u001b[0;34m)\u001b[0m\u001b[0;34m)\u001b[0m\u001b[0;34m\u001b[0m\u001b[0;34m\u001b[0m\u001b[0m\n\u001b[1;32m      3\u001b[0m \u001b[0mmcu\u001b[0m\u001b[0;34m[\u001b[0m\u001b[0;34m'Domestic Gross'\u001b[0m\u001b[0;34m]\u001b[0m \u001b[0;34m=\u001b[0m \u001b[0mmcu\u001b[0m\u001b[0;34m[\u001b[0m\u001b[0;34m'Domestic Gross'\u001b[0m\u001b[0;34m]\u001b[0m\u001b[0;34m.\u001b[0m\u001b[0mapply\u001b[0m\u001b[0;34m(\u001b[0m\u001b[0;32mlambda\u001b[0m \u001b[0mx\u001b[0m\u001b[0;34m:\u001b[0m \u001b[0mfc\u001b[0m\u001b[0;34m(\u001b[0m\u001b[0mx\u001b[0m\u001b[0;34m,\u001b[0m \u001b[0mcurrency\u001b[0m\u001b[0;34m=\u001b[0m\u001b[0;34m\"USD\"\u001b[0m\u001b[0;34m,\u001b[0m \u001b[0mlocale\u001b[0m\u001b[0;34m=\u001b[0m\u001b[0;34m\"en_US\"\u001b[0m\u001b[0;34m)\u001b[0m\u001b[0;34m)\u001b[0m\u001b[0;34m\u001b[0m\u001b[0;34m\u001b[0m\u001b[0m\n\u001b[1;32m      4\u001b[0m \u001b[0mmcu\u001b[0m\u001b[0;34m[\u001b[0m\u001b[0;34m'Worldwide Gross'\u001b[0m\u001b[0;34m]\u001b[0m \u001b[0;34m=\u001b[0m \u001b[0mmcu\u001b[0m\u001b[0;34m[\u001b[0m\u001b[0;34m'Worldwide Gross'\u001b[0m\u001b[0;34m]\u001b[0m\u001b[0;34m.\u001b[0m\u001b[0mapply\u001b[0m\u001b[0;34m(\u001b[0m\u001b[0;32mlambda\u001b[0m \u001b[0mx\u001b[0m\u001b[0;34m:\u001b[0m \u001b[0mfc\u001b[0m\u001b[0;34m(\u001b[0m\u001b[0mx\u001b[0m\u001b[0;34m,\u001b[0m \u001b[0mcurrency\u001b[0m\u001b[0;34m=\u001b[0m\u001b[0;34m\"USD\"\u001b[0m\u001b[0;34m,\u001b[0m \u001b[0mlocale\u001b[0m\u001b[0;34m=\u001b[0m\u001b[0;34m\"en_US\"\u001b[0m\u001b[0;34m)\u001b[0m\u001b[0;34m)\u001b[0m\u001b[0;34m\u001b[0m\u001b[0;34m\u001b[0m\u001b[0m\n",
      "\u001b[0;32m~/opt/anaconda3/lib/python3.8/site-packages/babel/numbers.py\u001b[0m in \u001b[0;36mformat_currency\u001b[0;34m(number, currency, format, locale, currency_digits, format_type, decimal_quantization)\u001b[0m\n\u001b[1;32m    517\u001b[0m                 \"%r is not a known currency format type\" % format_type)\n\u001b[1;32m    518\u001b[0m \u001b[0;34m\u001b[0m\u001b[0m\n\u001b[0;32m--> 519\u001b[0;31m     return pattern.apply(\n\u001b[0m\u001b[1;32m    520\u001b[0m         \u001b[0mnumber\u001b[0m\u001b[0;34m,\u001b[0m \u001b[0mlocale\u001b[0m\u001b[0;34m,\u001b[0m \u001b[0mcurrency\u001b[0m\u001b[0;34m=\u001b[0m\u001b[0mcurrency\u001b[0m\u001b[0;34m,\u001b[0m \u001b[0mcurrency_digits\u001b[0m\u001b[0;34m=\u001b[0m\u001b[0mcurrency_digits\u001b[0m\u001b[0;34m,\u001b[0m\u001b[0;34m\u001b[0m\u001b[0;34m\u001b[0m\u001b[0m\n\u001b[1;32m    521\u001b[0m         decimal_quantization=decimal_quantization)\n",
      "\u001b[0;32m~/opt/anaconda3/lib/python3.8/site-packages/babel/numbers.py\u001b[0m in \u001b[0;36mapply\u001b[0;34m(self, value, locale, currency, currency_digits, decimal_quantization, force_frac)\u001b[0m\n\u001b[1;32m    941\u001b[0m         \"\"\"\n\u001b[1;32m    942\u001b[0m         \u001b[0;32mif\u001b[0m \u001b[0;32mnot\u001b[0m \u001b[0misinstance\u001b[0m\u001b[0;34m(\u001b[0m\u001b[0mvalue\u001b[0m\u001b[0;34m,\u001b[0m \u001b[0mdecimal\u001b[0m\u001b[0;34m.\u001b[0m\u001b[0mDecimal\u001b[0m\u001b[0;34m)\u001b[0m\u001b[0;34m:\u001b[0m\u001b[0;34m\u001b[0m\u001b[0;34m\u001b[0m\u001b[0m\n\u001b[0;32m--> 943\u001b[0;31m             \u001b[0mvalue\u001b[0m \u001b[0;34m=\u001b[0m \u001b[0mdecimal\u001b[0m\u001b[0;34m.\u001b[0m\u001b[0mDecimal\u001b[0m\u001b[0;34m(\u001b[0m\u001b[0mstr\u001b[0m\u001b[0;34m(\u001b[0m\u001b[0mvalue\u001b[0m\u001b[0;34m)\u001b[0m\u001b[0;34m)\u001b[0m\u001b[0;34m\u001b[0m\u001b[0;34m\u001b[0m\u001b[0m\n\u001b[0m\u001b[1;32m    944\u001b[0m \u001b[0;34m\u001b[0m\u001b[0m\n\u001b[1;32m    945\u001b[0m         \u001b[0mvalue\u001b[0m \u001b[0;34m=\u001b[0m \u001b[0mvalue\u001b[0m\u001b[0;34m.\u001b[0m\u001b[0mscaleb\u001b[0m\u001b[0;34m(\u001b[0m\u001b[0mself\u001b[0m\u001b[0;34m.\u001b[0m\u001b[0mscale\u001b[0m\u001b[0;34m)\u001b[0m\u001b[0;34m\u001b[0m\u001b[0;34m\u001b[0m\u001b[0m\n",
      "\u001b[0;31mInvalidOperation\u001b[0m: [<class 'decimal.ConversionSyntax'>]"
     ]
    }
   ],
   "source": [
    "mcu['Budget'] = mcu['Budget'].apply(lambda x: fc(x, currency=\"USD\", locale=\"en_US\"))\n",
    "mcu['Opening Weekend Gross'] = mcu['Opening Weekend Gross'].apply(lambda x: fc(x, currency=\"USD\", locale=\"en_US\"))\n",
    "mcu['Domestic Gross'] = mcu['Domestic Gross'].apply(lambda x: fc(x, currency=\"USD\", locale=\"en_US\"))\n",
    "mcu['Worldwide Gross'] = mcu['Worldwide Gross'].apply(lambda x: fc(x, currency=\"USD\", locale=\"en_US\"))"
   ]
  },
  {
   "cell_type": "code",
   "execution_count": null,
   "metadata": {
    "pycharm": {
     "name": "#%%\n"
    }
   },
   "outputs": [],
   "source": [
    "mcu"
   ]
  },
  {
   "cell_type": "code",
   "execution_count": null,
   "metadata": {
    "pycharm": {
     "name": "#%%\n"
    }
   },
   "outputs": [],
   "source": [
    "mcu.info()"
   ]
  },
  {
   "cell_type": "markdown",
   "metadata": {
    "pycharm": {
     "name": "#%% md\n"
    }
   },
   "source": [
    "Breaking the larger table into smaller tables, based on the phase of the MCU the film belongs to\n",
    "___"
   ]
  },
  {
   "cell_type": "code",
   "execution_count": null,
   "metadata": {
    "pycharm": {
     "name": "#%%\n"
    }
   },
   "outputs": [],
   "source": [
    "phase1 = mcu[(mcu['Phase'] == 1)]\n",
    "phase2 = mcu[(mcu['Phase'] == 2)]\n",
    "phase3 = mcu[(mcu['Phase'] == 3)]\n",
    "phase4 = mcu[(mcu['Phase'] == 4)]"
   ]
  },
  {
   "cell_type": "code",
   "execution_count": null,
   "metadata": {
    "pycharm": {
     "name": "#%%\n"
    }
   },
   "outputs": [],
   "source": [
    "phase1"
   ]
  },
  {
   "cell_type": "code",
   "execution_count": null,
   "metadata": {
    "pycharm": {
     "name": "#%%\n"
    }
   },
   "outputs": [],
   "source": [
    "phase2"
   ]
  },
  {
   "cell_type": "code",
   "execution_count": null,
   "metadata": {
    "pycharm": {
     "name": "#%%\n"
    }
   },
   "outputs": [],
   "source": [
    "phase3"
   ]
  },
  {
   "cell_type": "code",
   "execution_count": null,
   "metadata": {
    "pycharm": {
     "name": "#%%\n"
    }
   },
   "outputs": [],
   "source": [
    "phase4"
   ]
  },
  {
   "cell_type": "markdown",
   "metadata": {
    "pycharm": {
     "name": "#%% md\n"
    }
   },
   "source": [
    "Since the tables are all based on which phase the film was released in, we don't need the `phase` column anymore\n",
    "___"
   ]
  },
  {
   "cell_type": "code",
   "execution_count": null,
   "metadata": {
    "pycharm": {
     "name": "#%%\n"
    }
   },
   "outputs": [],
   "source": [
    "phase1 = phase1.drop(\"Phase\",axis=1)\n",
    "phase2 = phase2.drop(\"Phase\",axis=1)\n",
    "phase3 = phase3.drop(\"Phase\",axis=1)\n",
    "phase4 = phase4.drop(\"Phase\",axis=1)"
   ]
  },
  {
   "cell_type": "code",
   "execution_count": null,
   "metadata": {
    "pycharm": {
     "name": "#%%\n"
    }
   },
   "outputs": [],
   "source": [
    "phase1.info()"
   ]
  },
  {
   "cell_type": "markdown",
   "metadata": {
    "pycharm": {
     "name": "#%% md\n"
    }
   },
   "source": [
    "# Fuckin about"
   ]
  },
  {
   "cell_type": "markdown",
   "metadata": {
    "pycharm": {
     "name": "#%% md\n"
    }
   },
   "source": [
    "Let's see if audience or critical reception has any effect on worldwide gross\n",
    "___"
   ]
  },
  {
   "cell_type": "code",
   "execution_count": null,
   "metadata": {
    "pycharm": {
     "name": "#%%\n"
    }
   },
   "outputs": [],
   "source": [
    "critGross1 = phase1.drop([\"Release Date\",\"Length\",\"Budget\"], axis=1)\n",
    "critGross2 =  phase2.drop([\"Release Date\",\"Length\",\"Budget\"], axis=1)\n",
    "critGross3 =  phase3.drop([\"Release Date\",\"Length\",\"Budget\"], axis=1)\n",
    "critGross4 =  phase4.drop([\"Release Date\",\"Length\",\"Budget\"], axis=1)\n",
    "\n",
    "critGross1"
   ]
  },
  {
   "cell_type": "code",
   "execution_count": null,
   "metadata": {
    "pycharm": {
     "name": "#%%\n"
    }
   },
   "outputs": [],
   "source": [
    "# critGross1['Critical Reception','Audience Reception'].plot(kind=\"bar\")\n",
    "critGross1.plot(y=[\"Critical Reception\",\"Audience Reception\"], kind=\"bar\")\n",
    "\n",
    "plt.title(\"Phase 1\")\n",
    "plt.xlabel(\"Films\")\n",
    "plt.ylabel(\"Reception (via Rotten Tomatoes\")\n",
    "plt.show()"
   ]
  },
  {
   "cell_type": "code",
   "execution_count": null,
   "metadata": {
    "pycharm": {
     "name": "#%%\n"
    }
   },
   "outputs": [],
   "source": [
    "critGross1.plot(y=[\"Opening Weekend Gross\",\"Domestic Gross\"], kind=\"bar\")\n",
    "\n",
    "plt.title(\"Phase 1 Returns\")\n",
    "plt.xlabel(\"Films\")\n",
    "plt.ylabel(\"Gross (USD)\")\n",
    "plt.show()"
   ]
  },
  {
   "cell_type": "code",
   "execution_count": null,
   "metadata": {
    "pycharm": {
     "name": "#%%\n"
    }
   },
   "outputs": [],
   "source": [
    "critGross2.plot(y=[\"Critical Reception\",\"Audience Reception\"], kind=\"bar\")\n",
    "\n",
    "plt.title(\"Phase 2\")\n",
    "plt.xlabel(\"Films\")\n",
    "plt.ylabel(\"Reception (via Rotten Tomatoes\")\n",
    "plt.show()"
   ]
  },
  {
   "cell_type": "code",
   "execution_count": null,
   "metadata": {
    "pycharm": {
     "name": "#%%\n"
    }
   },
   "outputs": [],
   "source": [
    "critGross3.plot(y=[\"Critical Reception\",\"Audience Reception\"], kind=\"bar\")\n",
    "\n",
    "plt.title(\"Phase 3\")\n",
    "plt.xlabel(\"Films\")\n",
    "plt.ylabel(\"Reception (via Rotten Tomatoes\")\n",
    "plt.show()"
   ]
  },
  {
   "cell_type": "code",
   "execution_count": null,
   "metadata": {
    "pycharm": {
     "name": "#%%\n"
    }
   },
   "outputs": [],
   "source": [
    "critGross4.plot(y=[\"Critical Reception\",\"Audience Reception\"], kind=\"bar\")\n",
    "\n",
    "plt.title(\"Phase 4\")\n",
    "plt.xlabel(\"Films\")\n",
    "plt.ylabel(\"Reception (via Rotten Tomatoes\")\n",
    "plt.show()"
   ]
  },
  {
   "cell_type": "code",
   "execution_count": null,
   "metadata": {
    "pycharm": {
     "name": "#%%\n"
    }
   },
   "outputs": [],
   "source": []
  }
 ],
 "metadata": {
  "kernelspec": {
   "display_name": "Python 3",
   "language": "python",
   "name": "python3"
  },
  "language_info": {
   "codemirror_mode": {
    "name": "ipython",
    "version": 3
   },
   "file_extension": ".py",
   "mimetype": "text/x-python",
   "name": "python",
   "nbconvert_exporter": "python",
   "pygments_lexer": "ipython3",
   "version": "3.8.5"
  }
 },
 "nbformat": 4,
 "nbformat_minor": 1
}
