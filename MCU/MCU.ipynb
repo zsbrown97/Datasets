{
 "cells": [
  {
   "cell_type": "markdown",
   "metadata": {
    "pycharm": {
     "name": "#%% md\n"
    }
   },
   "source": [
    "## Data Setup"
   ]
  },
  {
   "cell_type": "markdown",
   "metadata": {
    "pycharm": {
     "name": "#%% md\n"
    }
   },
   "source": [
    "Library imports\n",
    "___"
   ]
  },
  {
   "cell_type": "code",
   "execution_count": 43,
   "metadata": {
    "pycharm": {
     "name": "#%%\n"
    }
   },
   "outputs": [],
   "source": [
    "import matplotlib.pyplot as plt\n",
    "import numpy as np\n",
    "import pandas as pd\n",
    "import seaborn as sns"
   ]
  },
  {
   "cell_type": "markdown",
   "metadata": {
    "pycharm": {
     "name": "#%% md\n"
    }
   },
   "source": [
    "Data import and declaration\n",
    "___"
   ]
  },
  {
   "cell_type": "code",
   "execution_count": 2,
   "metadata": {
    "pycharm": {
     "name": "#%%\n"
    }
   },
   "outputs": [],
   "source": [
    "mcu_csv = pd.read_csv(\"./mcu_box_office.csv\")"
   ]
  },
  {
   "cell_type": "code",
   "execution_count": 3,
   "metadata": {
    "pycharm": {
     "name": "#%%\n"
    }
   },
   "outputs": [
    {
     "data": {
      "text/plain": "                          movie_title  mcu_phase release_date  tomato_meter  \\\n0                            Iron Man          1     5/2/2008            94   \n1                 The Incredible Hulk          1    6/13/2008            67   \n2                          Iron Man 2          1     5/7/2010            72   \n3                                Thor          1     5/6/2011            77   \n4  Captain America: The First Avenger          1    7/22/2011            79   \n\n   audience_score  movie_duration production_budget opening_weekend  \\\n0              91             126       186,000,000     102,118,668   \n1              70             112       137,500,000      55,414,050   \n2              71             124       170,000,000     128,122,480   \n3              76             113       150,000,000      65,723,338   \n4              75             124       140,000,000      65,058,524   \n\n  domestic_box_office worldwide_box_office  \n0         318,604,126          585,171,547  \n1         134,806,913          265,573,859  \n2         312,433,331          621,156,389  \n3         181,030,624          449,326,618  \n4         176,654,505          370,569,776  ",
      "text/html": "<div>\n<style scoped>\n    .dataframe tbody tr th:only-of-type {\n        vertical-align: middle;\n    }\n\n    .dataframe tbody tr th {\n        vertical-align: top;\n    }\n\n    .dataframe thead th {\n        text-align: right;\n    }\n</style>\n<table border=\"1\" class=\"dataframe\">\n  <thead>\n    <tr style=\"text-align: right;\">\n      <th></th>\n      <th>movie_title</th>\n      <th>mcu_phase</th>\n      <th>release_date</th>\n      <th>tomato_meter</th>\n      <th>audience_score</th>\n      <th>movie_duration</th>\n      <th>production_budget</th>\n      <th>opening_weekend</th>\n      <th>domestic_box_office</th>\n      <th>worldwide_box_office</th>\n    </tr>\n  </thead>\n  <tbody>\n    <tr>\n      <th>0</th>\n      <td>Iron Man</td>\n      <td>1</td>\n      <td>5/2/2008</td>\n      <td>94</td>\n      <td>91</td>\n      <td>126</td>\n      <td>186,000,000</td>\n      <td>102,118,668</td>\n      <td>318,604,126</td>\n      <td>585,171,547</td>\n    </tr>\n    <tr>\n      <th>1</th>\n      <td>The Incredible Hulk</td>\n      <td>1</td>\n      <td>6/13/2008</td>\n      <td>67</td>\n      <td>70</td>\n      <td>112</td>\n      <td>137,500,000</td>\n      <td>55,414,050</td>\n      <td>134,806,913</td>\n      <td>265,573,859</td>\n    </tr>\n    <tr>\n      <th>2</th>\n      <td>Iron Man 2</td>\n      <td>1</td>\n      <td>5/7/2010</td>\n      <td>72</td>\n      <td>71</td>\n      <td>124</td>\n      <td>170,000,000</td>\n      <td>128,122,480</td>\n      <td>312,433,331</td>\n      <td>621,156,389</td>\n    </tr>\n    <tr>\n      <th>3</th>\n      <td>Thor</td>\n      <td>1</td>\n      <td>5/6/2011</td>\n      <td>77</td>\n      <td>76</td>\n      <td>113</td>\n      <td>150,000,000</td>\n      <td>65,723,338</td>\n      <td>181,030,624</td>\n      <td>449,326,618</td>\n    </tr>\n    <tr>\n      <th>4</th>\n      <td>Captain America: The First Avenger</td>\n      <td>1</td>\n      <td>7/22/2011</td>\n      <td>79</td>\n      <td>75</td>\n      <td>124</td>\n      <td>140,000,000</td>\n      <td>65,058,524</td>\n      <td>176,654,505</td>\n      <td>370,569,776</td>\n    </tr>\n  </tbody>\n</table>\n</div>"
     },
     "execution_count": 3,
     "metadata": {},
     "output_type": "execute_result"
    }
   ],
   "source": [
    "mcu = pd.DataFrame(data=mcu_csv)\n",
    "\n",
    "mcu.head()"
   ]
  },
  {
   "cell_type": "markdown",
   "metadata": {
    "pycharm": {
     "name": "#%% md\n"
    }
   },
   "source": [
    "Rename columns\n",
    "___\n"
   ]
  },
  {
   "cell_type": "code",
   "execution_count": 4,
   "metadata": {
    "pycharm": {
     "name": "#%%\n"
    }
   },
   "outputs": [
    {
     "data": {
      "text/plain": "Index(['movie_title', 'mcu_phase', 'release_date', 'tomato_meter',\n       'audience_score', 'movie_duration', 'production_budget',\n       'opening_weekend', 'domestic_box_office', 'worldwide_box_office'],\n      dtype='object')"
     },
     "execution_count": 4,
     "metadata": {},
     "output_type": "execute_result"
    }
   ],
   "source": [
    "mcu.columns"
   ]
  },
  {
   "cell_type": "code",
   "execution_count": 5,
   "metadata": {
    "pycharm": {
     "name": "#%%\n"
    }
   },
   "outputs": [],
   "source": [
    "mcu.columns = ['Film', 'Phase', 'Release Date', 'Critical Reception', 'Audience Reception', 'Length', 'Budget', 'Opening Weekend Gross', 'Domestic Gross', 'Worldwide Gross']"
   ]
  },
  {
   "cell_type": "code",
   "execution_count": 6,
   "metadata": {
    "pycharm": {
     "name": "#%%\n"
    }
   },
   "outputs": [
    {
     "name": "stdout",
     "output_type": "stream",
     "text": [
      "<class 'pandas.core.frame.DataFrame'>\n",
      "RangeIndex: 27 entries, 0 to 26\n",
      "Data columns (total 10 columns):\n",
      " #   Column                 Non-Null Count  Dtype \n",
      "---  ------                 --------------  ----- \n",
      " 0   Film                   27 non-null     object\n",
      " 1   Phase                  27 non-null     int64 \n",
      " 2   Release Date           27 non-null     object\n",
      " 3   Critical Reception     27 non-null     int64 \n",
      " 4   Audience Reception     27 non-null     int64 \n",
      " 5   Length                 27 non-null     int64 \n",
      " 6   Budget                 27 non-null     object\n",
      " 7   Opening Weekend Gross  27 non-null     object\n",
      " 8   Domestic Gross         27 non-null     object\n",
      " 9   Worldwide Gross        27 non-null     object\n",
      "dtypes: int64(4), object(6)\n",
      "memory usage: 2.2+ KB\n"
     ]
    }
   ],
   "source": [
    "mcu.info()"
   ]
  },
  {
   "cell_type": "markdown",
   "metadata": {
    "pycharm": {
     "name": "#%% md\n"
    }
   },
   "source": [
    "Shortening some of the longer titles\n",
    "___"
   ]
  },
  {
   "cell_type": "code",
   "execution_count": 7,
   "metadata": {
    "pycharm": {
     "name": "#%%\n"
    }
   },
   "outputs": [],
   "source": [
    "mcu.at[4,'Film']='Captain America'\n",
    "mcu.at[8,'Film']='The Winter Soldier'\n",
    "mcu.at[10,'Film']='Age of Ultron'\n",
    "mcu.at[12,'Film']='Civil War'\n",
    "mcu.at[18,'Film']='Infinity War'\n",
    "mcu.at[21,'Film']='Endgame'\n",
    "mcu.at[24,'Film']='Shang-Chi'"
   ]
  },
  {
   "cell_type": "markdown",
   "metadata": {
    "pycharm": {
     "name": "#%% md\n"
    }
   },
   "source": [
    "Setting the index as the Film column\n",
    "___"
   ]
  },
  {
   "cell_type": "code",
   "execution_count": 8,
   "metadata": {
    "pycharm": {
     "name": "#%%\n"
    }
   },
   "outputs": [],
   "source": [
    "mcu=mcu.set_index('Film')"
   ]
  },
  {
   "cell_type": "code",
   "execution_count": 9,
   "metadata": {
    "pycharm": {
     "name": "#%%\n"
    }
   },
   "outputs": [
    {
     "name": "stdout",
     "output_type": "stream",
     "text": [
      "<class 'pandas.core.frame.DataFrame'>\n",
      "Index: 27 entries, Iron Man to Spider-Man: No Way Home\n",
      "Data columns (total 9 columns):\n",
      " #   Column                 Non-Null Count  Dtype \n",
      "---  ------                 --------------  ----- \n",
      " 0   Phase                  27 non-null     int64 \n",
      " 1   Release Date           27 non-null     object\n",
      " 2   Critical Reception     27 non-null     int64 \n",
      " 3   Audience Reception     27 non-null     int64 \n",
      " 4   Length                 27 non-null     int64 \n",
      " 5   Budget                 27 non-null     object\n",
      " 6   Opening Weekend Gross  27 non-null     object\n",
      " 7   Domestic Gross         27 non-null     object\n",
      " 8   Worldwide Gross        27 non-null     object\n",
      "dtypes: int64(4), object(5)\n",
      "memory usage: 2.1+ KB\n"
     ]
    }
   ],
   "source": [
    "mcu.info()"
   ]
  },
  {
   "cell_type": "code",
   "execution_count": 10,
   "metadata": {
    "pycharm": {
     "name": "#%%\n"
    }
   },
   "outputs": [
    {
     "data": {
      "text/plain": "                                Phase Release Date  Critical Reception  \\\nFilm                                                                     \nIron Man                            1     5/2/2008                  94   \nThe Incredible Hulk                 1    6/13/2008                  67   \nIron Man 2                          1     5/7/2010                  72   \nThor                                1     5/6/2011                  77   \nCaptain America                     1    7/22/2011                  79   \nThe Avengers                        1     5/4/2012                  91   \nIron Man 3                          2     5/3/2013                  79   \nThor: The Dark World                2    11/8/2013                  66   \nThe Winter Soldier                  2     4/4/2014                  90   \nGuardians of the Galaxy             2     8/1/2014                  92   \nAge of Ultron                       2     5/1/2015                  76   \nAnt-Man                             2    7/17/2015                  83   \nCivil War                           3     5/6/2016                  90   \nDoctor Strange                      3    11/4/2016                  89   \nGuardians of the Galaxy Vol. 2      3     5/5/2017                  85   \nSpider-Man: Homecoming              3     7/7/2017                  92   \nThor: Ragnarok                      3    11/3/2017                  93   \nBlack Panther                       3    2/16/2018                  96   \nInfinity War                        3    4/27/2018                  85   \nAnt-Man and the Wasp                3     7/6/2018                  87   \nCaptain Marvel                      3     3/8/2019                  79   \nEndgame                             3    4/26/2019                  94   \nSpider-Man: Far From Home           3     7/2/2019                  90   \nBlack Widow                         4     7/9/2021                  79   \nShang-Chi                           4     9/3/2021                  91   \nEternals                            4    11/5/2021                  47   \nSpider-Man: No Way Home             4   12/17/2021                  93   \n\n                                Audience Reception  Length       Budget  \\\nFilm                                                                      \nIron Man                                        91     126  186,000,000   \nThe Incredible Hulk                             70     112  137,500,000   \nIron Man 2                                      71     124  170,000,000   \nThor                                            76     113  150,000,000   \nCaptain America                                 75     124  140,000,000   \nThe Avengers                                    91     143  225,000,000   \nIron Man 3                                      78     130  200,000,000   \nThor: The Dark World                            75     111  150,000,000   \nThe Winter Soldier                              92     135  170,000,000   \nGuardians of the Galaxy                         92     121  170,000,000   \nAge of Ultron                                   83     141  365,000,000   \nAnt-Man                                         85     117  130,000,000   \nCivil War                                       89     146  250,000,000   \nDoctor Strange                                  86     115  165,000,000   \nGuardians of the Galaxy Vol. 2                  87     135  200,000,000   \nSpider-Man: Homecoming                          87     133  175,000,000   \nThor: Ragnarok                                  87     130  180,000,000   \nBlack Panther                                   79     134  200,000,000   \nInfinity War                                    91     149  300,000,000   \nAnt-Man and the Wasp                            81     118  130,000,000   \nCaptain Marvel                                  45     124  175,000,000   \nEndgame                                         90     181  400,000,000   \nSpider-Man: Far From Home                       95     129  160,000,000   \nBlack Widow                                     91     133  200,000,000   \nShang-Chi                                       98     133  150,000,000   \nEternals                                        78     157  200,000,000   \nSpider-Man: No Way Home                         98     148  200,000,000   \n\n                               Opening Weekend Gross Domestic Gross  \\\nFilm                                                                  \nIron Man                                 102,118,668    318,604,126   \nThe Incredible Hulk                       55,414,050    134,806,913   \nIron Man 2                               128,122,480    312,433,331   \nThor                                      65,723,338    181,030,624   \nCaptain America                           65,058,524    176,654,505   \nThe Avengers                             207,438,708    623,357,910   \nIron Man 3                               174,144,585    408,992,272   \nThor: The Dark World                      85,737,841    206,362,140   \nThe Winter Soldier                        95,023,721    259,746,958   \nGuardians of the Galaxy                   94,320,883    333,714,112   \nAge of Ultron                            191,271,109    459,005,868   \nAnt-Man                                   57,225,526    180,202,163   \nCivil War                                179,139,142    408,084,349   \nDoctor Strange                            85,058,311    232,641,920   \nGuardians of the Galaxy Vol. 2           146,510,104    389,813,101   \nSpider-Man: Homecoming                   117,027,503    334,201,140   \nThor: Ragnarok                           122,744,989    315,058,289   \nBlack Panther                            202,003,951    700,059,566   \nInfinity War                             257,698,183    678,815,482   \nAnt-Man and the Wasp                      75,812,205    216,648,740   \nCaptain Marvel                           153,433,423    426,829,839   \nEndgame                                  357,115,007    858,373,000   \nSpider-Man: Far From Home                 92,579,212    390,532,085   \nBlack Widow                               80,366,312    183,651,655   \nShang-Chi                                 75,388,688    224,543,292   \nEternals                                  71,297,219    164,870,264   \nSpider-Man: No Way Home                  260,138,569    803,975,784   \n\n                               Worldwide Gross  \nFilm                                            \nIron Man                           585,171,547  \nThe Incredible Hulk                265,573,859  \nIron Man 2                         621,156,389  \nThor                               449,326,618  \nCaptain America                    370,569,776  \nThe Avengers                     1,515,100,211  \nIron Man 3                       1,215,392,272  \nThor: The Dark World               644,602,516  \nThe Winter Soldier                 714,401,889  \nGuardians of the Galaxy            770,882,395  \nAge of Ultron                    1,395,316,979  \nAnt-Man                            518,858,449  \nCivil War                        1,151,918,521  \nDoctor Strange                     676,354,481  \nGuardians of the Galaxy Vol. 2     869,113,101  \nSpider-Man: Homecoming             878,346,440  \nThor: Ragnarok                     850,482,778  \nBlack Panther                    1,336,494,321  \nInfinity War                     2,048,359,754  \nAnt-Man and the Wasp               623,144,660  \nCaptain Marvel                   1,129,727,388  \nEndgame                          2,797,800,564  \nSpider-Man: Far From Home        1,132,532,832  \nBlack Widow                        379,751,655  \nShang-Chi                          432,243,292  \nEternals                           402,064,929  \nSpider-Man: No Way Home          1,891,108,035  ",
      "text/html": "<div>\n<style scoped>\n    .dataframe tbody tr th:only-of-type {\n        vertical-align: middle;\n    }\n\n    .dataframe tbody tr th {\n        vertical-align: top;\n    }\n\n    .dataframe thead th {\n        text-align: right;\n    }\n</style>\n<table border=\"1\" class=\"dataframe\">\n  <thead>\n    <tr style=\"text-align: right;\">\n      <th></th>\n      <th>Phase</th>\n      <th>Release Date</th>\n      <th>Critical Reception</th>\n      <th>Audience Reception</th>\n      <th>Length</th>\n      <th>Budget</th>\n      <th>Opening Weekend Gross</th>\n      <th>Domestic Gross</th>\n      <th>Worldwide Gross</th>\n    </tr>\n    <tr>\n      <th>Film</th>\n      <th></th>\n      <th></th>\n      <th></th>\n      <th></th>\n      <th></th>\n      <th></th>\n      <th></th>\n      <th></th>\n      <th></th>\n    </tr>\n  </thead>\n  <tbody>\n    <tr>\n      <th>Iron Man</th>\n      <td>1</td>\n      <td>5/2/2008</td>\n      <td>94</td>\n      <td>91</td>\n      <td>126</td>\n      <td>186,000,000</td>\n      <td>102,118,668</td>\n      <td>318,604,126</td>\n      <td>585,171,547</td>\n    </tr>\n    <tr>\n      <th>The Incredible Hulk</th>\n      <td>1</td>\n      <td>6/13/2008</td>\n      <td>67</td>\n      <td>70</td>\n      <td>112</td>\n      <td>137,500,000</td>\n      <td>55,414,050</td>\n      <td>134,806,913</td>\n      <td>265,573,859</td>\n    </tr>\n    <tr>\n      <th>Iron Man 2</th>\n      <td>1</td>\n      <td>5/7/2010</td>\n      <td>72</td>\n      <td>71</td>\n      <td>124</td>\n      <td>170,000,000</td>\n      <td>128,122,480</td>\n      <td>312,433,331</td>\n      <td>621,156,389</td>\n    </tr>\n    <tr>\n      <th>Thor</th>\n      <td>1</td>\n      <td>5/6/2011</td>\n      <td>77</td>\n      <td>76</td>\n      <td>113</td>\n      <td>150,000,000</td>\n      <td>65,723,338</td>\n      <td>181,030,624</td>\n      <td>449,326,618</td>\n    </tr>\n    <tr>\n      <th>Captain America</th>\n      <td>1</td>\n      <td>7/22/2011</td>\n      <td>79</td>\n      <td>75</td>\n      <td>124</td>\n      <td>140,000,000</td>\n      <td>65,058,524</td>\n      <td>176,654,505</td>\n      <td>370,569,776</td>\n    </tr>\n    <tr>\n      <th>The Avengers</th>\n      <td>1</td>\n      <td>5/4/2012</td>\n      <td>91</td>\n      <td>91</td>\n      <td>143</td>\n      <td>225,000,000</td>\n      <td>207,438,708</td>\n      <td>623,357,910</td>\n      <td>1,515,100,211</td>\n    </tr>\n    <tr>\n      <th>Iron Man 3</th>\n      <td>2</td>\n      <td>5/3/2013</td>\n      <td>79</td>\n      <td>78</td>\n      <td>130</td>\n      <td>200,000,000</td>\n      <td>174,144,585</td>\n      <td>408,992,272</td>\n      <td>1,215,392,272</td>\n    </tr>\n    <tr>\n      <th>Thor: The Dark World</th>\n      <td>2</td>\n      <td>11/8/2013</td>\n      <td>66</td>\n      <td>75</td>\n      <td>111</td>\n      <td>150,000,000</td>\n      <td>85,737,841</td>\n      <td>206,362,140</td>\n      <td>644,602,516</td>\n    </tr>\n    <tr>\n      <th>The Winter Soldier</th>\n      <td>2</td>\n      <td>4/4/2014</td>\n      <td>90</td>\n      <td>92</td>\n      <td>135</td>\n      <td>170,000,000</td>\n      <td>95,023,721</td>\n      <td>259,746,958</td>\n      <td>714,401,889</td>\n    </tr>\n    <tr>\n      <th>Guardians of the Galaxy</th>\n      <td>2</td>\n      <td>8/1/2014</td>\n      <td>92</td>\n      <td>92</td>\n      <td>121</td>\n      <td>170,000,000</td>\n      <td>94,320,883</td>\n      <td>333,714,112</td>\n      <td>770,882,395</td>\n    </tr>\n    <tr>\n      <th>Age of Ultron</th>\n      <td>2</td>\n      <td>5/1/2015</td>\n      <td>76</td>\n      <td>83</td>\n      <td>141</td>\n      <td>365,000,000</td>\n      <td>191,271,109</td>\n      <td>459,005,868</td>\n      <td>1,395,316,979</td>\n    </tr>\n    <tr>\n      <th>Ant-Man</th>\n      <td>2</td>\n      <td>7/17/2015</td>\n      <td>83</td>\n      <td>85</td>\n      <td>117</td>\n      <td>130,000,000</td>\n      <td>57,225,526</td>\n      <td>180,202,163</td>\n      <td>518,858,449</td>\n    </tr>\n    <tr>\n      <th>Civil War</th>\n      <td>3</td>\n      <td>5/6/2016</td>\n      <td>90</td>\n      <td>89</td>\n      <td>146</td>\n      <td>250,000,000</td>\n      <td>179,139,142</td>\n      <td>408,084,349</td>\n      <td>1,151,918,521</td>\n    </tr>\n    <tr>\n      <th>Doctor Strange</th>\n      <td>3</td>\n      <td>11/4/2016</td>\n      <td>89</td>\n      <td>86</td>\n      <td>115</td>\n      <td>165,000,000</td>\n      <td>85,058,311</td>\n      <td>232,641,920</td>\n      <td>676,354,481</td>\n    </tr>\n    <tr>\n      <th>Guardians of the Galaxy Vol. 2</th>\n      <td>3</td>\n      <td>5/5/2017</td>\n      <td>85</td>\n      <td>87</td>\n      <td>135</td>\n      <td>200,000,000</td>\n      <td>146,510,104</td>\n      <td>389,813,101</td>\n      <td>869,113,101</td>\n    </tr>\n    <tr>\n      <th>Spider-Man: Homecoming</th>\n      <td>3</td>\n      <td>7/7/2017</td>\n      <td>92</td>\n      <td>87</td>\n      <td>133</td>\n      <td>175,000,000</td>\n      <td>117,027,503</td>\n      <td>334,201,140</td>\n      <td>878,346,440</td>\n    </tr>\n    <tr>\n      <th>Thor: Ragnarok</th>\n      <td>3</td>\n      <td>11/3/2017</td>\n      <td>93</td>\n      <td>87</td>\n      <td>130</td>\n      <td>180,000,000</td>\n      <td>122,744,989</td>\n      <td>315,058,289</td>\n      <td>850,482,778</td>\n    </tr>\n    <tr>\n      <th>Black Panther</th>\n      <td>3</td>\n      <td>2/16/2018</td>\n      <td>96</td>\n      <td>79</td>\n      <td>134</td>\n      <td>200,000,000</td>\n      <td>202,003,951</td>\n      <td>700,059,566</td>\n      <td>1,336,494,321</td>\n    </tr>\n    <tr>\n      <th>Infinity War</th>\n      <td>3</td>\n      <td>4/27/2018</td>\n      <td>85</td>\n      <td>91</td>\n      <td>149</td>\n      <td>300,000,000</td>\n      <td>257,698,183</td>\n      <td>678,815,482</td>\n      <td>2,048,359,754</td>\n    </tr>\n    <tr>\n      <th>Ant-Man and the Wasp</th>\n      <td>3</td>\n      <td>7/6/2018</td>\n      <td>87</td>\n      <td>81</td>\n      <td>118</td>\n      <td>130,000,000</td>\n      <td>75,812,205</td>\n      <td>216,648,740</td>\n      <td>623,144,660</td>\n    </tr>\n    <tr>\n      <th>Captain Marvel</th>\n      <td>3</td>\n      <td>3/8/2019</td>\n      <td>79</td>\n      <td>45</td>\n      <td>124</td>\n      <td>175,000,000</td>\n      <td>153,433,423</td>\n      <td>426,829,839</td>\n      <td>1,129,727,388</td>\n    </tr>\n    <tr>\n      <th>Endgame</th>\n      <td>3</td>\n      <td>4/26/2019</td>\n      <td>94</td>\n      <td>90</td>\n      <td>181</td>\n      <td>400,000,000</td>\n      <td>357,115,007</td>\n      <td>858,373,000</td>\n      <td>2,797,800,564</td>\n    </tr>\n    <tr>\n      <th>Spider-Man: Far From Home</th>\n      <td>3</td>\n      <td>7/2/2019</td>\n      <td>90</td>\n      <td>95</td>\n      <td>129</td>\n      <td>160,000,000</td>\n      <td>92,579,212</td>\n      <td>390,532,085</td>\n      <td>1,132,532,832</td>\n    </tr>\n    <tr>\n      <th>Black Widow</th>\n      <td>4</td>\n      <td>7/9/2021</td>\n      <td>79</td>\n      <td>91</td>\n      <td>133</td>\n      <td>200,000,000</td>\n      <td>80,366,312</td>\n      <td>183,651,655</td>\n      <td>379,751,655</td>\n    </tr>\n    <tr>\n      <th>Shang-Chi</th>\n      <td>4</td>\n      <td>9/3/2021</td>\n      <td>91</td>\n      <td>98</td>\n      <td>133</td>\n      <td>150,000,000</td>\n      <td>75,388,688</td>\n      <td>224,543,292</td>\n      <td>432,243,292</td>\n    </tr>\n    <tr>\n      <th>Eternals</th>\n      <td>4</td>\n      <td>11/5/2021</td>\n      <td>47</td>\n      <td>78</td>\n      <td>157</td>\n      <td>200,000,000</td>\n      <td>71,297,219</td>\n      <td>164,870,264</td>\n      <td>402,064,929</td>\n    </tr>\n    <tr>\n      <th>Spider-Man: No Way Home</th>\n      <td>4</td>\n      <td>12/17/2021</td>\n      <td>93</td>\n      <td>98</td>\n      <td>148</td>\n      <td>200,000,000</td>\n      <td>260,138,569</td>\n      <td>803,975,784</td>\n      <td>1,891,108,035</td>\n    </tr>\n  </tbody>\n</table>\n</div>"
     },
     "execution_count": 10,
     "metadata": {},
     "output_type": "execute_result"
    }
   ],
   "source": [
    "mcu"
   ]
  },
  {
   "cell_type": "code",
   "execution_count": 11,
   "metadata": {
    "pycharm": {
     "name": "#%%\n"
    }
   },
   "outputs": [
    {
     "data": {
      "text/plain": "<AxesSubplot:xlabel='Length', ylabel='Critical Reception'>"
     },
     "execution_count": 11,
     "metadata": {},
     "output_type": "execute_result"
    },
    {
     "data": {
      "text/plain": "<Figure size 432x288 with 1 Axes>",
      "image/png": "[encoded data removed]"
     },
     "metadata": {},
     "output_type": "display_data"
    }
   ],
   "source": [
    "sns.scatterplot(x='Length',y='Critical Reception',data=mcu)"
   ]
  },
  {
   "cell_type": "markdown",
   "metadata": {
    "pycharm": {
     "name": "#%% md\n"
    }
   },
   "source": [
    "Converting currency values to int for later analysis\n",
    "___"
   ]
  },
  {
   "cell_type": "code",
   "execution_count": 12,
   "outputs": [],
   "source": [
    "mcu['Budget'] = mcu['Budget'].replace(',','', regex=True).astype('int')\n",
    "mcu['Opening Weekend Gross'] = mcu['Opening Weekend Gross'].replace(',','', regex=True).astype('int')\n",
    "mcu['Domestic Gross'] = mcu['Domestic Gross'].replace(',','', regex=True).astype('int')\n",
    "mcu['Worldwide Gross'] = mcu['Worldwide Gross'].replace(',','', regex=True).astype('int')"
   ],
   "metadata": {
    "collapsed": false,
    "pycharm": {
     "name": "#%%\n"
    }
   }
  },
  {
   "cell_type": "code",
   "execution_count": 13,
   "outputs": [
    {
     "data": {
      "text/plain": "                                Phase Release Date  Critical Reception  \\\nFilm                                                                     \nIron Man                            1     5/2/2008                  94   \nThe Incredible Hulk                 1    6/13/2008                  67   \nIron Man 2                          1     5/7/2010                  72   \nThor                                1     5/6/2011                  77   \nCaptain America                     1    7/22/2011                  79   \nThe Avengers                        1     5/4/2012                  91   \nIron Man 3                          2     5/3/2013                  79   \nThor: The Dark World                2    11/8/2013                  66   \nThe Winter Soldier                  2     4/4/2014                  90   \nGuardians of the Galaxy             2     8/1/2014                  92   \nAge of Ultron                       2     5/1/2015                  76   \nAnt-Man                             2    7/17/2015                  83   \nCivil War                           3     5/6/2016                  90   \nDoctor Strange                      3    11/4/2016                  89   \nGuardians of the Galaxy Vol. 2      3     5/5/2017                  85   \nSpider-Man: Homecoming              3     7/7/2017                  92   \nThor: Ragnarok                      3    11/3/2017                  93   \nBlack Panther                       3    2/16/2018                  96   \nInfinity War                        3    4/27/2018                  85   \nAnt-Man and the Wasp                3     7/6/2018                  87   \nCaptain Marvel                      3     3/8/2019                  79   \nEndgame                             3    4/26/2019                  94   \nSpider-Man: Far From Home           3     7/2/2019                  90   \nBlack Widow                         4     7/9/2021                  79   \nShang-Chi                           4     9/3/2021                  91   \nEternals                            4    11/5/2021                  47   \nSpider-Man: No Way Home             4   12/17/2021                  93   \n\n                                Audience Reception  Length     Budget  \\\nFilm                                                                    \nIron Man                                        91     126  186000000   \nThe Incredible Hulk                             70     112  137500000   \nIron Man 2                                      71     124  170000000   \nThor                                            76     113  150000000   \nCaptain America                                 75     124  140000000   \nThe Avengers                                    91     143  225000000   \nIron Man 3                                      78     130  200000000   \nThor: The Dark World                            75     111  150000000   \nThe Winter Soldier                              92     135  170000000   \nGuardians of the Galaxy                         92     121  170000000   \nAge of Ultron                                   83     141  365000000   \nAnt-Man                                         85     117  130000000   \nCivil War                                       89     146  250000000   \nDoctor Strange                                  86     115  165000000   \nGuardians of the Galaxy Vol. 2                  87     135  200000000   \nSpider-Man: Homecoming                          87     133  175000000   \nThor: Ragnarok                                  87     130  180000000   \nBlack Panther                                   79     134  200000000   \nInfinity War                                    91     149  300000000   \nAnt-Man and the Wasp                            81     118  130000000   \nCaptain Marvel                                  45     124  175000000   \nEndgame                                         90     181  400000000   \nSpider-Man: Far From Home                       95     129  160000000   \nBlack Widow                                     91     133  200000000   \nShang-Chi                                       98     133  150000000   \nEternals                                        78     157  200000000   \nSpider-Man: No Way Home                         98     148  200000000   \n\n                                Opening Weekend Gross  Domestic Gross  \\\nFilm                                                                    \nIron Man                                    102118668       318604126   \nThe Incredible Hulk                          55414050       134806913   \nIron Man 2                                  128122480       312433331   \nThor                                         65723338       181030624   \nCaptain America                              65058524       176654505   \nThe Avengers                                207438708       623357910   \nIron Man 3                                  174144585       408992272   \nThor: The Dark World                         85737841       206362140   \nThe Winter Soldier                           95023721       259746958   \nGuardians of the Galaxy                      94320883       333714112   \nAge of Ultron                               191271109       459005868   \nAnt-Man                                      57225526       180202163   \nCivil War                                   179139142       408084349   \nDoctor Strange                               85058311       232641920   \nGuardians of the Galaxy Vol. 2              146510104       389813101   \nSpider-Man: Homecoming                      117027503       334201140   \nThor: Ragnarok                              122744989       315058289   \nBlack Panther                               202003951       700059566   \nInfinity War                                257698183       678815482   \nAnt-Man and the Wasp                         75812205       216648740   \nCaptain Marvel                              153433423       426829839   \nEndgame                                     357115007       858373000   \nSpider-Man: Far From Home                    92579212       390532085   \nBlack Widow                                  80366312       183651655   \nShang-Chi                                    75388688       224543292   \nEternals                                     71297219       164870264   \nSpider-Man: No Way Home                     260138569       803975784   \n\n                                Worldwide Gross  \nFilm                                             \nIron Man                              585171547  \nThe Incredible Hulk                   265573859  \nIron Man 2                            621156389  \nThor                                  449326618  \nCaptain America                       370569776  \nThe Avengers                         1515100211  \nIron Man 3                           1215392272  \nThor: The Dark World                  644602516  \nThe Winter Soldier                    714401889  \nGuardians of the Galaxy               770882395  \nAge of Ultron                        1395316979  \nAnt-Man                               518858449  \nCivil War                            1151918521  \nDoctor Strange                        676354481  \nGuardians of the Galaxy Vol. 2        869113101  \nSpider-Man: Homecoming                878346440  \nThor: Ragnarok                        850482778  \nBlack Panther                        1336494321  \nInfinity War                         2048359754  \nAnt-Man and the Wasp                  623144660  \nCaptain Marvel                       1129727388  \nEndgame                              2797800564  \nSpider-Man: Far From Home            1132532832  \nBlack Widow                           379751655  \nShang-Chi                             432243292  \nEternals                              402064929  \nSpider-Man: No Way Home              1891108035  ",
      "text/html": "<div>\n<style scoped>\n    .dataframe tbody tr th:only-of-type {\n        vertical-align: middle;\n    }\n\n    .dataframe tbody tr th {\n        vertical-align: top;\n    }\n\n    .dataframe thead th {\n        text-align: right;\n    }\n</style>\n<table border=\"1\" class=\"dataframe\">\n  <thead>\n    <tr style=\"text-align: right;\">\n      <th></th>\n      <th>Phase</th>\n      <th>Release Date</th>\n      <th>Critical Reception</th>\n      <th>Audience Reception</th>\n      <th>Length</th>\n      <th>Budget</th>\n      <th>Opening Weekend Gross</th>\n      <th>Domestic Gross</th>\n      <th>Worldwide Gross</th>\n    </tr>\n    <tr>\n      <th>Film</th>\n      <th></th>\n      <th></th>\n      <th></th>\n      <th></th>\n      <th></th>\n      <th></th>\n      <th></th>\n      <th></th>\n      <th></th>\n    </tr>\n  </thead>\n  <tbody>\n    <tr>\n      <th>Iron Man</th>\n      <td>1</td>\n      <td>5/2/2008</td>\n      <td>94</td>\n      <td>91</td>\n      <td>126</td>\n      <td>186000000</td>\n      <td>102118668</td>\n      <td>318604126</td>\n      <td>585171547</td>\n    </tr>\n    <tr>\n      <th>The Incredible Hulk</th>\n      <td>1</td>\n      <td>6/13/2008</td>\n      <td>67</td>\n      <td>70</td>\n      <td>112</td>\n      <td>137500000</td>\n      <td>55414050</td>\n      <td>134806913</td>\n      <td>265573859</td>\n    </tr>\n    <tr>\n      <th>Iron Man 2</th>\n      <td>1</td>\n      <td>5/7/2010</td>\n      <td>72</td>\n      <td>71</td>\n      <td>124</td>\n      <td>170000000</td>\n      <td>128122480</td>\n      <td>312433331</td>\n      <td>621156389</td>\n    </tr>\n    <tr>\n      <th>Thor</th>\n      <td>1</td>\n      <td>5/6/2011</td>\n      <td>77</td>\n      <td>76</td>\n      <td>113</td>\n      <td>150000000</td>\n      <td>65723338</td>\n      <td>181030624</td>\n      <td>449326618</td>\n    </tr>\n    <tr>\n      <th>Captain America</th>\n      <td>1</td>\n      <td>7/22/2011</td>\n      <td>79</td>\n      <td>75</td>\n      <td>124</td>\n      <td>140000000</td>\n      <td>65058524</td>\n      <td>176654505</td>\n      <td>370569776</td>\n    </tr>\n    <tr>\n      <th>The Avengers</th>\n      <td>1</td>\n      <td>5/4/2012</td>\n      <td>91</td>\n      <td>91</td>\n      <td>143</td>\n      <td>225000000</td>\n      <td>207438708</td>\n      <td>623357910</td>\n      <td>1515100211</td>\n    </tr>\n    <tr>\n      <th>Iron Man 3</th>\n      <td>2</td>\n      <td>5/3/2013</td>\n      <td>79</td>\n      <td>78</td>\n      <td>130</td>\n      <td>200000000</td>\n      <td>174144585</td>\n      <td>408992272</td>\n      <td>1215392272</td>\n    </tr>\n    <tr>\n      <th>Thor: The Dark World</th>\n      <td>2</td>\n      <td>11/8/2013</td>\n      <td>66</td>\n      <td>75</td>\n      <td>111</td>\n      <td>150000000</td>\n      <td>85737841</td>\n      <td>206362140</td>\n      <td>644602516</td>\n    </tr>\n    <tr>\n      <th>The Winter Soldier</th>\n      <td>2</td>\n      <td>4/4/2014</td>\n      <td>90</td>\n      <td>92</td>\n      <td>135</td>\n      <td>170000000</td>\n      <td>95023721</td>\n      <td>259746958</td>\n      <td>714401889</td>\n    </tr>\n    <tr>\n      <th>Guardians of the Galaxy</th>\n      <td>2</td>\n      <td>8/1/2014</td>\n      <td>92</td>\n      <td>92</td>\n      <td>121</td>\n      <td>170000000</td>\n      <td>94320883</td>\n      <td>333714112</td>\n      <td>770882395</td>\n    </tr>\n    <tr>\n      <th>Age of Ultron</th>\n      <td>2</td>\n      <td>5/1/2015</td>\n      <td>76</td>\n      <td>83</td>\n      <td>141</td>\n      <td>365000000</td>\n      <td>191271109</td>\n      <td>459005868</td>\n      <td>1395316979</td>\n    </tr>\n    <tr>\n      <th>Ant-Man</th>\n      <td>2</td>\n      <td>7/17/2015</td>\n      <td>83</td>\n      <td>85</td>\n      <td>117</td>\n      <td>130000000</td>\n      <td>57225526</td>\n      <td>180202163</td>\n      <td>518858449</td>\n    </tr>\n    <tr>\n      <th>Civil War</th>\n      <td>3</td>\n      <td>5/6/2016</td>\n      <td>90</td>\n      <td>89</td>\n      <td>146</td>\n      <td>250000000</td>\n      <td>179139142</td>\n      <td>408084349</td>\n      <td>1151918521</td>\n    </tr>\n    <tr>\n      <th>Doctor Strange</th>\n      <td>3</td>\n      <td>11/4/2016</td>\n      <td>89</td>\n      <td>86</td>\n      <td>115</td>\n      <td>165000000</td>\n      <td>85058311</td>\n      <td>232641920</td>\n      <td>676354481</td>\n    </tr>\n    <tr>\n      <th>Guardians of the Galaxy Vol. 2</th>\n      <td>3</td>\n      <td>5/5/2017</td>\n      <td>85</td>\n      <td>87</td>\n      <td>135</td>\n      <td>200000000</td>\n      <td>146510104</td>\n      <td>389813101</td>\n      <td>869113101</td>\n    </tr>\n    <tr>\n      <th>Spider-Man: Homecoming</th>\n      <td>3</td>\n      <td>7/7/2017</td>\n      <td>92</td>\n      <td>87</td>\n      <td>133</td>\n      <td>175000000</td>\n      <td>117027503</td>\n      <td>334201140</td>\n      <td>878346440</td>\n    </tr>\n    <tr>\n      <th>Thor: Ragnarok</th>\n      <td>3</td>\n      <td>11/3/2017</td>\n      <td>93</td>\n      <td>87</td>\n      <td>130</td>\n      <td>180000000</td>\n      <td>122744989</td>\n      <td>315058289</td>\n      <td>850482778</td>\n    </tr>\n    <tr>\n      <th>Black Panther</th>\n      <td>3</td>\n      <td>2/16/2018</td>\n      <td>96</td>\n      <td>79</td>\n      <td>134</td>\n      <td>200000000</td>\n      <td>202003951</td>\n      <td>700059566</td>\n      <td>1336494321</td>\n    </tr>\n    <tr>\n      <th>Infinity War</th>\n      <td>3</td>\n      <td>4/27/2018</td>\n      <td>85</td>\n      <td>91</td>\n      <td>149</td>\n      <td>300000000</td>\n      <td>257698183</td>\n      <td>678815482</td>\n      <td>2048359754</td>\n    </tr>\n    <tr>\n      <th>Ant-Man and the Wasp</th>\n      <td>3</td>\n      <td>7/6/2018</td>\n      <td>87</td>\n      <td>81</td>\n      <td>118</td>\n      <td>130000000</td>\n      <td>75812205</td>\n      <td>216648740</td>\n      <td>623144660</td>\n    </tr>\n    <tr>\n      <th>Captain Marvel</th>\n      <td>3</td>\n      <td>3/8/2019</td>\n      <td>79</td>\n      <td>45</td>\n      <td>124</td>\n      <td>175000000</td>\n      <td>153433423</td>\n      <td>426829839</td>\n      <td>1129727388</td>\n    </tr>\n    <tr>\n      <th>Endgame</th>\n      <td>3</td>\n      <td>4/26/2019</td>\n      <td>94</td>\n      <td>90</td>\n      <td>181</td>\n      <td>400000000</td>\n      <td>357115007</td>\n      <td>858373000</td>\n      <td>2797800564</td>\n    </tr>\n    <tr>\n      <th>Spider-Man: Far From Home</th>\n      <td>3</td>\n      <td>7/2/2019</td>\n      <td>90</td>\n      <td>95</td>\n      <td>129</td>\n      <td>160000000</td>\n      <td>92579212</td>\n      <td>390532085</td>\n      <td>1132532832</td>\n    </tr>\n    <tr>\n      <th>Black Widow</th>\n      <td>4</td>\n      <td>7/9/2021</td>\n      <td>79</td>\n      <td>91</td>\n      <td>133</td>\n      <td>200000000</td>\n      <td>80366312</td>\n      <td>183651655</td>\n      <td>379751655</td>\n    </tr>\n    <tr>\n      <th>Shang-Chi</th>\n      <td>4</td>\n      <td>9/3/2021</td>\n      <td>91</td>\n      <td>98</td>\n      <td>133</td>\n      <td>150000000</td>\n      <td>75388688</td>\n      <td>224543292</td>\n      <td>432243292</td>\n    </tr>\n    <tr>\n      <th>Eternals</th>\n      <td>4</td>\n      <td>11/5/2021</td>\n      <td>47</td>\n      <td>78</td>\n      <td>157</td>\n      <td>200000000</td>\n      <td>71297219</td>\n      <td>164870264</td>\n      <td>402064929</td>\n    </tr>\n    <tr>\n      <th>Spider-Man: No Way Home</th>\n      <td>4</td>\n      <td>12/17/2021</td>\n      <td>93</td>\n      <td>98</td>\n      <td>148</td>\n      <td>200000000</td>\n      <td>260138569</td>\n      <td>803975784</td>\n      <td>1891108035</td>\n    </tr>\n  </tbody>\n</table>\n</div>"
     },
     "execution_count": 13,
     "metadata": {},
     "output_type": "execute_result"
    }
   ],
   "source": [
    "mcu"
   ],
   "metadata": {
    "collapsed": false,
    "pycharm": {
     "name": "#%%\n"
    }
   }
  },
  {
   "cell_type": "markdown",
   "metadata": {
    "pycharm": {
     "name": "#%% md\n"
    }
   },
   "source": [
    "Breaking the larger table into smaller tables, based on the phase of the MCU the film belongs to\n",
    "___"
   ]
  },
  {
   "cell_type": "code",
   "execution_count": 14,
   "metadata": {
    "pycharm": {
     "name": "#%%\n"
    }
   },
   "outputs": [],
   "source": [
    "phase1 = mcu[(mcu['Phase'] == 1)]\n",
    "phase2 = mcu[(mcu['Phase'] == 2)]\n",
    "phase3 = mcu[(mcu['Phase'] == 3)]\n",
    "phase4 = mcu[(mcu['Phase'] == 4)]"
   ]
  },
  {
   "cell_type": "code",
   "execution_count": 15,
   "metadata": {
    "pycharm": {
     "name": "#%%\n"
    }
   },
   "outputs": [
    {
     "data": {
      "text/plain": "                     Phase Release Date  Critical Reception  \\\nFilm                                                          \nIron Man                 1     5/2/2008                  94   \nThe Incredible Hulk      1    6/13/2008                  67   \nIron Man 2               1     5/7/2010                  72   \nThor                     1     5/6/2011                  77   \nCaptain America          1    7/22/2011                  79   \nThe Avengers             1     5/4/2012                  91   \n\n                     Audience Reception  Length     Budget  \\\nFilm                                                         \nIron Man                             91     126  186000000   \nThe Incredible Hulk                  70     112  137500000   \nIron Man 2                           71     124  170000000   \nThor                                 76     113  150000000   \nCaptain America                      75     124  140000000   \nThe Avengers                         91     143  225000000   \n\n                     Opening Weekend Gross  Domestic Gross  Worldwide Gross  \nFilm                                                                         \nIron Man                         102118668       318604126        585171547  \nThe Incredible Hulk               55414050       134806913        265573859  \nIron Man 2                       128122480       312433331        621156389  \nThor                              65723338       181030624        449326618  \nCaptain America                   65058524       176654505        370569776  \nThe Avengers                     207438708       623357910       1515100211  ",
      "text/html": "<div>\n<style scoped>\n    .dataframe tbody tr th:only-of-type {\n        vertical-align: middle;\n    }\n\n    .dataframe tbody tr th {\n        vertical-align: top;\n    }\n\n    .dataframe thead th {\n        text-align: right;\n    }\n</style>\n<table border=\"1\" class=\"dataframe\">\n  <thead>\n    <tr style=\"text-align: right;\">\n      <th></th>\n      <th>Phase</th>\n      <th>Release Date</th>\n      <th>Critical Reception</th>\n      <th>Audience Reception</th>\n      <th>Length</th>\n      <th>Budget</th>\n      <th>Opening Weekend Gross</th>\n      <th>Domestic Gross</th>\n      <th>Worldwide Gross</th>\n    </tr>\n    <tr>\n      <th>Film</th>\n      <th></th>\n      <th></th>\n      <th></th>\n      <th></th>\n      <th></th>\n      <th></th>\n      <th></th>\n      <th></th>\n      <th></th>\n    </tr>\n  </thead>\n  <tbody>\n    <tr>\n      <th>Iron Man</th>\n      <td>1</td>\n      <td>5/2/2008</td>\n      <td>94</td>\n      <td>91</td>\n      <td>126</td>\n      <td>186000000</td>\n      <td>102118668</td>\n      <td>318604126</td>\n      <td>585171547</td>\n    </tr>\n    <tr>\n      <th>The Incredible Hulk</th>\n      <td>1</td>\n      <td>6/13/2008</td>\n      <td>67</td>\n      <td>70</td>\n      <td>112</td>\n      <td>137500000</td>\n      <td>55414050</td>\n      <td>134806913</td>\n      <td>265573859</td>\n    </tr>\n    <tr>\n      <th>Iron Man 2</th>\n      <td>1</td>\n      <td>5/7/2010</td>\n      <td>72</td>\n      <td>71</td>\n      <td>124</td>\n      <td>170000000</td>\n      <td>128122480</td>\n      <td>312433331</td>\n      <td>621156389</td>\n    </tr>\n    <tr>\n      <th>Thor</th>\n      <td>1</td>\n      <td>5/6/2011</td>\n      <td>77</td>\n      <td>76</td>\n      <td>113</td>\n      <td>150000000</td>\n      <td>65723338</td>\n      <td>181030624</td>\n      <td>449326618</td>\n    </tr>\n    <tr>\n      <th>Captain America</th>\n      <td>1</td>\n      <td>7/22/2011</td>\n      <td>79</td>\n      <td>75</td>\n      <td>124</td>\n      <td>140000000</td>\n      <td>65058524</td>\n      <td>176654505</td>\n      <td>370569776</td>\n    </tr>\n    <tr>\n      <th>The Avengers</th>\n      <td>1</td>\n      <td>5/4/2012</td>\n      <td>91</td>\n      <td>91</td>\n      <td>143</td>\n      <td>225000000</td>\n      <td>207438708</td>\n      <td>623357910</td>\n      <td>1515100211</td>\n    </tr>\n  </tbody>\n</table>\n</div>"
     },
     "execution_count": 15,
     "metadata": {},
     "output_type": "execute_result"
    }
   ],
   "source": [
    "phase1"
   ]
  },
  {
   "cell_type": "code",
   "execution_count": 16,
   "metadata": {
    "pycharm": {
     "name": "#%%\n"
    }
   },
   "outputs": [
    {
     "data": {
      "text/plain": "                         Phase Release Date  Critical Reception  \\\nFilm                                                              \nIron Man 3                   2     5/3/2013                  79   \nThor: The Dark World         2    11/8/2013                  66   \nThe Winter Soldier           2     4/4/2014                  90   \nGuardians of the Galaxy      2     8/1/2014                  92   \nAge of Ultron                2     5/1/2015                  76   \nAnt-Man                      2    7/17/2015                  83   \n\n                         Audience Reception  Length     Budget  \\\nFilm                                                             \nIron Man 3                               78     130  200000000   \nThor: The Dark World                     75     111  150000000   \nThe Winter Soldier                       92     135  170000000   \nGuardians of the Galaxy                  92     121  170000000   \nAge of Ultron                            83     141  365000000   \nAnt-Man                                  85     117  130000000   \n\n                         Opening Weekend Gross  Domestic Gross  \\\nFilm                                                             \nIron Man 3                           174144585       408992272   \nThor: The Dark World                  85737841       206362140   \nThe Winter Soldier                    95023721       259746958   \nGuardians of the Galaxy               94320883       333714112   \nAge of Ultron                        191271109       459005868   \nAnt-Man                               57225526       180202163   \n\n                         Worldwide Gross  \nFilm                                      \nIron Man 3                    1215392272  \nThor: The Dark World           644602516  \nThe Winter Soldier             714401889  \nGuardians of the Galaxy        770882395  \nAge of Ultron                 1395316979  \nAnt-Man                        518858449  ",
      "text/html": "<div>\n<style scoped>\n    .dataframe tbody tr th:only-of-type {\n        vertical-align: middle;\n    }\n\n    .dataframe tbody tr th {\n        vertical-align: top;\n    }\n\n    .dataframe thead th {\n        text-align: right;\n    }\n</style>\n<table border=\"1\" class=\"dataframe\">\n  <thead>\n    <tr style=\"text-align: right;\">\n      <th></th>\n      <th>Phase</th>\n      <th>Release Date</th>\n      <th>Critical Reception</th>\n      <th>Audience Reception</th>\n      <th>Length</th>\n      <th>Budget</th>\n      <th>Opening Weekend Gross</th>\n      <th>Domestic Gross</th>\n      <th>Worldwide Gross</th>\n    </tr>\n    <tr>\n      <th>Film</th>\n      <th></th>\n      <th></th>\n      <th></th>\n      <th></th>\n      <th></th>\n      <th></th>\n      <th></th>\n      <th></th>\n      <th></th>\n    </tr>\n  </thead>\n  <tbody>\n    <tr>\n      <th>Iron Man 3</th>\n      <td>2</td>\n      <td>5/3/2013</td>\n      <td>79</td>\n      <td>78</td>\n      <td>130</td>\n      <td>200000000</td>\n      <td>174144585</td>\n      <td>408992272</td>\n      <td>1215392272</td>\n    </tr>\n    <tr>\n      <th>Thor: The Dark World</th>\n      <td>2</td>\n      <td>11/8/2013</td>\n      <td>66</td>\n      <td>75</td>\n      <td>111</td>\n      <td>150000000</td>\n      <td>85737841</td>\n      <td>206362140</td>\n      <td>644602516</td>\n    </tr>\n    <tr>\n      <th>The Winter Soldier</th>\n      <td>2</td>\n      <td>4/4/2014</td>\n      <td>90</td>\n      <td>92</td>\n      <td>135</td>\n      <td>170000000</td>\n      <td>95023721</td>\n      <td>259746958</td>\n      <td>714401889</td>\n    </tr>\n    <tr>\n      <th>Guardians of the Galaxy</th>\n      <td>2</td>\n      <td>8/1/2014</td>\n      <td>92</td>\n      <td>92</td>\n      <td>121</td>\n      <td>170000000</td>\n      <td>94320883</td>\n      <td>333714112</td>\n      <td>770882395</td>\n    </tr>\n    <tr>\n      <th>Age of Ultron</th>\n      <td>2</td>\n      <td>5/1/2015</td>\n      <td>76</td>\n      <td>83</td>\n      <td>141</td>\n      <td>365000000</td>\n      <td>191271109</td>\n      <td>459005868</td>\n      <td>1395316979</td>\n    </tr>\n    <tr>\n      <th>Ant-Man</th>\n      <td>2</td>\n      <td>7/17/2015</td>\n      <td>83</td>\n      <td>85</td>\n      <td>117</td>\n      <td>130000000</td>\n      <td>57225526</td>\n      <td>180202163</td>\n      <td>518858449</td>\n    </tr>\n  </tbody>\n</table>\n</div>"
     },
     "execution_count": 16,
     "metadata": {},
     "output_type": "execute_result"
    }
   ],
   "source": [
    "phase2"
   ]
  },
  {
   "cell_type": "code",
   "execution_count": 17,
   "metadata": {
    "pycharm": {
     "name": "#%%\n"
    }
   },
   "outputs": [
    {
     "data": {
      "text/plain": "                                Phase Release Date  Critical Reception  \\\nFilm                                                                     \nCivil War                           3     5/6/2016                  90   \nDoctor Strange                      3    11/4/2016                  89   \nGuardians of the Galaxy Vol. 2      3     5/5/2017                  85   \nSpider-Man: Homecoming              3     7/7/2017                  92   \nThor: Ragnarok                      3    11/3/2017                  93   \nBlack Panther                       3    2/16/2018                  96   \nInfinity War                        3    4/27/2018                  85   \nAnt-Man and the Wasp                3     7/6/2018                  87   \nCaptain Marvel                      3     3/8/2019                  79   \nEndgame                             3    4/26/2019                  94   \nSpider-Man: Far From Home           3     7/2/2019                  90   \n\n                                Audience Reception  Length     Budget  \\\nFilm                                                                    \nCivil War                                       89     146  250000000   \nDoctor Strange                                  86     115  165000000   \nGuardians of the Galaxy Vol. 2                  87     135  200000000   \nSpider-Man: Homecoming                          87     133  175000000   \nThor: Ragnarok                                  87     130  180000000   \nBlack Panther                                   79     134  200000000   \nInfinity War                                    91     149  300000000   \nAnt-Man and the Wasp                            81     118  130000000   \nCaptain Marvel                                  45     124  175000000   \nEndgame                                         90     181  400000000   \nSpider-Man: Far From Home                       95     129  160000000   \n\n                                Opening Weekend Gross  Domestic Gross  \\\nFilm                                                                    \nCivil War                                   179139142       408084349   \nDoctor Strange                               85058311       232641920   \nGuardians of the Galaxy Vol. 2              146510104       389813101   \nSpider-Man: Homecoming                      117027503       334201140   \nThor: Ragnarok                              122744989       315058289   \nBlack Panther                               202003951       700059566   \nInfinity War                                257698183       678815482   \nAnt-Man and the Wasp                         75812205       216648740   \nCaptain Marvel                              153433423       426829839   \nEndgame                                     357115007       858373000   \nSpider-Man: Far From Home                    92579212       390532085   \n\n                                Worldwide Gross  \nFilm                                             \nCivil War                            1151918521  \nDoctor Strange                        676354481  \nGuardians of the Galaxy Vol. 2        869113101  \nSpider-Man: Homecoming                878346440  \nThor: Ragnarok                        850482778  \nBlack Panther                        1336494321  \nInfinity War                         2048359754  \nAnt-Man and the Wasp                  623144660  \nCaptain Marvel                       1129727388  \nEndgame                              2797800564  \nSpider-Man: Far From Home            1132532832  ",
      "text/html": "<div>\n<style scoped>\n    .dataframe tbody tr th:only-of-type {\n        vertical-align: middle;\n    }\n\n    .dataframe tbody tr th {\n        vertical-align: top;\n    }\n\n    .dataframe thead th {\n        text-align: right;\n    }\n</style>\n<table border=\"1\" class=\"dataframe\">\n  <thead>\n    <tr style=\"text-align: right;\">\n      <th></th>\n      <th>Phase</th>\n      <th>Release Date</th>\n      <th>Critical Reception</th>\n      <th>Audience Reception</th>\n      <th>Length</th>\n      <th>Budget</th>\n      <th>Opening Weekend Gross</th>\n      <th>Domestic Gross</th>\n      <th>Worldwide Gross</th>\n    </tr>\n    <tr>\n      <th>Film</th>\n      <th></th>\n      <th></th>\n      <th></th>\n      <th></th>\n      <th></th>\n      <th></th>\n      <th></th>\n      <th></th>\n      <th></th>\n    </tr>\n  </thead>\n  <tbody>\n    <tr>\n      <th>Civil War</th>\n      <td>3</td>\n      <td>5/6/2016</td>\n      <td>90</td>\n      <td>89</td>\n      <td>146</td>\n      <td>250000000</td>\n      <td>179139142</td>\n      <td>408084349</td>\n      <td>1151918521</td>\n    </tr>\n    <tr>\n      <th>Doctor Strange</th>\n      <td>3</td>\n      <td>11/4/2016</td>\n      <td>89</td>\n      <td>86</td>\n      <td>115</td>\n      <td>165000000</td>\n      <td>85058311</td>\n      <td>232641920</td>\n      <td>676354481</td>\n    </tr>\n    <tr>\n      <th>Guardians of the Galaxy Vol. 2</th>\n      <td>3</td>\n      <td>5/5/2017</td>\n      <td>85</td>\n      <td>87</td>\n      <td>135</td>\n      <td>200000000</td>\n      <td>146510104</td>\n      <td>389813101</td>\n      <td>869113101</td>\n    </tr>\n    <tr>\n      <th>Spider-Man: Homecoming</th>\n      <td>3</td>\n      <td>7/7/2017</td>\n      <td>92</td>\n      <td>87</td>\n      <td>133</td>\n      <td>175000000</td>\n      <td>117027503</td>\n      <td>334201140</td>\n      <td>878346440</td>\n    </tr>\n    <tr>\n      <th>Thor: Ragnarok</th>\n      <td>3</td>\n      <td>11/3/2017</td>\n      <td>93</td>\n      <td>87</td>\n      <td>130</td>\n      <td>180000000</td>\n      <td>122744989</td>\n      <td>315058289</td>\n      <td>850482778</td>\n    </tr>\n    <tr>\n      <th>Black Panther</th>\n      <td>3</td>\n      <td>2/16/2018</td>\n      <td>96</td>\n      <td>79</td>\n      <td>134</td>\n      <td>200000000</td>\n      <td>202003951</td>\n      <td>700059566</td>\n      <td>1336494321</td>\n    </tr>\n    <tr>\n      <th>Infinity War</th>\n      <td>3</td>\n      <td>4/27/2018</td>\n      <td>85</td>\n      <td>91</td>\n      <td>149</td>\n      <td>300000000</td>\n      <td>257698183</td>\n      <td>678815482</td>\n      <td>2048359754</td>\n    </tr>\n    <tr>\n      <th>Ant-Man and the Wasp</th>\n      <td>3</td>\n      <td>7/6/2018</td>\n      <td>87</td>\n      <td>81</td>\n      <td>118</td>\n      <td>130000000</td>\n      <td>75812205</td>\n      <td>216648740</td>\n      <td>623144660</td>\n    </tr>\n    <tr>\n      <th>Captain Marvel</th>\n      <td>3</td>\n      <td>3/8/2019</td>\n      <td>79</td>\n      <td>45</td>\n      <td>124</td>\n      <td>175000000</td>\n      <td>153433423</td>\n      <td>426829839</td>\n      <td>1129727388</td>\n    </tr>\n    <tr>\n      <th>Endgame</th>\n      <td>3</td>\n      <td>4/26/2019</td>\n      <td>94</td>\n      <td>90</td>\n      <td>181</td>\n      <td>400000000</td>\n      <td>357115007</td>\n      <td>858373000</td>\n      <td>2797800564</td>\n    </tr>\n    <tr>\n      <th>Spider-Man: Far From Home</th>\n      <td>3</td>\n      <td>7/2/2019</td>\n      <td>90</td>\n      <td>95</td>\n      <td>129</td>\n      <td>160000000</td>\n      <td>92579212</td>\n      <td>390532085</td>\n      <td>1132532832</td>\n    </tr>\n  </tbody>\n</table>\n</div>"
     },
     "execution_count": 17,
     "metadata": {},
     "output_type": "execute_result"
    }
   ],
   "source": [
    "phase3"
   ]
  },
  {
   "cell_type": "code",
   "execution_count": 18,
   "metadata": {
    "pycharm": {
     "name": "#%%\n"
    }
   },
   "outputs": [
    {
     "data": {
      "text/plain": "                         Phase Release Date  Critical Reception  \\\nFilm                                                              \nBlack Widow                  4     7/9/2021                  79   \nShang-Chi                    4     9/3/2021                  91   \nEternals                     4    11/5/2021                  47   \nSpider-Man: No Way Home      4   12/17/2021                  93   \n\n                         Audience Reception  Length     Budget  \\\nFilm                                                             \nBlack Widow                              91     133  200000000   \nShang-Chi                                98     133  150000000   \nEternals                                 78     157  200000000   \nSpider-Man: No Way Home                  98     148  200000000   \n\n                         Opening Weekend Gross  Domestic Gross  \\\nFilm                                                             \nBlack Widow                           80366312       183651655   \nShang-Chi                             75388688       224543292   \nEternals                              71297219       164870264   \nSpider-Man: No Way Home              260138569       803975784   \n\n                         Worldwide Gross  \nFilm                                      \nBlack Widow                    379751655  \nShang-Chi                      432243292  \nEternals                       402064929  \nSpider-Man: No Way Home       1891108035  ",
      "text/html": "<div>\n<style scoped>\n    .dataframe tbody tr th:only-of-type {\n        vertical-align: middle;\n    }\n\n    .dataframe tbody tr th {\n        vertical-align: top;\n    }\n\n    .dataframe thead th {\n        text-align: right;\n    }\n</style>\n<table border=\"1\" class=\"dataframe\">\n  <thead>\n    <tr style=\"text-align: right;\">\n      <th></th>\n      <th>Phase</th>\n      <th>Release Date</th>\n      <th>Critical Reception</th>\n      <th>Audience Reception</th>\n      <th>Length</th>\n      <th>Budget</th>\n      <th>Opening Weekend Gross</th>\n      <th>Domestic Gross</th>\n      <th>Worldwide Gross</th>\n    </tr>\n    <tr>\n      <th>Film</th>\n      <th></th>\n      <th></th>\n      <th></th>\n      <th></th>\n      <th></th>\n      <th></th>\n      <th></th>\n      <th></th>\n      <th></th>\n    </tr>\n  </thead>\n  <tbody>\n    <tr>\n      <th>Black Widow</th>\n      <td>4</td>\n      <td>7/9/2021</td>\n      <td>79</td>\n      <td>91</td>\n      <td>133</td>\n      <td>200000000</td>\n      <td>80366312</td>\n      <td>183651655</td>\n      <td>379751655</td>\n    </tr>\n    <tr>\n      <th>Shang-Chi</th>\n      <td>4</td>\n      <td>9/3/2021</td>\n      <td>91</td>\n      <td>98</td>\n      <td>133</td>\n      <td>150000000</td>\n      <td>75388688</td>\n      <td>224543292</td>\n      <td>432243292</td>\n    </tr>\n    <tr>\n      <th>Eternals</th>\n      <td>4</td>\n      <td>11/5/2021</td>\n      <td>47</td>\n      <td>78</td>\n      <td>157</td>\n      <td>200000000</td>\n      <td>71297219</td>\n      <td>164870264</td>\n      <td>402064929</td>\n    </tr>\n    <tr>\n      <th>Spider-Man: No Way Home</th>\n      <td>4</td>\n      <td>12/17/2021</td>\n      <td>93</td>\n      <td>98</td>\n      <td>148</td>\n      <td>200000000</td>\n      <td>260138569</td>\n      <td>803975784</td>\n      <td>1891108035</td>\n    </tr>\n  </tbody>\n</table>\n</div>"
     },
     "execution_count": 18,
     "metadata": {},
     "output_type": "execute_result"
    }
   ],
   "source": [
    "phase4"
   ]
  },
  {
   "cell_type": "markdown",
   "metadata": {
    "pycharm": {
     "name": "#%% md\n"
    }
   },
   "source": [
    "Since the tables are all based on which phase the film was released in, we don't need the `phase` column anymore\n",
    "___"
   ]
  },
  {
   "cell_type": "code",
   "execution_count": 19,
   "metadata": {
    "pycharm": {
     "name": "#%%\n"
    }
   },
   "outputs": [],
   "source": [
    "phase1 = phase1.drop(\"Phase\",axis=1)\n",
    "phase2 = phase2.drop(\"Phase\",axis=1)\n",
    "phase3 = phase3.drop(\"Phase\",axis=1)\n",
    "phase4 = phase4.drop(\"Phase\",axis=1)"
   ]
  },
  {
   "cell_type": "code",
   "execution_count": 20,
   "metadata": {
    "pycharm": {
     "name": "#%%\n"
    }
   },
   "outputs": [
    {
     "name": "stdout",
     "output_type": "stream",
     "text": [
      "<class 'pandas.core.frame.DataFrame'>\n",
      "Index: 6 entries, Iron Man to The Avengers\n",
      "Data columns (total 8 columns):\n",
      " #   Column                 Non-Null Count  Dtype \n",
      "---  ------                 --------------  ----- \n",
      " 0   Release Date           6 non-null      object\n",
      " 1   Critical Reception     6 non-null      int64 \n",
      " 2   Audience Reception     6 non-null      int64 \n",
      " 3   Length                 6 non-null      int64 \n",
      " 4   Budget                 6 non-null      int64 \n",
      " 5   Opening Weekend Gross  6 non-null      int64 \n",
      " 6   Domestic Gross         6 non-null      int64 \n",
      " 7   Worldwide Gross        6 non-null      int64 \n",
      "dtypes: int64(7), object(1)\n",
      "memory usage: 432.0+ bytes\n"
     ]
    }
   ],
   "source": [
    "phase1.info()"
   ]
  },
  {
   "cell_type": "markdown",
   "metadata": {
    "pycharm": {
     "name": "#%% md\n"
    }
   },
   "source": [
    "# Fuckin about"
   ]
  },
  {
   "cell_type": "markdown",
   "metadata": {
    "pycharm": {
     "name": "#%% md\n"
    }
   },
   "source": [
    "Let's visualize audience vs. critical reaction to each movie\n",
    "___"
   ]
  },
  {
   "cell_type": "code",
   "execution_count": 21,
   "metadata": {
    "pycharm": {
     "name": "#%%\n"
    }
   },
   "outputs": [
    {
     "data": {
      "text/plain": "                     Critical Reception  Audience Reception  \\\nFilm                                                          \nIron Man                             94                  91   \nThe Incredible Hulk                  67                  70   \nIron Man 2                           72                  71   \nThor                                 77                  76   \nCaptain America                      79                  75   \nThe Avengers                         91                  91   \n\n                     Opening Weekend Gross  Domestic Gross  Worldwide Gross  \nFilm                                                                         \nIron Man                         102118668       318604126        585171547  \nThe Incredible Hulk               55414050       134806913        265573859  \nIron Man 2                       128122480       312433331        621156389  \nThor                              65723338       181030624        449326618  \nCaptain America                   65058524       176654505        370569776  \nThe Avengers                     207438708       623357910       1515100211  ",
      "text/html": "<div>\n<style scoped>\n    .dataframe tbody tr th:only-of-type {\n        vertical-align: middle;\n    }\n\n    .dataframe tbody tr th {\n        vertical-align: top;\n    }\n\n    .dataframe thead th {\n        text-align: right;\n    }\n</style>\n<table border=\"1\" class=\"dataframe\">\n  <thead>\n    <tr style=\"text-align: right;\">\n      <th></th>\n      <th>Critical Reception</th>\n      <th>Audience Reception</th>\n      <th>Opening Weekend Gross</th>\n      <th>Domestic Gross</th>\n      <th>Worldwide Gross</th>\n    </tr>\n    <tr>\n      <th>Film</th>\n      <th></th>\n      <th></th>\n      <th></th>\n      <th></th>\n      <th></th>\n    </tr>\n  </thead>\n  <tbody>\n    <tr>\n      <th>Iron Man</th>\n      <td>94</td>\n      <td>91</td>\n      <td>102118668</td>\n      <td>318604126</td>\n      <td>585171547</td>\n    </tr>\n    <tr>\n      <th>The Incredible Hulk</th>\n      <td>67</td>\n      <td>70</td>\n      <td>55414050</td>\n      <td>134806913</td>\n      <td>265573859</td>\n    </tr>\n    <tr>\n      <th>Iron Man 2</th>\n      <td>72</td>\n      <td>71</td>\n      <td>128122480</td>\n      <td>312433331</td>\n      <td>621156389</td>\n    </tr>\n    <tr>\n      <th>Thor</th>\n      <td>77</td>\n      <td>76</td>\n      <td>65723338</td>\n      <td>181030624</td>\n      <td>449326618</td>\n    </tr>\n    <tr>\n      <th>Captain America</th>\n      <td>79</td>\n      <td>75</td>\n      <td>65058524</td>\n      <td>176654505</td>\n      <td>370569776</td>\n    </tr>\n    <tr>\n      <th>The Avengers</th>\n      <td>91</td>\n      <td>91</td>\n      <td>207438708</td>\n      <td>623357910</td>\n      <td>1515100211</td>\n    </tr>\n  </tbody>\n</table>\n</div>"
     },
     "execution_count": 21,
     "metadata": {},
     "output_type": "execute_result"
    }
   ],
   "source": [
    "p1 = phase1.drop([\"Release Date\",\"Length\",\"Budget\"], axis=1)\n",
    "p2 = phase2.drop([\"Release Date\",\"Length\",\"Budget\"], axis=1)\n",
    "p3 = phase3.drop([\"Release Date\",\"Length\",\"Budget\"], axis=1)\n",
    "p4 = phase4.drop([\"Release Date\",\"Length\",\"Budget\"], axis=1)\n",
    "\n",
    "p1"
   ]
  },
  {
   "cell_type": "code",
   "execution_count": 52,
   "outputs": [],
   "source": [
    "def p1Reception():\n",
    "    p1Film = p1.index.values\n",
    "    p1Crit = p1['Critical Reception']\n",
    "    p1Aud = p1['Audience Reception']\n",
    "    x_axis = np.arange(len(p1Film))\n",
    "\n",
    "    plt.figure(figsize=(12,6))\n",
    "    plt.bar(x_axis-0.2, p1Crit, 0.4, label = 'Critical')\n",
    "    plt.bar(x_axis+0.2, p1Aud, 0.4, label = 'Audience')\n",
    "\n",
    "    plt.xticks(x_axis, p1Film)\n",
    "    plt.xlabel('Films')\n",
    "    plt.ylabel('Reception')\n",
    "    plt.yticks(range(0, 100, 10))\n",
    "    plt.title('Reception of Phase 1')\n",
    "    plt.legend()\n",
    "    plt.show()"
   ],
   "metadata": {
    "collapsed": false,
    "pycharm": {
     "name": "#%%\n"
    }
   }
  },
  {
   "cell_type": "code",
   "execution_count": 64,
   "outputs": [],
   "source": [
    "def p2Reception():\n",
    "    p2Film = p2.index.values\n",
    "    p2Crit = p2['Critical Reception']\n",
    "    p2Aud = p2['Audience Reception']\n",
    "    x_axis = np.arange(len(p2Film))\n",
    "\n",
    "    plt.figure(figsize=(12,6))\n",
    "    plt.bar(x_axis-0.2, p2Crit, 0.35, label = 'Critical')\n",
    "    plt.bar(x_axis+0.2, p2Aud, 0.35, label = 'Audience')\n",
    "\n",
    "    plt.xticks(x_axis, p2Film)\n",
    "    plt.xlabel('Films')\n",
    "    plt.ylabel('Reception')\n",
    "    plt.yticks(range(0, 100, 10))\n",
    "    plt.title('Reception of Phase 1')\n",
    "    plt.legend()\n",
    "    plt.show()"
   ],
   "metadata": {
    "collapsed": false,
    "pycharm": {
     "name": "#%%\n"
    }
   }
  },
  {
   "cell_type": "code",
   "execution_count": 74,
   "outputs": [],
   "source": [
    "def p3Reception():\n",
    "    p3Film = p3.index.values\n",
    "    p3Crit = p3['Critical Reception']\n",
    "    p3Aud = p3['Audience Reception']\n",
    "    x_axis = np.arange(len(p3Film))\n",
    "\n",
    "    plt.figure(figsize=(25,10))\n",
    "    plt.bar(x_axis-0.2, p3Crit, 0.35, label = 'Critical')\n",
    "    plt.bar(x_axis+0.2, p3Aud, 0.35, label = 'Audience')\n",
    "\n",
    "    plt.xticks(x_axis, p3Film)\n",
    "    plt.xlabel('Films')\n",
    "    plt.ylabel('Reception')\n",
    "    plt.yticks(range(0, 100, 10))\n",
    "    plt.title('Reception of Phase 1')\n",
    "    plt.legend()\n",
    "    plt.show()"
   ],
   "metadata": {
    "collapsed": false,
    "pycharm": {
     "name": "#%%\n"
    }
   }
  },
  {
   "cell_type": "code",
   "execution_count": 74,
   "outputs": [],
   "source": [],
   "metadata": {
    "collapsed": false,
    "pycharm": {
     "name": "#%%\n"
    }
   }
  },
  {
   "cell_type": "code",
   "execution_count": 75,
   "outputs": [
    {
     "data": {
      "text/plain": "<Figure size 1800x720 with 1 Axes>",
      "image/png": "[encoded data removed]"
     },
     "metadata": {},
     "output_type": "display_data"
    }
   ],
   "source": [
    "p3Reception()"
   ],
   "metadata": {
    "collapsed": false,
    "pycharm": {
     "name": "#%%\n"
    }
   }
  },
  {
   "cell_type": "code",
   "execution_count": null,
   "outputs": [],
   "source": [],
   "metadata": {
    "collapsed": false,
    "pycharm": {
     "name": "#%%\n"
    }
   }
  }
 ],
 "metadata": {
  "kernelspec": {
   "display_name": "Python 3",
   "language": "python",
   "name": "python3"
  },
  "language_info": {
   "codemirror_mode": {
    "name": "ipython",
    "version": 3
   },
   "file_extension": ".py",
   "mimetype": "text/x-python",
   "name": "python",
   "nbconvert_exporter": "python",
   "pygments_lexer": "ipython3",
   "version": "3.8.5"
  }
 },
 "nbformat": 4,
 "nbformat_minor": 1
}