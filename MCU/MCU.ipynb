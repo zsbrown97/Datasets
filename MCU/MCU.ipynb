{
 "cells": [
  {
   "cell_type": "markdown",
   "metadata": {
    "pycharm": {
     "name": "#%% md\n"
    }
   },
   "source": [
    "## Data Setup"
   ]
  },
  {
   "cell_type": "markdown",
   "metadata": {
    "pycharm": {
     "name": "#%% md\n"
    }
   },
   "source": [
    "Imports"
   ]
  },
  {
   "cell_type": "code",
   "execution_count": 17,
   "metadata": {
    "pycharm": {
     "name": "#%%\n"
    }
   },
   "outputs": [],
   "source": [
    "import numpy as np\n",
    "import matplotlib.pyplot as plt\n",
    "import pandas as pd\n",
    "# includes functions reception(x)\n",
    "from mcu_functions import *"
   ]
  },
  {
   "cell_type": "code",
   "execution_count": 18,
   "outputs": [
    {
     "data": {
      "text/plain": "                                 Film Release Date  Critical Reception  \\\nPhase                                                                    \n1                            Iron Man     5/2/2008                  94   \n1                 The Incredible Hulk    6/13/2008                  67   \n1                          Iron Man 2     5/7/2010                  72   \n1                                Thor     5/6/2011                  77   \n1                     Captain America    7/22/2011                  79   \n1                        The Avengers     5/4/2012                  91   \n2                          Iron Man 3     5/3/2013                  79   \n2                Thor: The Dark World    11/8/2013                  66   \n2                  The Winter Soldier     4/4/2014                  90   \n2             Guardians of the Galaxy     8/1/2014                  92   \n2                       Age of Ultron     5/1/2015                  76   \n2                             Ant-Man    7/17/2015                  83   \n3                           Civil War     5/6/2016                  90   \n3                      Doctor Strange    11/4/2016                  89   \n3      Guardians of the Galaxy Vol. 2     5/5/2017                  85   \n3              Spider-Man: Homecoming     7/7/2017                  92   \n3                      Thor: Ragnarok    11/3/2017                  93   \n3                       Black Panther    2/16/2018                  96   \n3                        Infinity War    4/27/2018                  85   \n3                Ant-Man and the Wasp     7/6/2018                  87   \n3                      Captain Marvel     3/8/2019                  79   \n3                             Endgame    4/26/2019                  94   \n3           Spider-Man: Far From Home     7/2/2019                  90   \n4                         Black Widow     7/9/2021                  79   \n4                           Shang-Chi     9/3/2021                  91   \n4                            Eternals    11/5/2021                  47   \n4             Spider-Man: No Way Home   12/17/2021                  93   \n\n       Audience Reception  Length     Budget  Opening Weekend Gross  \\\nPhase                                                                 \n1                      91     126  186000000              102118668   \n1                      70     112  137500000               55414050   \n1                      71     124  170000000              128122480   \n1                      76     113  150000000               65723338   \n1                      75     124  140000000               65058524   \n1                      91     143  225000000              207438708   \n2                      78     130  200000000              174144585   \n2                      75     111  150000000               85737841   \n2                      92     135  170000000               95023721   \n2                      92     121  170000000               94320883   \n2                      83     141  365000000              191271109   \n2                      85     117  130000000               57225526   \n3                      89     146  250000000              179139142   \n3                      86     115  165000000               85058311   \n3                      87     135  200000000              146510104   \n3                      87     133  175000000              117027503   \n3                      87     130  180000000              122744989   \n3                      79     134  200000000              202003951   \n3                      91     149  300000000              257698183   \n3                      81     118  130000000               75812205   \n3                      45     124  175000000              153433423   \n3                      90     181  400000000              357115007   \n3                      95     129  160000000               92579212   \n4                      91     133  200000000               80366312   \n4                      98     133  150000000               75388688   \n4                      78     157  200000000               71297219   \n4                      98     148  200000000              260138569   \n\n       Domestic Gross  Worldwide Gross  \nPhase                                   \n1           318604126        585171547  \n1           134806913        265573859  \n1           312433331        621156389  \n1           181030624        449326618  \n1           176654505        370569776  \n1           623357910       1515100211  \n2           408992272       1215392272  \n2           206362140        644602516  \n2           259746958        714401889  \n2           333714112        770882395  \n2           459005868       1395316979  \n2           180202163        518858449  \n3           408084349       1151918521  \n3           232641920        676354481  \n3           389813101        869113101  \n3           334201140        878346440  \n3           315058289        850482778  \n3           700059566       1336494321  \n3           678815482       2048359754  \n3           216648740        623144660  \n3           426829839       1129727388  \n3           858373000       2797800564  \n3           390532085       1132532832  \n4           183651655        379751655  \n4           224543292        432243292  \n4           164870264        402064929  \n4           803975784       1891108035  ",
      "text/html": "<div>\n<style scoped>\n    .dataframe tbody tr th:only-of-type {\n        vertical-align: middle;\n    }\n\n    .dataframe tbody tr th {\n        vertical-align: top;\n    }\n\n    .dataframe thead th {\n        text-align: right;\n    }\n</style>\n<table border=\"1\" class=\"dataframe\">\n  <thead>\n    <tr style=\"text-align: right;\">\n      <th></th>\n      <th>Film</th>\n      <th>Release Date</th>\n      <th>Critical Reception</th>\n      <th>Audience Reception</th>\n      <th>Length</th>\n      <th>Budget</th>\n      <th>Opening Weekend Gross</th>\n      <th>Domestic Gross</th>\n      <th>Worldwide Gross</th>\n    </tr>\n    <tr>\n      <th>Phase</th>\n      <th></th>\n      <th></th>\n      <th></th>\n      <th></th>\n      <th></th>\n      <th></th>\n      <th></th>\n      <th></th>\n      <th></th>\n    </tr>\n  </thead>\n  <tbody>\n    <tr>\n      <th>1</th>\n      <td>Iron Man</td>\n      <td>5/2/2008</td>\n      <td>94</td>\n      <td>91</td>\n      <td>126</td>\n      <td>186000000</td>\n      <td>102118668</td>\n      <td>318604126</td>\n      <td>585171547</td>\n    </tr>\n    <tr>\n      <th>1</th>\n      <td>The Incredible Hulk</td>\n      <td>6/13/2008</td>\n      <td>67</td>\n      <td>70</td>\n      <td>112</td>\n      <td>137500000</td>\n      <td>55414050</td>\n      <td>134806913</td>\n      <td>265573859</td>\n    </tr>\n    <tr>\n      <th>1</th>\n      <td>Iron Man 2</td>\n      <td>5/7/2010</td>\n      <td>72</td>\n      <td>71</td>\n      <td>124</td>\n      <td>170000000</td>\n      <td>128122480</td>\n      <td>312433331</td>\n      <td>621156389</td>\n    </tr>\n    <tr>\n      <th>1</th>\n      <td>Thor</td>\n      <td>5/6/2011</td>\n      <td>77</td>\n      <td>76</td>\n      <td>113</td>\n      <td>150000000</td>\n      <td>65723338</td>\n      <td>181030624</td>\n      <td>449326618</td>\n    </tr>\n    <tr>\n      <th>1</th>\n      <td>Captain America</td>\n      <td>7/22/2011</td>\n      <td>79</td>\n      <td>75</td>\n      <td>124</td>\n      <td>140000000</td>\n      <td>65058524</td>\n      <td>176654505</td>\n      <td>370569776</td>\n    </tr>\n    <tr>\n      <th>1</th>\n      <td>The Avengers</td>\n      <td>5/4/2012</td>\n      <td>91</td>\n      <td>91</td>\n      <td>143</td>\n      <td>225000000</td>\n      <td>207438708</td>\n      <td>623357910</td>\n      <td>1515100211</td>\n    </tr>\n    <tr>\n      <th>2</th>\n      <td>Iron Man 3</td>\n      <td>5/3/2013</td>\n      <td>79</td>\n      <td>78</td>\n      <td>130</td>\n      <td>200000000</td>\n      <td>174144585</td>\n      <td>408992272</td>\n      <td>1215392272</td>\n    </tr>\n    <tr>\n      <th>2</th>\n      <td>Thor: The Dark World</td>\n      <td>11/8/2013</td>\n      <td>66</td>\n      <td>75</td>\n      <td>111</td>\n      <td>150000000</td>\n      <td>85737841</td>\n      <td>206362140</td>\n      <td>644602516</td>\n    </tr>\n    <tr>\n      <th>2</th>\n      <td>The Winter Soldier</td>\n      <td>4/4/2014</td>\n      <td>90</td>\n      <td>92</td>\n      <td>135</td>\n      <td>170000000</td>\n      <td>95023721</td>\n      <td>259746958</td>\n      <td>714401889</td>\n    </tr>\n    <tr>\n      <th>2</th>\n      <td>Guardians of the Galaxy</td>\n      <td>8/1/2014</td>\n      <td>92</td>\n      <td>92</td>\n      <td>121</td>\n      <td>170000000</td>\n      <td>94320883</td>\n      <td>333714112</td>\n      <td>770882395</td>\n    </tr>\n    <tr>\n      <th>2</th>\n      <td>Age of Ultron</td>\n      <td>5/1/2015</td>\n      <td>76</td>\n      <td>83</td>\n      <td>141</td>\n      <td>365000000</td>\n      <td>191271109</td>\n      <td>459005868</td>\n      <td>1395316979</td>\n    </tr>\n    <tr>\n      <th>2</th>\n      <td>Ant-Man</td>\n      <td>7/17/2015</td>\n      <td>83</td>\n      <td>85</td>\n      <td>117</td>\n      <td>130000000</td>\n      <td>57225526</td>\n      <td>180202163</td>\n      <td>518858449</td>\n    </tr>\n    <tr>\n      <th>3</th>\n      <td>Civil War</td>\n      <td>5/6/2016</td>\n      <td>90</td>\n      <td>89</td>\n      <td>146</td>\n      <td>250000000</td>\n      <td>179139142</td>\n      <td>408084349</td>\n      <td>1151918521</td>\n    </tr>\n    <tr>\n      <th>3</th>\n      <td>Doctor Strange</td>\n      <td>11/4/2016</td>\n      <td>89</td>\n      <td>86</td>\n      <td>115</td>\n      <td>165000000</td>\n      <td>85058311</td>\n      <td>232641920</td>\n      <td>676354481</td>\n    </tr>\n    <tr>\n      <th>3</th>\n      <td>Guardians of the Galaxy Vol. 2</td>\n      <td>5/5/2017</td>\n      <td>85</td>\n      <td>87</td>\n      <td>135</td>\n      <td>200000000</td>\n      <td>146510104</td>\n      <td>389813101</td>\n      <td>869113101</td>\n    </tr>\n    <tr>\n      <th>3</th>\n      <td>Spider-Man: Homecoming</td>\n      <td>7/7/2017</td>\n      <td>92</td>\n      <td>87</td>\n      <td>133</td>\n      <td>175000000</td>\n      <td>117027503</td>\n      <td>334201140</td>\n      <td>878346440</td>\n    </tr>\n    <tr>\n      <th>3</th>\n      <td>Thor: Ragnarok</td>\n      <td>11/3/2017</td>\n      <td>93</td>\n      <td>87</td>\n      <td>130</td>\n      <td>180000000</td>\n      <td>122744989</td>\n      <td>315058289</td>\n      <td>850482778</td>\n    </tr>\n    <tr>\n      <th>3</th>\n      <td>Black Panther</td>\n      <td>2/16/2018</td>\n      <td>96</td>\n      <td>79</td>\n      <td>134</td>\n      <td>200000000</td>\n      <td>202003951</td>\n      <td>700059566</td>\n      <td>1336494321</td>\n    </tr>\n    <tr>\n      <th>3</th>\n      <td>Infinity War</td>\n      <td>4/27/2018</td>\n      <td>85</td>\n      <td>91</td>\n      <td>149</td>\n      <td>300000000</td>\n      <td>257698183</td>\n      <td>678815482</td>\n      <td>2048359754</td>\n    </tr>\n    <tr>\n      <th>3</th>\n      <td>Ant-Man and the Wasp</td>\n      <td>7/6/2018</td>\n      <td>87</td>\n      <td>81</td>\n      <td>118</td>\n      <td>130000000</td>\n      <td>75812205</td>\n      <td>216648740</td>\n      <td>623144660</td>\n    </tr>\n    <tr>\n      <th>3</th>\n      <td>Captain Marvel</td>\n      <td>3/8/2019</td>\n      <td>79</td>\n      <td>45</td>\n      <td>124</td>\n      <td>175000000</td>\n      <td>153433423</td>\n      <td>426829839</td>\n      <td>1129727388</td>\n    </tr>\n    <tr>\n      <th>3</th>\n      <td>Endgame</td>\n      <td>4/26/2019</td>\n      <td>94</td>\n      <td>90</td>\n      <td>181</td>\n      <td>400000000</td>\n      <td>357115007</td>\n      <td>858373000</td>\n      <td>2797800564</td>\n    </tr>\n    <tr>\n      <th>3</th>\n      <td>Spider-Man: Far From Home</td>\n      <td>7/2/2019</td>\n      <td>90</td>\n      <td>95</td>\n      <td>129</td>\n      <td>160000000</td>\n      <td>92579212</td>\n      <td>390532085</td>\n      <td>1132532832</td>\n    </tr>\n    <tr>\n      <th>4</th>\n      <td>Black Widow</td>\n      <td>7/9/2021</td>\n      <td>79</td>\n      <td>91</td>\n      <td>133</td>\n      <td>200000000</td>\n      <td>80366312</td>\n      <td>183651655</td>\n      <td>379751655</td>\n    </tr>\n    <tr>\n      <th>4</th>\n      <td>Shang-Chi</td>\n      <td>9/3/2021</td>\n      <td>91</td>\n      <td>98</td>\n      <td>133</td>\n      <td>150000000</td>\n      <td>75388688</td>\n      <td>224543292</td>\n      <td>432243292</td>\n    </tr>\n    <tr>\n      <th>4</th>\n      <td>Eternals</td>\n      <td>11/5/2021</td>\n      <td>47</td>\n      <td>78</td>\n      <td>157</td>\n      <td>200000000</td>\n      <td>71297219</td>\n      <td>164870264</td>\n      <td>402064929</td>\n    </tr>\n    <tr>\n      <th>4</th>\n      <td>Spider-Man: No Way Home</td>\n      <td>12/17/2021</td>\n      <td>93</td>\n      <td>98</td>\n      <td>148</td>\n      <td>200000000</td>\n      <td>260138569</td>\n      <td>803975784</td>\n      <td>1891108035</td>\n    </tr>\n  </tbody>\n</table>\n</div>"
     },
     "execution_count": 18,
     "metadata": {},
     "output_type": "execute_result"
    }
   ],
   "source": [
    "mcu = pd.DataFrame(pd.read_csv('./mcu_box_office.csv'))\n",
    "mcu.columns = ['Film', 'Phase', 'Release Date', 'Critical Reception', 'Audience Reception', 'Length', 'Budget', 'Opening Weekend Gross', 'Domestic Gross', 'Worldwide Gross']\n",
    "\n",
    "mcu.at[4,'Film']='Captain America'\n",
    "mcu.at[8,'Film']='The Winter Soldier'\n",
    "mcu.at[10,'Film']='Age of Ultron'\n",
    "mcu.at[12,'Film']='Civil War'\n",
    "mcu.at[18,'Film']='Infinity War'\n",
    "mcu.at[21,'Film']='Endgame'\n",
    "mcu.at[24,'Film']='Shang-Chi'\n",
    "\n",
    "mcu=mcu.set_index('Phase')\n",
    "\n",
    "mcu['Budget'] = mcu['Budget'].replace(',','', regex=True).astype('int')\n",
    "mcu['Opening Weekend Gross'] = mcu['Opening Weekend Gross'].replace(',','', regex=True).astype('int')\n",
    "mcu['Domestic Gross'] = mcu['Domestic Gross'].replace(',','', regex=True).astype('int')\n",
    "mcu['Worldwide Gross'] = mcu['Worldwide Gross'].replace(',','', regex=True).astype('int')\n",
    "\n",
    "mcu"
   ],
   "metadata": {
    "collapsed": false,
    "pycharm": {
     "name": "#%%\n"
    }
   }
  },
  {
   "cell_type": "code",
   "execution_count": 19,
   "outputs": [
    {
     "ename": "AttributeError",
     "evalue": "'Series' object has no attribute 'set_index'",
     "output_type": "error",
     "traceback": [
      "\u001B[0;31m---------------------------------------------------------------------------\u001B[0m",
      "\u001B[0;31mAttributeError\u001B[0m                            Traceback (most recent call last)",
      "\u001B[0;32m<ipython-input-19-371c010a4ce6>\u001B[0m in \u001B[0;36m<module>\u001B[0;34m\u001B[0m\n\u001B[1;32m      1\u001B[0m \u001B[0;32mfor\u001B[0m \u001B[0mx\u001B[0m \u001B[0;32min\u001B[0m \u001B[0mnp\u001B[0m\u001B[0;34m.\u001B[0m\u001B[0munique\u001B[0m\u001B[0;34m(\u001B[0m\u001B[0;34m[\u001B[0m\u001B[0mx\u001B[0m \u001B[0;32mfor\u001B[0m \u001B[0mx\u001B[0m \u001B[0;32min\u001B[0m \u001B[0mmcu\u001B[0m\u001B[0;34m.\u001B[0m\u001B[0mindex\u001B[0m\u001B[0;34m]\u001B[0m\u001B[0;34m)\u001B[0m\u001B[0;34m:\u001B[0m\u001B[0;34m\u001B[0m\u001B[0;34m\u001B[0m\u001B[0m\n\u001B[0;32m----> 2\u001B[0;31m     \u001B[0mrec\u001B[0m\u001B[0;34m(\u001B[0m\u001B[0mx\u001B[0m\u001B[0;34m)\u001B[0m\u001B[0;34m\u001B[0m\u001B[0;34m\u001B[0m\u001B[0m\n\u001B[0m",
      "\u001B[0;32m~/Documents/Datasets/MCU/mcu_functions.py\u001B[0m in \u001B[0;36mrec\u001B[0;34m(phase)\u001B[0m\n\u001B[1;32m      8\u001B[0m \u001B[0;34m\u001B[0m\u001B[0m\n\u001B[1;32m      9\u001B[0m \u001B[0;32mdef\u001B[0m \u001B[0mrec\u001B[0m\u001B[0;34m(\u001B[0m\u001B[0mphase\u001B[0m\u001B[0;34m)\u001B[0m\u001B[0;34m:\u001B[0m\u001B[0;34m\u001B[0m\u001B[0;34m\u001B[0m\u001B[0m\n\u001B[0;32m---> 10\u001B[0;31m     \u001B[0mx\u001B[0m \u001B[0;34m=\u001B[0m \u001B[0mmcu\u001B[0m\u001B[0;34m.\u001B[0m\u001B[0mloc\u001B[0m\u001B[0;34m[\u001B[0m\u001B[0mphase\u001B[0m\u001B[0;34m]\u001B[0m\u001B[0;34m.\u001B[0m\u001B[0mset_index\u001B[0m\u001B[0;34m(\u001B[0m\u001B[0;34m'Film'\u001B[0m\u001B[0;34m)\u001B[0m\u001B[0;34m\u001B[0m\u001B[0;34m\u001B[0m\u001B[0m\n\u001B[0m\u001B[1;32m     11\u001B[0m     \u001B[0mfilm\u001B[0m \u001B[0;34m=\u001B[0m \u001B[0mx\u001B[0m\u001B[0;34m.\u001B[0m\u001B[0mindex\u001B[0m\u001B[0;34m.\u001B[0m\u001B[0mvalues\u001B[0m\u001B[0;34m\u001B[0m\u001B[0;34m\u001B[0m\u001B[0m\n\u001B[1;32m     12\u001B[0m     \u001B[0mcrit\u001B[0m \u001B[0;34m=\u001B[0m \u001B[0mx\u001B[0m\u001B[0;34m[\u001B[0m\u001B[0;34m'Critical Reception'\u001B[0m\u001B[0;34m]\u001B[0m\u001B[0;34m\u001B[0m\u001B[0;34m\u001B[0m\u001B[0m\n",
      "\u001B[0;32m~/opt/anaconda3/lib/python3.8/site-packages/pandas/core/generic.py\u001B[0m in \u001B[0;36m__getattr__\u001B[0;34m(self, name)\u001B[0m\n\u001B[1;32m   5137\u001B[0m             \u001B[0;32mif\u001B[0m \u001B[0mself\u001B[0m\u001B[0;34m.\u001B[0m\u001B[0m_info_axis\u001B[0m\u001B[0;34m.\u001B[0m\u001B[0m_can_hold_identifiers_and_holds_name\u001B[0m\u001B[0;34m(\u001B[0m\u001B[0mname\u001B[0m\u001B[0;34m)\u001B[0m\u001B[0;34m:\u001B[0m\u001B[0;34m\u001B[0m\u001B[0;34m\u001B[0m\u001B[0m\n\u001B[1;32m   5138\u001B[0m                 \u001B[0;32mreturn\u001B[0m \u001B[0mself\u001B[0m\u001B[0;34m[\u001B[0m\u001B[0mname\u001B[0m\u001B[0;34m]\u001B[0m\u001B[0;34m\u001B[0m\u001B[0;34m\u001B[0m\u001B[0m\n\u001B[0;32m-> 5139\u001B[0;31m             \u001B[0;32mreturn\u001B[0m \u001B[0mobject\u001B[0m\u001B[0;34m.\u001B[0m\u001B[0m__getattribute__\u001B[0m\u001B[0;34m(\u001B[0m\u001B[0mself\u001B[0m\u001B[0;34m,\u001B[0m \u001B[0mname\u001B[0m\u001B[0;34m)\u001B[0m\u001B[0;34m\u001B[0m\u001B[0;34m\u001B[0m\u001B[0m\n\u001B[0m\u001B[1;32m   5140\u001B[0m \u001B[0;34m\u001B[0m\u001B[0m\n\u001B[1;32m   5141\u001B[0m     \u001B[0;32mdef\u001B[0m \u001B[0m__setattr__\u001B[0m\u001B[0;34m(\u001B[0m\u001B[0mself\u001B[0m\u001B[0;34m,\u001B[0m \u001B[0mname\u001B[0m\u001B[0;34m:\u001B[0m \u001B[0mstr\u001B[0m\u001B[0;34m,\u001B[0m \u001B[0mvalue\u001B[0m\u001B[0;34m)\u001B[0m \u001B[0;34m->\u001B[0m \u001B[0;32mNone\u001B[0m\u001B[0;34m:\u001B[0m\u001B[0;34m\u001B[0m\u001B[0;34m\u001B[0m\u001B[0m\n",
      "\u001B[0;31mAttributeError\u001B[0m: 'Series' object has no attribute 'set_index'"
     ]
    }
   ],
   "source": [
    "for x in np.unique([x for x in mcu.index]):\n",
    "    rec(x)"
   ],
   "metadata": {
    "collapsed": false,
    "pycharm": {
     "name": "#%%\n"
    }
   }
  },
  {
   "cell_type": "markdown",
   "metadata": {
    "pycharm": {
     "name": "#%% md\n"
    }
   },
   "source": [
    "Reading the data"
   ]
  },
  {
   "cell_type": "code",
   "execution_count": 2,
   "metadata": {
    "pycharm": {
     "name": "#%%\n"
    }
   },
   "outputs": [
    {
     "data": {
      "text/plain": "                                  movie_title  mcu_phase release_date  \\\n0                                    Iron Man          1     5/2/2008   \n1                         The Incredible Hulk          1    6/13/2008   \n2                                  Iron Man 2          1     5/7/2010   \n3                                        Thor          1     5/6/2011   \n4          Captain America: The First Avenger          1    7/22/2011   \n5                                The Avengers          1     5/4/2012   \n6                                  Iron Man 3          2     5/3/2013   \n7                        Thor: The Dark World          2    11/8/2013   \n8         Captain America: The Winter Soldier          2     4/4/2014   \n9                     Guardians of the Galaxy          2     8/1/2014   \n10                    Avengers: Age of Ultron          2     5/1/2015   \n11                                    Ant-Man          2    7/17/2015   \n12                 Captain America: Civil War          3     5/6/2016   \n13                             Doctor Strange          3    11/4/2016   \n14             Guardians of the Galaxy Vol. 2          3     5/5/2017   \n15                     Spider-Man: Homecoming          3     7/7/2017   \n16                             Thor: Ragnarok          3    11/3/2017   \n17                              Black Panther          3    2/16/2018   \n18                     Avengers: Infinity War          3    4/27/2018   \n19                       Ant-Man and the Wasp          3     7/6/2018   \n20                             Captain Marvel          3     3/8/2019   \n21                         Avengers: End Game          3    4/26/2019   \n22                  Spider-Man: Far From Home          3     7/2/2019   \n23                                Black Widow          4     7/9/2021   \n24  Shang-Chi and the Legend of the Ten Rings          4     9/3/2021   \n25                                   Eternals          4    11/5/2021   \n26                    Spider-Man: No Way Home          4   12/17/2021   \n\n    tomato_meter  audience_score  movie_duration production_budget  \\\n0             94              91             126       186,000,000   \n1             67              70             112       137,500,000   \n2             72              71             124       170,000,000   \n3             77              76             113       150,000,000   \n4             79              75             124       140,000,000   \n5             91              91             143       225,000,000   \n6             79              78             130       200,000,000   \n7             66              75             111       150,000,000   \n8             90              92             135       170,000,000   \n9             92              92             121       170,000,000   \n10            76              83             141       365,000,000   \n11            83              85             117       130,000,000   \n12            90              89             146       250,000,000   \n13            89              86             115       165,000,000   \n14            85              87             135       200,000,000   \n15            92              87             133       175,000,000   \n16            93              87             130       180,000,000   \n17            96              79             134       200,000,000   \n18            85              91             149       300,000,000   \n19            87              81             118       130,000,000   \n20            79              45             124       175,000,000   \n21            94              90             181       400,000,000   \n22            90              95             129       160,000,000   \n23            79              91             133       200,000,000   \n24            91              98             133       150,000,000   \n25            47              78             157       200,000,000   \n26            93              98             148       200,000,000   \n\n   opening_weekend domestic_box_office worldwide_box_office  \n0      102,118,668         318,604,126          585,171,547  \n1       55,414,050         134,806,913          265,573,859  \n2      128,122,480         312,433,331          621,156,389  \n3       65,723,338         181,030,624          449,326,618  \n4       65,058,524         176,654,505          370,569,776  \n5      207,438,708         623,357,910        1,515,100,211  \n6      174,144,585         408,992,272        1,215,392,272  \n7       85,737,841         206,362,140          644,602,516  \n8       95,023,721         259,746,958          714,401,889  \n9       94,320,883         333,714,112          770,882,395  \n10     191,271,109         459,005,868        1,395,316,979  \n11      57,225,526         180,202,163          518,858,449  \n12     179,139,142         408,084,349        1,151,918,521  \n13      85,058,311         232,641,920          676,354,481  \n14     146,510,104         389,813,101          869,113,101  \n15     117,027,503         334,201,140          878,346,440  \n16     122,744,989         315,058,289          850,482,778  \n17     202,003,951         700,059,566        1,336,494,321  \n18     257,698,183         678,815,482        2,048,359,754  \n19      75,812,205         216,648,740          623,144,660  \n20     153,433,423         426,829,839        1,129,727,388  \n21     357,115,007         858,373,000        2,797,800,564  \n22      92,579,212         390,532,085        1,132,532,832  \n23      80,366,312         183,651,655          379,751,655  \n24      75,388,688         224,543,292          432,243,292  \n25      71,297,219         164,870,264          402,064,929  \n26     260,138,569         803,975,784        1,891,108,035  ",
      "text/html": "<div>\n<style scoped>\n    .dataframe tbody tr th:only-of-type {\n        vertical-align: middle;\n    }\n\n    .dataframe tbody tr th {\n        vertical-align: top;\n    }\n\n    .dataframe thead th {\n        text-align: right;\n    }\n</style>\n<table border=\"1\" class=\"dataframe\">\n  <thead>\n    <tr style=\"text-align: right;\">\n      <th></th>\n      <th>movie_title</th>\n      <th>mcu_phase</th>\n      <th>release_date</th>\n      <th>tomato_meter</th>\n      <th>audience_score</th>\n      <th>movie_duration</th>\n      <th>production_budget</th>\n      <th>opening_weekend</th>\n      <th>domestic_box_office</th>\n      <th>worldwide_box_office</th>\n    </tr>\n  </thead>\n  <tbody>\n    <tr>\n      <th>0</th>\n      <td>Iron Man</td>\n      <td>1</td>\n      <td>5/2/2008</td>\n      <td>94</td>\n      <td>91</td>\n      <td>126</td>\n      <td>186,000,000</td>\n      <td>102,118,668</td>\n      <td>318,604,126</td>\n      <td>585,171,547</td>\n    </tr>\n    <tr>\n      <th>1</th>\n      <td>The Incredible Hulk</td>\n      <td>1</td>\n      <td>6/13/2008</td>\n      <td>67</td>\n      <td>70</td>\n      <td>112</td>\n      <td>137,500,000</td>\n      <td>55,414,050</td>\n      <td>134,806,913</td>\n      <td>265,573,859</td>\n    </tr>\n    <tr>\n      <th>2</th>\n      <td>Iron Man 2</td>\n      <td>1</td>\n      <td>5/7/2010</td>\n      <td>72</td>\n      <td>71</td>\n      <td>124</td>\n      <td>170,000,000</td>\n      <td>128,122,480</td>\n      <td>312,433,331</td>\n      <td>621,156,389</td>\n    </tr>\n    <tr>\n      <th>3</th>\n      <td>Thor</td>\n      <td>1</td>\n      <td>5/6/2011</td>\n      <td>77</td>\n      <td>76</td>\n      <td>113</td>\n      <td>150,000,000</td>\n      <td>65,723,338</td>\n      <td>181,030,624</td>\n      <td>449,326,618</td>\n    </tr>\n    <tr>\n      <th>4</th>\n      <td>Captain America: The First Avenger</td>\n      <td>1</td>\n      <td>7/22/2011</td>\n      <td>79</td>\n      <td>75</td>\n      <td>124</td>\n      <td>140,000,000</td>\n      <td>65,058,524</td>\n      <td>176,654,505</td>\n      <td>370,569,776</td>\n    </tr>\n    <tr>\n      <th>5</th>\n      <td>The Avengers</td>\n      <td>1</td>\n      <td>5/4/2012</td>\n      <td>91</td>\n      <td>91</td>\n      <td>143</td>\n      <td>225,000,000</td>\n      <td>207,438,708</td>\n      <td>623,357,910</td>\n      <td>1,515,100,211</td>\n    </tr>\n    <tr>\n      <th>6</th>\n      <td>Iron Man 3</td>\n      <td>2</td>\n      <td>5/3/2013</td>\n      <td>79</td>\n      <td>78</td>\n      <td>130</td>\n      <td>200,000,000</td>\n      <td>174,144,585</td>\n      <td>408,992,272</td>\n      <td>1,215,392,272</td>\n    </tr>\n    <tr>\n      <th>7</th>\n      <td>Thor: The Dark World</td>\n      <td>2</td>\n      <td>11/8/2013</td>\n      <td>66</td>\n      <td>75</td>\n      <td>111</td>\n      <td>150,000,000</td>\n      <td>85,737,841</td>\n      <td>206,362,140</td>\n      <td>644,602,516</td>\n    </tr>\n    <tr>\n      <th>8</th>\n      <td>Captain America: The Winter Soldier</td>\n      <td>2</td>\n      <td>4/4/2014</td>\n      <td>90</td>\n      <td>92</td>\n      <td>135</td>\n      <td>170,000,000</td>\n      <td>95,023,721</td>\n      <td>259,746,958</td>\n      <td>714,401,889</td>\n    </tr>\n    <tr>\n      <th>9</th>\n      <td>Guardians of the Galaxy</td>\n      <td>2</td>\n      <td>8/1/2014</td>\n      <td>92</td>\n      <td>92</td>\n      <td>121</td>\n      <td>170,000,000</td>\n      <td>94,320,883</td>\n      <td>333,714,112</td>\n      <td>770,882,395</td>\n    </tr>\n    <tr>\n      <th>10</th>\n      <td>Avengers: Age of Ultron</td>\n      <td>2</td>\n      <td>5/1/2015</td>\n      <td>76</td>\n      <td>83</td>\n      <td>141</td>\n      <td>365,000,000</td>\n      <td>191,271,109</td>\n      <td>459,005,868</td>\n      <td>1,395,316,979</td>\n    </tr>\n    <tr>\n      <th>11</th>\n      <td>Ant-Man</td>\n      <td>2</td>\n      <td>7/17/2015</td>\n      <td>83</td>\n      <td>85</td>\n      <td>117</td>\n      <td>130,000,000</td>\n      <td>57,225,526</td>\n      <td>180,202,163</td>\n      <td>518,858,449</td>\n    </tr>\n    <tr>\n      <th>12</th>\n      <td>Captain America: Civil War</td>\n      <td>3</td>\n      <td>5/6/2016</td>\n      <td>90</td>\n      <td>89</td>\n      <td>146</td>\n      <td>250,000,000</td>\n      <td>179,139,142</td>\n      <td>408,084,349</td>\n      <td>1,151,918,521</td>\n    </tr>\n    <tr>\n      <th>13</th>\n      <td>Doctor Strange</td>\n      <td>3</td>\n      <td>11/4/2016</td>\n      <td>89</td>\n      <td>86</td>\n      <td>115</td>\n      <td>165,000,000</td>\n      <td>85,058,311</td>\n      <td>232,641,920</td>\n      <td>676,354,481</td>\n    </tr>\n    <tr>\n      <th>14</th>\n      <td>Guardians of the Galaxy Vol. 2</td>\n      <td>3</td>\n      <td>5/5/2017</td>\n      <td>85</td>\n      <td>87</td>\n      <td>135</td>\n      <td>200,000,000</td>\n      <td>146,510,104</td>\n      <td>389,813,101</td>\n      <td>869,113,101</td>\n    </tr>\n    <tr>\n      <th>15</th>\n      <td>Spider-Man: Homecoming</td>\n      <td>3</td>\n      <td>7/7/2017</td>\n      <td>92</td>\n      <td>87</td>\n      <td>133</td>\n      <td>175,000,000</td>\n      <td>117,027,503</td>\n      <td>334,201,140</td>\n      <td>878,346,440</td>\n    </tr>\n    <tr>\n      <th>16</th>\n      <td>Thor: Ragnarok</td>\n      <td>3</td>\n      <td>11/3/2017</td>\n      <td>93</td>\n      <td>87</td>\n      <td>130</td>\n      <td>180,000,000</td>\n      <td>122,744,989</td>\n      <td>315,058,289</td>\n      <td>850,482,778</td>\n    </tr>\n    <tr>\n      <th>17</th>\n      <td>Black Panther</td>\n      <td>3</td>\n      <td>2/16/2018</td>\n      <td>96</td>\n      <td>79</td>\n      <td>134</td>\n      <td>200,000,000</td>\n      <td>202,003,951</td>\n      <td>700,059,566</td>\n      <td>1,336,494,321</td>\n    </tr>\n    <tr>\n      <th>18</th>\n      <td>Avengers: Infinity War</td>\n      <td>3</td>\n      <td>4/27/2018</td>\n      <td>85</td>\n      <td>91</td>\n      <td>149</td>\n      <td>300,000,000</td>\n      <td>257,698,183</td>\n      <td>678,815,482</td>\n      <td>2,048,359,754</td>\n    </tr>\n    <tr>\n      <th>19</th>\n      <td>Ant-Man and the Wasp</td>\n      <td>3</td>\n      <td>7/6/2018</td>\n      <td>87</td>\n      <td>81</td>\n      <td>118</td>\n      <td>130,000,000</td>\n      <td>75,812,205</td>\n      <td>216,648,740</td>\n      <td>623,144,660</td>\n    </tr>\n    <tr>\n      <th>20</th>\n      <td>Captain Marvel</td>\n      <td>3</td>\n      <td>3/8/2019</td>\n      <td>79</td>\n      <td>45</td>\n      <td>124</td>\n      <td>175,000,000</td>\n      <td>153,433,423</td>\n      <td>426,829,839</td>\n      <td>1,129,727,388</td>\n    </tr>\n    <tr>\n      <th>21</th>\n      <td>Avengers: End Game</td>\n      <td>3</td>\n      <td>4/26/2019</td>\n      <td>94</td>\n      <td>90</td>\n      <td>181</td>\n      <td>400,000,000</td>\n      <td>357,115,007</td>\n      <td>858,373,000</td>\n      <td>2,797,800,564</td>\n    </tr>\n    <tr>\n      <th>22</th>\n      <td>Spider-Man: Far From Home</td>\n      <td>3</td>\n      <td>7/2/2019</td>\n      <td>90</td>\n      <td>95</td>\n      <td>129</td>\n      <td>160,000,000</td>\n      <td>92,579,212</td>\n      <td>390,532,085</td>\n      <td>1,132,532,832</td>\n    </tr>\n    <tr>\n      <th>23</th>\n      <td>Black Widow</td>\n      <td>4</td>\n      <td>7/9/2021</td>\n      <td>79</td>\n      <td>91</td>\n      <td>133</td>\n      <td>200,000,000</td>\n      <td>80,366,312</td>\n      <td>183,651,655</td>\n      <td>379,751,655</td>\n    </tr>\n    <tr>\n      <th>24</th>\n      <td>Shang-Chi and the Legend of the Ten Rings</td>\n      <td>4</td>\n      <td>9/3/2021</td>\n      <td>91</td>\n      <td>98</td>\n      <td>133</td>\n      <td>150,000,000</td>\n      <td>75,388,688</td>\n      <td>224,543,292</td>\n      <td>432,243,292</td>\n    </tr>\n    <tr>\n      <th>25</th>\n      <td>Eternals</td>\n      <td>4</td>\n      <td>11/5/2021</td>\n      <td>47</td>\n      <td>78</td>\n      <td>157</td>\n      <td>200,000,000</td>\n      <td>71,297,219</td>\n      <td>164,870,264</td>\n      <td>402,064,929</td>\n    </tr>\n    <tr>\n      <th>26</th>\n      <td>Spider-Man: No Way Home</td>\n      <td>4</td>\n      <td>12/17/2021</td>\n      <td>93</td>\n      <td>98</td>\n      <td>148</td>\n      <td>200,000,000</td>\n      <td>260,138,569</td>\n      <td>803,975,784</td>\n      <td>1,891,108,035</td>\n    </tr>\n  </tbody>\n</table>\n</div>"
     },
     "execution_count": 2,
     "metadata": {},
     "output_type": "execute_result"
    }
   ],
   "source": [
    "mcu = pd.DataFrame(pd.read_csv(\"./mcu_box_office.csv\"))\n",
    "mcu"
   ]
  },
  {
   "cell_type": "markdown",
   "metadata": {
    "pycharm": {
     "name": "#%% md\n"
    }
   },
   "source": [
    "Rename columns"
   ]
  },
  {
   "cell_type": "code",
   "execution_count": 3,
   "metadata": {
    "pycharm": {
     "name": "#%%\n"
    }
   },
   "outputs": [
    {
     "data": {
      "text/plain": "                                         Film  Phase Release Date  \\\n0                                    Iron Man      1     5/2/2008   \n1                         The Incredible Hulk      1    6/13/2008   \n2                                  Iron Man 2      1     5/7/2010   \n3                                        Thor      1     5/6/2011   \n4          Captain America: The First Avenger      1    7/22/2011   \n5                                The Avengers      1     5/4/2012   \n6                                  Iron Man 3      2     5/3/2013   \n7                        Thor: The Dark World      2    11/8/2013   \n8         Captain America: The Winter Soldier      2     4/4/2014   \n9                     Guardians of the Galaxy      2     8/1/2014   \n10                    Avengers: Age of Ultron      2     5/1/2015   \n11                                    Ant-Man      2    7/17/2015   \n12                 Captain America: Civil War      3     5/6/2016   \n13                             Doctor Strange      3    11/4/2016   \n14             Guardians of the Galaxy Vol. 2      3     5/5/2017   \n15                     Spider-Man: Homecoming      3     7/7/2017   \n16                             Thor: Ragnarok      3    11/3/2017   \n17                              Black Panther      3    2/16/2018   \n18                     Avengers: Infinity War      3    4/27/2018   \n19                       Ant-Man and the Wasp      3     7/6/2018   \n20                             Captain Marvel      3     3/8/2019   \n21                         Avengers: End Game      3    4/26/2019   \n22                  Spider-Man: Far From Home      3     7/2/2019   \n23                                Black Widow      4     7/9/2021   \n24  Shang-Chi and the Legend of the Ten Rings      4     9/3/2021   \n25                                   Eternals      4    11/5/2021   \n26                    Spider-Man: No Way Home      4   12/17/2021   \n\n    Critical Reception  Audience Reception  Length       Budget  \\\n0                   94                  91     126  186,000,000   \n1                   67                  70     112  137,500,000   \n2                   72                  71     124  170,000,000   \n3                   77                  76     113  150,000,000   \n4                   79                  75     124  140,000,000   \n5                   91                  91     143  225,000,000   \n6                   79                  78     130  200,000,000   \n7                   66                  75     111  150,000,000   \n8                   90                  92     135  170,000,000   \n9                   92                  92     121  170,000,000   \n10                  76                  83     141  365,000,000   \n11                  83                  85     117  130,000,000   \n12                  90                  89     146  250,000,000   \n13                  89                  86     115  165,000,000   \n14                  85                  87     135  200,000,000   \n15                  92                  87     133  175,000,000   \n16                  93                  87     130  180,000,000   \n17                  96                  79     134  200,000,000   \n18                  85                  91     149  300,000,000   \n19                  87                  81     118  130,000,000   \n20                  79                  45     124  175,000,000   \n21                  94                  90     181  400,000,000   \n22                  90                  95     129  160,000,000   \n23                  79                  91     133  200,000,000   \n24                  91                  98     133  150,000,000   \n25                  47                  78     157  200,000,000   \n26                  93                  98     148  200,000,000   \n\n   Opening Weekend Gross Domestic Gross Worldwide Gross  \n0            102,118,668    318,604,126     585,171,547  \n1             55,414,050    134,806,913     265,573,859  \n2            128,122,480    312,433,331     621,156,389  \n3             65,723,338    181,030,624     449,326,618  \n4             65,058,524    176,654,505     370,569,776  \n5            207,438,708    623,357,910   1,515,100,211  \n6            174,144,585    408,992,272   1,215,392,272  \n7             85,737,841    206,362,140     644,602,516  \n8             95,023,721    259,746,958     714,401,889  \n9             94,320,883    333,714,112     770,882,395  \n10           191,271,109    459,005,868   1,395,316,979  \n11            57,225,526    180,202,163     518,858,449  \n12           179,139,142    408,084,349   1,151,918,521  \n13            85,058,311    232,641,920     676,354,481  \n14           146,510,104    389,813,101     869,113,101  \n15           117,027,503    334,201,140     878,346,440  \n16           122,744,989    315,058,289     850,482,778  \n17           202,003,951    700,059,566   1,336,494,321  \n18           257,698,183    678,815,482   2,048,359,754  \n19            75,812,205    216,648,740     623,144,660  \n20           153,433,423    426,829,839   1,129,727,388  \n21           357,115,007    858,373,000   2,797,800,564  \n22            92,579,212    390,532,085   1,132,532,832  \n23            80,366,312    183,651,655     379,751,655  \n24            75,388,688    224,543,292     432,243,292  \n25            71,297,219    164,870,264     402,064,929  \n26           260,138,569    803,975,784   1,891,108,035  ",
      "text/html": "<div>\n<style scoped>\n    .dataframe tbody tr th:only-of-type {\n        vertical-align: middle;\n    }\n\n    .dataframe tbody tr th {\n        vertical-align: top;\n    }\n\n    .dataframe thead th {\n        text-align: right;\n    }\n</style>\n<table border=\"1\" class=\"dataframe\">\n  <thead>\n    <tr style=\"text-align: right;\">\n      <th></th>\n      <th>Film</th>\n      <th>Phase</th>\n      <th>Release Date</th>\n      <th>Critical Reception</th>\n      <th>Audience Reception</th>\n      <th>Length</th>\n      <th>Budget</th>\n      <th>Opening Weekend Gross</th>\n      <th>Domestic Gross</th>\n      <th>Worldwide Gross</th>\n    </tr>\n  </thead>\n  <tbody>\n    <tr>\n      <th>0</th>\n      <td>Iron Man</td>\n      <td>1</td>\n      <td>5/2/2008</td>\n      <td>94</td>\n      <td>91</td>\n      <td>126</td>\n      <td>186,000,000</td>\n      <td>102,118,668</td>\n      <td>318,604,126</td>\n      <td>585,171,547</td>\n    </tr>\n    <tr>\n      <th>1</th>\n      <td>The Incredible Hulk</td>\n      <td>1</td>\n      <td>6/13/2008</td>\n      <td>67</td>\n      <td>70</td>\n      <td>112</td>\n      <td>137,500,000</td>\n      <td>55,414,050</td>\n      <td>134,806,913</td>\n      <td>265,573,859</td>\n    </tr>\n    <tr>\n      <th>2</th>\n      <td>Iron Man 2</td>\n      <td>1</td>\n      <td>5/7/2010</td>\n      <td>72</td>\n      <td>71</td>\n      <td>124</td>\n      <td>170,000,000</td>\n      <td>128,122,480</td>\n      <td>312,433,331</td>\n      <td>621,156,389</td>\n    </tr>\n    <tr>\n      <th>3</th>\n      <td>Thor</td>\n      <td>1</td>\n      <td>5/6/2011</td>\n      <td>77</td>\n      <td>76</td>\n      <td>113</td>\n      <td>150,000,000</td>\n      <td>65,723,338</td>\n      <td>181,030,624</td>\n      <td>449,326,618</td>\n    </tr>\n    <tr>\n      <th>4</th>\n      <td>Captain America: The First Avenger</td>\n      <td>1</td>\n      <td>7/22/2011</td>\n      <td>79</td>\n      <td>75</td>\n      <td>124</td>\n      <td>140,000,000</td>\n      <td>65,058,524</td>\n      <td>176,654,505</td>\n      <td>370,569,776</td>\n    </tr>\n    <tr>\n      <th>5</th>\n      <td>The Avengers</td>\n      <td>1</td>\n      <td>5/4/2012</td>\n      <td>91</td>\n      <td>91</td>\n      <td>143</td>\n      <td>225,000,000</td>\n      <td>207,438,708</td>\n      <td>623,357,910</td>\n      <td>1,515,100,211</td>\n    </tr>\n    <tr>\n      <th>6</th>\n      <td>Iron Man 3</td>\n      <td>2</td>\n      <td>5/3/2013</td>\n      <td>79</td>\n      <td>78</td>\n      <td>130</td>\n      <td>200,000,000</td>\n      <td>174,144,585</td>\n      <td>408,992,272</td>\n      <td>1,215,392,272</td>\n    </tr>\n    <tr>\n      <th>7</th>\n      <td>Thor: The Dark World</td>\n      <td>2</td>\n      <td>11/8/2013</td>\n      <td>66</td>\n      <td>75</td>\n      <td>111</td>\n      <td>150,000,000</td>\n      <td>85,737,841</td>\n      <td>206,362,140</td>\n      <td>644,602,516</td>\n    </tr>\n    <tr>\n      <th>8</th>\n      <td>Captain America: The Winter Soldier</td>\n      <td>2</td>\n      <td>4/4/2014</td>\n      <td>90</td>\n      <td>92</td>\n      <td>135</td>\n      <td>170,000,000</td>\n      <td>95,023,721</td>\n      <td>259,746,958</td>\n      <td>714,401,889</td>\n    </tr>\n    <tr>\n      <th>9</th>\n      <td>Guardians of the Galaxy</td>\n      <td>2</td>\n      <td>8/1/2014</td>\n      <td>92</td>\n      <td>92</td>\n      <td>121</td>\n      <td>170,000,000</td>\n      <td>94,320,883</td>\n      <td>333,714,112</td>\n      <td>770,882,395</td>\n    </tr>\n    <tr>\n      <th>10</th>\n      <td>Avengers: Age of Ultron</td>\n      <td>2</td>\n      <td>5/1/2015</td>\n      <td>76</td>\n      <td>83</td>\n      <td>141</td>\n      <td>365,000,000</td>\n      <td>191,271,109</td>\n      <td>459,005,868</td>\n      <td>1,395,316,979</td>\n    </tr>\n    <tr>\n      <th>11</th>\n      <td>Ant-Man</td>\n      <td>2</td>\n      <td>7/17/2015</td>\n      <td>83</td>\n      <td>85</td>\n      <td>117</td>\n      <td>130,000,000</td>\n      <td>57,225,526</td>\n      <td>180,202,163</td>\n      <td>518,858,449</td>\n    </tr>\n    <tr>\n      <th>12</th>\n      <td>Captain America: Civil War</td>\n      <td>3</td>\n      <td>5/6/2016</td>\n      <td>90</td>\n      <td>89</td>\n      <td>146</td>\n      <td>250,000,000</td>\n      <td>179,139,142</td>\n      <td>408,084,349</td>\n      <td>1,151,918,521</td>\n    </tr>\n    <tr>\n      <th>13</th>\n      <td>Doctor Strange</td>\n      <td>3</td>\n      <td>11/4/2016</td>\n      <td>89</td>\n      <td>86</td>\n      <td>115</td>\n      <td>165,000,000</td>\n      <td>85,058,311</td>\n      <td>232,641,920</td>\n      <td>676,354,481</td>\n    </tr>\n    <tr>\n      <th>14</th>\n      <td>Guardians of the Galaxy Vol. 2</td>\n      <td>3</td>\n      <td>5/5/2017</td>\n      <td>85</td>\n      <td>87</td>\n      <td>135</td>\n      <td>200,000,000</td>\n      <td>146,510,104</td>\n      <td>389,813,101</td>\n      <td>869,113,101</td>\n    </tr>\n    <tr>\n      <th>15</th>\n      <td>Spider-Man: Homecoming</td>\n      <td>3</td>\n      <td>7/7/2017</td>\n      <td>92</td>\n      <td>87</td>\n      <td>133</td>\n      <td>175,000,000</td>\n      <td>117,027,503</td>\n      <td>334,201,140</td>\n      <td>878,346,440</td>\n    </tr>\n    <tr>\n      <th>16</th>\n      <td>Thor: Ragnarok</td>\n      <td>3</td>\n      <td>11/3/2017</td>\n      <td>93</td>\n      <td>87</td>\n      <td>130</td>\n      <td>180,000,000</td>\n      <td>122,744,989</td>\n      <td>315,058,289</td>\n      <td>850,482,778</td>\n    </tr>\n    <tr>\n      <th>17</th>\n      <td>Black Panther</td>\n      <td>3</td>\n      <td>2/16/2018</td>\n      <td>96</td>\n      <td>79</td>\n      <td>134</td>\n      <td>200,000,000</td>\n      <td>202,003,951</td>\n      <td>700,059,566</td>\n      <td>1,336,494,321</td>\n    </tr>\n    <tr>\n      <th>18</th>\n      <td>Avengers: Infinity War</td>\n      <td>3</td>\n      <td>4/27/2018</td>\n      <td>85</td>\n      <td>91</td>\n      <td>149</td>\n      <td>300,000,000</td>\n      <td>257,698,183</td>\n      <td>678,815,482</td>\n      <td>2,048,359,754</td>\n    </tr>\n    <tr>\n      <th>19</th>\n      <td>Ant-Man and the Wasp</td>\n      <td>3</td>\n      <td>7/6/2018</td>\n      <td>87</td>\n      <td>81</td>\n      <td>118</td>\n      <td>130,000,000</td>\n      <td>75,812,205</td>\n      <td>216,648,740</td>\n      <td>623,144,660</td>\n    </tr>\n    <tr>\n      <th>20</th>\n      <td>Captain Marvel</td>\n      <td>3</td>\n      <td>3/8/2019</td>\n      <td>79</td>\n      <td>45</td>\n      <td>124</td>\n      <td>175,000,000</td>\n      <td>153,433,423</td>\n      <td>426,829,839</td>\n      <td>1,129,727,388</td>\n    </tr>\n    <tr>\n      <th>21</th>\n      <td>Avengers: End Game</td>\n      <td>3</td>\n      <td>4/26/2019</td>\n      <td>94</td>\n      <td>90</td>\n      <td>181</td>\n      <td>400,000,000</td>\n      <td>357,115,007</td>\n      <td>858,373,000</td>\n      <td>2,797,800,564</td>\n    </tr>\n    <tr>\n      <th>22</th>\n      <td>Spider-Man: Far From Home</td>\n      <td>3</td>\n      <td>7/2/2019</td>\n      <td>90</td>\n      <td>95</td>\n      <td>129</td>\n      <td>160,000,000</td>\n      <td>92,579,212</td>\n      <td>390,532,085</td>\n      <td>1,132,532,832</td>\n    </tr>\n    <tr>\n      <th>23</th>\n      <td>Black Widow</td>\n      <td>4</td>\n      <td>7/9/2021</td>\n      <td>79</td>\n      <td>91</td>\n      <td>133</td>\n      <td>200,000,000</td>\n      <td>80,366,312</td>\n      <td>183,651,655</td>\n      <td>379,751,655</td>\n    </tr>\n    <tr>\n      <th>24</th>\n      <td>Shang-Chi and the Legend of the Ten Rings</td>\n      <td>4</td>\n      <td>9/3/2021</td>\n      <td>91</td>\n      <td>98</td>\n      <td>133</td>\n      <td>150,000,000</td>\n      <td>75,388,688</td>\n      <td>224,543,292</td>\n      <td>432,243,292</td>\n    </tr>\n    <tr>\n      <th>25</th>\n      <td>Eternals</td>\n      <td>4</td>\n      <td>11/5/2021</td>\n      <td>47</td>\n      <td>78</td>\n      <td>157</td>\n      <td>200,000,000</td>\n      <td>71,297,219</td>\n      <td>164,870,264</td>\n      <td>402,064,929</td>\n    </tr>\n    <tr>\n      <th>26</th>\n      <td>Spider-Man: No Way Home</td>\n      <td>4</td>\n      <td>12/17/2021</td>\n      <td>93</td>\n      <td>98</td>\n      <td>148</td>\n      <td>200,000,000</td>\n      <td>260,138,569</td>\n      <td>803,975,784</td>\n      <td>1,891,108,035</td>\n    </tr>\n  </tbody>\n</table>\n</div>"
     },
     "execution_count": 3,
     "metadata": {},
     "output_type": "execute_result"
    }
   ],
   "source": [
    "mcu.columns = ['Film', 'Phase', 'Release Date', 'Critical Reception', 'Audience Reception', 'Length', 'Budget', 'Opening Weekend Gross', 'Domestic Gross', 'Worldwide Gross']\n",
    "mcu"
   ]
  },
  {
   "cell_type": "markdown",
   "metadata": {
    "pycharm": {
     "name": "#%% md\n"
    }
   },
   "source": [
    "Shortening some of the longer titles"
   ]
  },
  {
   "cell_type": "code",
   "execution_count": 4,
   "metadata": {
    "pycharm": {
     "name": "#%%\n"
    }
   },
   "outputs": [],
   "source": [
    "mcu.at[4,'Film']='Captain America'\n",
    "mcu.at[8,'Film']='The Winter Soldier'\n",
    "mcu.at[10,'Film']='Age of Ultron'\n",
    "mcu.at[12,'Film']='Civil War'\n",
    "mcu.at[18,'Film']='Infinity War'\n",
    "mcu.at[21,'Film']='Endgame'\n",
    "mcu.at[24,'Film']='Shang-Chi'"
   ]
  },
  {
   "cell_type": "markdown",
   "metadata": {
    "pycharm": {
     "name": "#%% md\n"
    }
   },
   "source": [
    "Setting the index as the Film column"
   ]
  },
  {
   "cell_type": "code",
   "execution_count": 5,
   "metadata": {
    "pycharm": {
     "name": "#%%\n"
    }
   },
   "outputs": [
    {
     "data": {
      "text/plain": "                                 Film Release Date  Critical Reception  \\\nPhase                                                                    \n1                            Iron Man     5/2/2008                  94   \n1                 The Incredible Hulk    6/13/2008                  67   \n1                          Iron Man 2     5/7/2010                  72   \n1                                Thor     5/6/2011                  77   \n1                     Captain America    7/22/2011                  79   \n1                        The Avengers     5/4/2012                  91   \n2                          Iron Man 3     5/3/2013                  79   \n2                Thor: The Dark World    11/8/2013                  66   \n2                  The Winter Soldier     4/4/2014                  90   \n2             Guardians of the Galaxy     8/1/2014                  92   \n2                       Age of Ultron     5/1/2015                  76   \n2                             Ant-Man    7/17/2015                  83   \n3                           Civil War     5/6/2016                  90   \n3                      Doctor Strange    11/4/2016                  89   \n3      Guardians of the Galaxy Vol. 2     5/5/2017                  85   \n3              Spider-Man: Homecoming     7/7/2017                  92   \n3                      Thor: Ragnarok    11/3/2017                  93   \n3                       Black Panther    2/16/2018                  96   \n3                        Infinity War    4/27/2018                  85   \n3                Ant-Man and the Wasp     7/6/2018                  87   \n3                      Captain Marvel     3/8/2019                  79   \n3                             Endgame    4/26/2019                  94   \n3           Spider-Man: Far From Home     7/2/2019                  90   \n4                         Black Widow     7/9/2021                  79   \n4                           Shang-Chi     9/3/2021                  91   \n4                            Eternals    11/5/2021                  47   \n4             Spider-Man: No Way Home   12/17/2021                  93   \n\n       Audience Reception  Length       Budget Opening Weekend Gross  \\\nPhase                                                                  \n1                      91     126  186,000,000           102,118,668   \n1                      70     112  137,500,000            55,414,050   \n1                      71     124  170,000,000           128,122,480   \n1                      76     113  150,000,000            65,723,338   \n1                      75     124  140,000,000            65,058,524   \n1                      91     143  225,000,000           207,438,708   \n2                      78     130  200,000,000           174,144,585   \n2                      75     111  150,000,000            85,737,841   \n2                      92     135  170,000,000            95,023,721   \n2                      92     121  170,000,000            94,320,883   \n2                      83     141  365,000,000           191,271,109   \n2                      85     117  130,000,000            57,225,526   \n3                      89     146  250,000,000           179,139,142   \n3                      86     115  165,000,000            85,058,311   \n3                      87     135  200,000,000           146,510,104   \n3                      87     133  175,000,000           117,027,503   \n3                      87     130  180,000,000           122,744,989   \n3                      79     134  200,000,000           202,003,951   \n3                      91     149  300,000,000           257,698,183   \n3                      81     118  130,000,000            75,812,205   \n3                      45     124  175,000,000           153,433,423   \n3                      90     181  400,000,000           357,115,007   \n3                      95     129  160,000,000            92,579,212   \n4                      91     133  200,000,000            80,366,312   \n4                      98     133  150,000,000            75,388,688   \n4                      78     157  200,000,000            71,297,219   \n4                      98     148  200,000,000           260,138,569   \n\n      Domestic Gross Worldwide Gross  \nPhase                                 \n1        318,604,126     585,171,547  \n1        134,806,913     265,573,859  \n1        312,433,331     621,156,389  \n1        181,030,624     449,326,618  \n1        176,654,505     370,569,776  \n1        623,357,910   1,515,100,211  \n2        408,992,272   1,215,392,272  \n2        206,362,140     644,602,516  \n2        259,746,958     714,401,889  \n2        333,714,112     770,882,395  \n2        459,005,868   1,395,316,979  \n2        180,202,163     518,858,449  \n3        408,084,349   1,151,918,521  \n3        232,641,920     676,354,481  \n3        389,813,101     869,113,101  \n3        334,201,140     878,346,440  \n3        315,058,289     850,482,778  \n3        700,059,566   1,336,494,321  \n3        678,815,482   2,048,359,754  \n3        216,648,740     623,144,660  \n3        426,829,839   1,129,727,388  \n3        858,373,000   2,797,800,564  \n3        390,532,085   1,132,532,832  \n4        183,651,655     379,751,655  \n4        224,543,292     432,243,292  \n4        164,870,264     402,064,929  \n4        803,975,784   1,891,108,035  ",
      "text/html": "<div>\n<style scoped>\n    .dataframe tbody tr th:only-of-type {\n        vertical-align: middle;\n    }\n\n    .dataframe tbody tr th {\n        vertical-align: top;\n    }\n\n    .dataframe thead th {\n        text-align: right;\n    }\n</style>\n<table border=\"1\" class=\"dataframe\">\n  <thead>\n    <tr style=\"text-align: right;\">\n      <th></th>\n      <th>Film</th>\n      <th>Release Date</th>\n      <th>Critical Reception</th>\n      <th>Audience Reception</th>\n      <th>Length</th>\n      <th>Budget</th>\n      <th>Opening Weekend Gross</th>\n      <th>Domestic Gross</th>\n      <th>Worldwide Gross</th>\n    </tr>\n    <tr>\n      <th>Phase</th>\n      <th></th>\n      <th></th>\n      <th></th>\n      <th></th>\n      <th></th>\n      <th></th>\n      <th></th>\n      <th></th>\n      <th></th>\n    </tr>\n  </thead>\n  <tbody>\n    <tr>\n      <th>1</th>\n      <td>Iron Man</td>\n      <td>5/2/2008</td>\n      <td>94</td>\n      <td>91</td>\n      <td>126</td>\n      <td>186,000,000</td>\n      <td>102,118,668</td>\n      <td>318,604,126</td>\n      <td>585,171,547</td>\n    </tr>\n    <tr>\n      <th>1</th>\n      <td>The Incredible Hulk</td>\n      <td>6/13/2008</td>\n      <td>67</td>\n      <td>70</td>\n      <td>112</td>\n      <td>137,500,000</td>\n      <td>55,414,050</td>\n      <td>134,806,913</td>\n      <td>265,573,859</td>\n    </tr>\n    <tr>\n      <th>1</th>\n      <td>Iron Man 2</td>\n      <td>5/7/2010</td>\n      <td>72</td>\n      <td>71</td>\n      <td>124</td>\n      <td>170,000,000</td>\n      <td>128,122,480</td>\n      <td>312,433,331</td>\n      <td>621,156,389</td>\n    </tr>\n    <tr>\n      <th>1</th>\n      <td>Thor</td>\n      <td>5/6/2011</td>\n      <td>77</td>\n      <td>76</td>\n      <td>113</td>\n      <td>150,000,000</td>\n      <td>65,723,338</td>\n      <td>181,030,624</td>\n      <td>449,326,618</td>\n    </tr>\n    <tr>\n      <th>1</th>\n      <td>Captain America</td>\n      <td>7/22/2011</td>\n      <td>79</td>\n      <td>75</td>\n      <td>124</td>\n      <td>140,000,000</td>\n      <td>65,058,524</td>\n      <td>176,654,505</td>\n      <td>370,569,776</td>\n    </tr>\n    <tr>\n      <th>1</th>\n      <td>The Avengers</td>\n      <td>5/4/2012</td>\n      <td>91</td>\n      <td>91</td>\n      <td>143</td>\n      <td>225,000,000</td>\n      <td>207,438,708</td>\n      <td>623,357,910</td>\n      <td>1,515,100,211</td>\n    </tr>\n    <tr>\n      <th>2</th>\n      <td>Iron Man 3</td>\n      <td>5/3/2013</td>\n      <td>79</td>\n      <td>78</td>\n      <td>130</td>\n      <td>200,000,000</td>\n      <td>174,144,585</td>\n      <td>408,992,272</td>\n      <td>1,215,392,272</td>\n    </tr>\n    <tr>\n      <th>2</th>\n      <td>Thor: The Dark World</td>\n      <td>11/8/2013</td>\n      <td>66</td>\n      <td>75</td>\n      <td>111</td>\n      <td>150,000,000</td>\n      <td>85,737,841</td>\n      <td>206,362,140</td>\n      <td>644,602,516</td>\n    </tr>\n    <tr>\n      <th>2</th>\n      <td>The Winter Soldier</td>\n      <td>4/4/2014</td>\n      <td>90</td>\n      <td>92</td>\n      <td>135</td>\n      <td>170,000,000</td>\n      <td>95,023,721</td>\n      <td>259,746,958</td>\n      <td>714,401,889</td>\n    </tr>\n    <tr>\n      <th>2</th>\n      <td>Guardians of the Galaxy</td>\n      <td>8/1/2014</td>\n      <td>92</td>\n      <td>92</td>\n      <td>121</td>\n      <td>170,000,000</td>\n      <td>94,320,883</td>\n      <td>333,714,112</td>\n      <td>770,882,395</td>\n    </tr>\n    <tr>\n      <th>2</th>\n      <td>Age of Ultron</td>\n      <td>5/1/2015</td>\n      <td>76</td>\n      <td>83</td>\n      <td>141</td>\n      <td>365,000,000</td>\n      <td>191,271,109</td>\n      <td>459,005,868</td>\n      <td>1,395,316,979</td>\n    </tr>\n    <tr>\n      <th>2</th>\n      <td>Ant-Man</td>\n      <td>7/17/2015</td>\n      <td>83</td>\n      <td>85</td>\n      <td>117</td>\n      <td>130,000,000</td>\n      <td>57,225,526</td>\n      <td>180,202,163</td>\n      <td>518,858,449</td>\n    </tr>\n    <tr>\n      <th>3</th>\n      <td>Civil War</td>\n      <td>5/6/2016</td>\n      <td>90</td>\n      <td>89</td>\n      <td>146</td>\n      <td>250,000,000</td>\n      <td>179,139,142</td>\n      <td>408,084,349</td>\n      <td>1,151,918,521</td>\n    </tr>\n    <tr>\n      <th>3</th>\n      <td>Doctor Strange</td>\n      <td>11/4/2016</td>\n      <td>89</td>\n      <td>86</td>\n      <td>115</td>\n      <td>165,000,000</td>\n      <td>85,058,311</td>\n      <td>232,641,920</td>\n      <td>676,354,481</td>\n    </tr>\n    <tr>\n      <th>3</th>\n      <td>Guardians of the Galaxy Vol. 2</td>\n      <td>5/5/2017</td>\n      <td>85</td>\n      <td>87</td>\n      <td>135</td>\n      <td>200,000,000</td>\n      <td>146,510,104</td>\n      <td>389,813,101</td>\n      <td>869,113,101</td>\n    </tr>\n    <tr>\n      <th>3</th>\n      <td>Spider-Man: Homecoming</td>\n      <td>7/7/2017</td>\n      <td>92</td>\n      <td>87</td>\n      <td>133</td>\n      <td>175,000,000</td>\n      <td>117,027,503</td>\n      <td>334,201,140</td>\n      <td>878,346,440</td>\n    </tr>\n    <tr>\n      <th>3</th>\n      <td>Thor: Ragnarok</td>\n      <td>11/3/2017</td>\n      <td>93</td>\n      <td>87</td>\n      <td>130</td>\n      <td>180,000,000</td>\n      <td>122,744,989</td>\n      <td>315,058,289</td>\n      <td>850,482,778</td>\n    </tr>\n    <tr>\n      <th>3</th>\n      <td>Black Panther</td>\n      <td>2/16/2018</td>\n      <td>96</td>\n      <td>79</td>\n      <td>134</td>\n      <td>200,000,000</td>\n      <td>202,003,951</td>\n      <td>700,059,566</td>\n      <td>1,336,494,321</td>\n    </tr>\n    <tr>\n      <th>3</th>\n      <td>Infinity War</td>\n      <td>4/27/2018</td>\n      <td>85</td>\n      <td>91</td>\n      <td>149</td>\n      <td>300,000,000</td>\n      <td>257,698,183</td>\n      <td>678,815,482</td>\n      <td>2,048,359,754</td>\n    </tr>\n    <tr>\n      <th>3</th>\n      <td>Ant-Man and the Wasp</td>\n      <td>7/6/2018</td>\n      <td>87</td>\n      <td>81</td>\n      <td>118</td>\n      <td>130,000,000</td>\n      <td>75,812,205</td>\n      <td>216,648,740</td>\n      <td>623,144,660</td>\n    </tr>\n    <tr>\n      <th>3</th>\n      <td>Captain Marvel</td>\n      <td>3/8/2019</td>\n      <td>79</td>\n      <td>45</td>\n      <td>124</td>\n      <td>175,000,000</td>\n      <td>153,433,423</td>\n      <td>426,829,839</td>\n      <td>1,129,727,388</td>\n    </tr>\n    <tr>\n      <th>3</th>\n      <td>Endgame</td>\n      <td>4/26/2019</td>\n      <td>94</td>\n      <td>90</td>\n      <td>181</td>\n      <td>400,000,000</td>\n      <td>357,115,007</td>\n      <td>858,373,000</td>\n      <td>2,797,800,564</td>\n    </tr>\n    <tr>\n      <th>3</th>\n      <td>Spider-Man: Far From Home</td>\n      <td>7/2/2019</td>\n      <td>90</td>\n      <td>95</td>\n      <td>129</td>\n      <td>160,000,000</td>\n      <td>92,579,212</td>\n      <td>390,532,085</td>\n      <td>1,132,532,832</td>\n    </tr>\n    <tr>\n      <th>4</th>\n      <td>Black Widow</td>\n      <td>7/9/2021</td>\n      <td>79</td>\n      <td>91</td>\n      <td>133</td>\n      <td>200,000,000</td>\n      <td>80,366,312</td>\n      <td>183,651,655</td>\n      <td>379,751,655</td>\n    </tr>\n    <tr>\n      <th>4</th>\n      <td>Shang-Chi</td>\n      <td>9/3/2021</td>\n      <td>91</td>\n      <td>98</td>\n      <td>133</td>\n      <td>150,000,000</td>\n      <td>75,388,688</td>\n      <td>224,543,292</td>\n      <td>432,243,292</td>\n    </tr>\n    <tr>\n      <th>4</th>\n      <td>Eternals</td>\n      <td>11/5/2021</td>\n      <td>47</td>\n      <td>78</td>\n      <td>157</td>\n      <td>200,000,000</td>\n      <td>71,297,219</td>\n      <td>164,870,264</td>\n      <td>402,064,929</td>\n    </tr>\n    <tr>\n      <th>4</th>\n      <td>Spider-Man: No Way Home</td>\n      <td>12/17/2021</td>\n      <td>93</td>\n      <td>98</td>\n      <td>148</td>\n      <td>200,000,000</td>\n      <td>260,138,569</td>\n      <td>803,975,784</td>\n      <td>1,891,108,035</td>\n    </tr>\n  </tbody>\n</table>\n</div>"
     },
     "execution_count": 5,
     "metadata": {},
     "output_type": "execute_result"
    }
   ],
   "source": [
    "mcu = mcu.set_index('Phase')\n",
    "mcu"
   ]
  },
  {
   "cell_type": "markdown",
   "metadata": {
    "pycharm": {
     "name": "#%% md\n"
    }
   },
   "source": [
    "Converting currency values to int for later analysis"
   ]
  },
  {
   "cell_type": "code",
   "execution_count": 6,
   "outputs": [],
   "source": [
    "mcu['Budget'] = mcu['Budget'].replace(',','', regex=True).astype('int')\n",
    "mcu['Opening Weekend Gross'] = mcu['Opening Weekend Gross'].replace(',','', regex=True).astype('int')\n",
    "mcu['Domestic Gross'] = mcu['Domestic Gross'].replace(',','', regex=True).astype('int')\n",
    "mcu['Worldwide Gross'] = mcu['Worldwide Gross'].replace(',','', regex=True).astype('int')\n"
   ],
   "metadata": {
    "collapsed": false,
    "pycharm": {
     "name": "#%%\n"
    }
   }
  },
  {
   "cell_type": "markdown",
   "metadata": {
    "pycharm": {
     "name": "#%% md\n"
    }
   },
   "source": [
    "Breaking the larger table into smaller tables, based on the phase of the MCU the film belongs to"
   ]
  },
  {
   "cell_type": "code",
   "execution_count": 7,
   "metadata": {
    "pycharm": {
     "name": "#%%\n"
    }
   },
   "outputs": [],
   "source": [
    "# phase1 = mcu[(mcu['Phase'] == 1)]\n",
    "# phase2 = mcu[(mcu['Phase'] == 2)]\n",
    "# phase3 = mcu[(mcu['Phase'] == 3)]\n",
    "# phase4 = mcu[(mcu['Phase'] == 4)]"
   ]
  },
  {
   "cell_type": "markdown",
   "metadata": {
    "pycharm": {
     "name": "#%% md\n"
    }
   },
   "source": [
    "# Fuckin about"
   ]
  },
  {
   "cell_type": "markdown",
   "metadata": {
    "pycharm": {
     "name": "#%% md\n"
    }
   },
   "source": [
    "Let's visualize audience vs. critical reaction to each movie\n",
    "___"
   ]
  },
  {
   "cell_type": "code",
   "execution_count": 8,
   "metadata": {
    "pycharm": {
     "name": "#%%\n"
    }
   },
   "outputs": [],
   "source": [
    "# r1 = phase1.drop([\"Release Date\",\"Length\",\"Budget\"], axis=1)\n",
    "# r2 = phase2.drop([\"Release Date\",\"Length\",\"Budget\"], axis=1)\n",
    "# r3 = phase3.drop([\"Release Date\",\"Length\",\"Budget\"], axis=1)\n",
    "# r4 = phase4.drop([\"Release Date\",\"Length\",\"Budget\"], axis=1)\n",
    "#\n",
    "# reception(r1)\n",
    "# reception(r2)\n",
    "# reception(r3)\n",
    "# reception(r4)"
   ]
  },
  {
   "cell_type": "code",
   "execution_count": 9,
   "outputs": [
    {
     "ename": "AttributeError",
     "evalue": "'Series' object has no attribute 'set_index'",
     "output_type": "error",
     "traceback": [
      "\u001B[0;31m---------------------------------------------------------------------------\u001B[0m",
      "\u001B[0;31mAttributeError\u001B[0m                            Traceback (most recent call last)",
      "\u001B[0;32m<ipython-input-9-50743f74db8a>\u001B[0m in \u001B[0;36m<module>\u001B[0;34m\u001B[0m\n\u001B[0;32m----> 1\u001B[0;31m \u001B[0mrec\u001B[0m\u001B[0;34m(\u001B[0m\u001B[0;36m1\u001B[0m\u001B[0;34m)\u001B[0m\u001B[0;34m\u001B[0m\u001B[0;34m\u001B[0m\u001B[0m\n\u001B[0m",
      "\u001B[0;32m~/Documents/Datasets/MCU/mcu_functions.py\u001B[0m in \u001B[0;36mrec\u001B[0;34m(phase)\u001B[0m\n\u001B[1;32m      8\u001B[0m \u001B[0;34m\u001B[0m\u001B[0m\n\u001B[1;32m      9\u001B[0m \u001B[0;32mdef\u001B[0m \u001B[0mrec\u001B[0m\u001B[0;34m(\u001B[0m\u001B[0mphase\u001B[0m\u001B[0;34m)\u001B[0m\u001B[0;34m:\u001B[0m\u001B[0;34m\u001B[0m\u001B[0;34m\u001B[0m\u001B[0m\n\u001B[0;32m---> 10\u001B[0;31m     \u001B[0mx\u001B[0m \u001B[0;34m=\u001B[0m \u001B[0mmcu\u001B[0m\u001B[0;34m.\u001B[0m\u001B[0mloc\u001B[0m\u001B[0;34m[\u001B[0m\u001B[0mphase\u001B[0m\u001B[0;34m]\u001B[0m\u001B[0;34m.\u001B[0m\u001B[0mset_index\u001B[0m\u001B[0;34m(\u001B[0m\u001B[0;34m'Film'\u001B[0m\u001B[0;34m)\u001B[0m\u001B[0;34m\u001B[0m\u001B[0;34m\u001B[0m\u001B[0m\n\u001B[0m\u001B[1;32m     11\u001B[0m     \u001B[0mfilm\u001B[0m \u001B[0;34m=\u001B[0m \u001B[0mx\u001B[0m\u001B[0;34m.\u001B[0m\u001B[0mindex\u001B[0m\u001B[0;34m.\u001B[0m\u001B[0mvalues\u001B[0m\u001B[0;34m\u001B[0m\u001B[0;34m\u001B[0m\u001B[0m\n\u001B[1;32m     12\u001B[0m     \u001B[0mcrit\u001B[0m \u001B[0;34m=\u001B[0m \u001B[0mx\u001B[0m\u001B[0;34m[\u001B[0m\u001B[0;34m'Critical Reception'\u001B[0m\u001B[0;34m]\u001B[0m\u001B[0;34m\u001B[0m\u001B[0;34m\u001B[0m\u001B[0m\n",
      "\u001B[0;32m~/opt/anaconda3/lib/python3.8/site-packages/pandas/core/generic.py\u001B[0m in \u001B[0;36m__getattr__\u001B[0;34m(self, name)\u001B[0m\n\u001B[1;32m   5137\u001B[0m             \u001B[0;32mif\u001B[0m \u001B[0mself\u001B[0m\u001B[0;34m.\u001B[0m\u001B[0m_info_axis\u001B[0m\u001B[0;34m.\u001B[0m\u001B[0m_can_hold_identifiers_and_holds_name\u001B[0m\u001B[0;34m(\u001B[0m\u001B[0mname\u001B[0m\u001B[0;34m)\u001B[0m\u001B[0;34m:\u001B[0m\u001B[0;34m\u001B[0m\u001B[0;34m\u001B[0m\u001B[0m\n\u001B[1;32m   5138\u001B[0m                 \u001B[0;32mreturn\u001B[0m \u001B[0mself\u001B[0m\u001B[0;34m[\u001B[0m\u001B[0mname\u001B[0m\u001B[0;34m]\u001B[0m\u001B[0;34m\u001B[0m\u001B[0;34m\u001B[0m\u001B[0m\n\u001B[0;32m-> 5139\u001B[0;31m             \u001B[0;32mreturn\u001B[0m \u001B[0mobject\u001B[0m\u001B[0;34m.\u001B[0m\u001B[0m__getattribute__\u001B[0m\u001B[0;34m(\u001B[0m\u001B[0mself\u001B[0m\u001B[0;34m,\u001B[0m \u001B[0mname\u001B[0m\u001B[0;34m)\u001B[0m\u001B[0;34m\u001B[0m\u001B[0;34m\u001B[0m\u001B[0m\n\u001B[0m\u001B[1;32m   5140\u001B[0m \u001B[0;34m\u001B[0m\u001B[0m\n\u001B[1;32m   5141\u001B[0m     \u001B[0;32mdef\u001B[0m \u001B[0m__setattr__\u001B[0m\u001B[0;34m(\u001B[0m\u001B[0mself\u001B[0m\u001B[0;34m,\u001B[0m \u001B[0mname\u001B[0m\u001B[0;34m:\u001B[0m \u001B[0mstr\u001B[0m\u001B[0;34m,\u001B[0m \u001B[0mvalue\u001B[0m\u001B[0;34m)\u001B[0m \u001B[0;34m->\u001B[0m \u001B[0;32mNone\u001B[0m\u001B[0;34m:\u001B[0m\u001B[0;34m\u001B[0m\u001B[0;34m\u001B[0m\u001B[0m\n",
      "\u001B[0;31mAttributeError\u001B[0m: 'Series' object has no attribute 'set_index'"
     ]
    }
   ],
   "source": [
    "rec(1)"
   ],
   "metadata": {
    "collapsed": false,
    "pycharm": {
     "name": "#%%\n"
    }
   }
  },
  {
   "cell_type": "code",
   "execution_count": null,
   "outputs": [],
   "source": [],
   "metadata": {
    "collapsed": false,
    "pycharm": {
     "name": "#%%\n"
    }
   }
  }
 ],
 "metadata": {
  "kernelspec": {
   "display_name": "Python 3",
   "language": "python",
   "name": "python3"
  },
  "language_info": {
   "codemirror_mode": {
    "name": "ipython",
    "version": 3
   },
   "file_extension": ".py",
   "mimetype": "text/x-python",
   "name": "python",
   "nbconvert_exporter": "python",
   "pygments_lexer": "ipython3",
   "version": "3.8.5"
  }
 },
 "nbformat": 4,
 "nbformat_minor": 1
}